{
 "cells": [
  {
   "cell_type": "markdown",
   "metadata": {},
   "source": [
    "# 🚴 Citi Bike"
   ]
  },
  {
   "cell_type": "markdown",
   "metadata": {},
   "source": [
    "This project includes data from 2019, 2020, and January-April of 2021, downloaded from here: https://s3.amazonaws.com/tripdata/index.html "
   ]
  },
  {
   "cell_type": "markdown",
   "metadata": {},
   "source": [
    "| Column | Definition |\n",
    "|:---|:---|\n",
    "| **tripduration** | Duration in Seconds |\n",
    "| **starttime** | Start Time and Date |\n",
    "| **stoptime** | Stop Time and Date |\n",
    "| **start station id** | ID of Start Station |\n",
    "| **start station name** | Name of Start Station|\n",
    "| **start station latitude** | Latitude of start station |\n",
    "| **start station longitude** | Longitude of start station |\n",
    "| **end station id** | ID of End Station |\n",
    "| **end station name** | Name of End Station |\n",
    "| **end station latitude** | Latitude of End station |\n",
    "| **end station longitude** | Longitude of End station |\n",
    "| **bikeid** | ID of Bicycle |\n",
    "| **usertype** | Customer = 24-hour pass or 3-day pass user; Subscriber = Annual Member |\n",
    "| **gender** | 0=unknown; 1=male; 2=female |\n",
    "| **birthyear** | Year of Birth |\n"
   ]
  },
  {
   "cell_type": "markdown",
   "metadata": {},
   "source": [
    "# 📑 Importing & Merging"
   ]
  },
  {
   "cell_type": "code",
   "execution_count": 66,
   "metadata": {
    "scrolled": true
   },
   "outputs": [
    {
     "name": "stdout",
     "output_type": "stream",
     "text": [
      "INFO: Pandarallel will run on 8 workers.\n",
      "INFO: Pandarallel will use Memory file system to transfer data between the main process and workers.\n"
     ]
    }
   ],
   "source": [
    "# Importing libraries\n",
    "import pandas as pd\n",
    "import numpy as np\n",
    "import matplotlib.pyplot as plt\n",
    "import seaborn as sns\n",
    "import os\n",
    "import plotly as pl\n",
    "import plotly.express as px\n",
    "from pandarallel import pandarallel\n",
    "pandarallel.initialize(progress_bar=False)"
   ]
  },
  {
   "cell_type": "code",
   "execution_count": 67,
   "metadata": {
    "scrolled": true
   },
   "outputs": [],
   "source": [
    "# Importing datasets\n",
    "dfs = []\n",
    "\n",
    "dtype = {'tripduration': 'int32', 'start station id': 'float32', 'start station name': 'object', \n",
    "         'start station latitude': 'float32', 'start station longitude': 'float32',\n",
    "        'end station id': 'float32', 'end station name': 'object',\n",
    "        'end station latitude': 'float32', 'end station longitude': 'float32',\n",
    "        'bikeid': 'int32', 'usertype': 'category', 'birth year': 'int16', 'gender': 'int8'}\n",
    "parse_dates = ['starttime', 'stoptime']\n",
    "\n",
    "for directory, sub, files in os.walk(os.getcwd()):\n",
    "    for f in files:\n",
    "        if f.endswith('.csv'):\n",
    "            dfs.append(pd.read_csv(f, dtype=dtype, parse_dates=parse_dates, keep_default_na=True))"
   ]
  },
  {
   "cell_type": "code",
   "execution_count": 68,
   "metadata": {},
   "outputs": [],
   "source": [
    "# Merging the list of dataframes into one dataframe\n",
    "df = pd.concat(dfs, ignore_index=True)"
   ]
  },
  {
   "cell_type": "code",
   "execution_count": 69,
   "metadata": {},
   "outputs": [],
   "source": [
    "# Creating a column called 'index'\n",
    "df = df.reset_index()"
   ]
  },
  {
   "cell_type": "markdown",
   "metadata": {},
   "source": [
    "# 🧭 Exploring & Pre-Processing"
   ]
  },
  {
   "cell_type": "code",
   "execution_count": 70,
   "metadata": {
    "scrolled": true
   },
   "outputs": [
    {
     "data": {
      "text/html": [
       "<div>\n",
       "<style scoped>\n",
       "    .dataframe tbody tr th:only-of-type {\n",
       "        vertical-align: middle;\n",
       "    }\n",
       "\n",
       "    .dataframe tbody tr th {\n",
       "        vertical-align: top;\n",
       "    }\n",
       "\n",
       "    .dataframe thead th {\n",
       "        text-align: right;\n",
       "    }\n",
       "</style>\n",
       "<table border=\"1\" class=\"dataframe\">\n",
       "  <thead>\n",
       "    <tr style=\"text-align: right;\">\n",
       "      <th></th>\n",
       "      <th>index</th>\n",
       "      <th>tripduration</th>\n",
       "      <th>start station id</th>\n",
       "      <th>start station latitude</th>\n",
       "      <th>start station longitude</th>\n",
       "      <th>end station id</th>\n",
       "      <th>end station latitude</th>\n",
       "      <th>end station longitude</th>\n",
       "      <th>bikeid</th>\n",
       "      <th>birth year</th>\n",
       "      <th>gender</th>\n",
       "    </tr>\n",
       "  </thead>\n",
       "  <tbody>\n",
       "    <tr>\n",
       "      <th>count</th>\n",
       "      <td>2.094501e+07</td>\n",
       "      <td>2.094501e+07</td>\n",
       "      <td>2.094483e+07</td>\n",
       "      <td>2.094501e+07</td>\n",
       "      <td>2.094501e+07</td>\n",
       "      <td>2.094483e+07</td>\n",
       "      <td>2.094501e+07</td>\n",
       "      <td>2.094501e+07</td>\n",
       "      <td>2.094501e+07</td>\n",
       "      <td>2.094501e+07</td>\n",
       "      <td>2.094501e+07</td>\n",
       "    </tr>\n",
       "    <tr>\n",
       "      <th>mean</th>\n",
       "      <td>1.047250e+07</td>\n",
       "      <td>9.888089e+02</td>\n",
       "      <td>1.694271e+03</td>\n",
       "      <td>4.073690e+01</td>\n",
       "      <td>-7.398415e+01</td>\n",
       "      <td>1.685378e+03</td>\n",
       "      <td>4.073653e+01</td>\n",
       "      <td>-7.398427e+01</td>\n",
       "      <td>2.989206e+04</td>\n",
       "      <td>1.980198e+03</td>\n",
       "      <td>1.161028e+00</td>\n",
       "    </tr>\n",
       "    <tr>\n",
       "      <th>std</th>\n",
       "      <td>6.046303e+06</td>\n",
       "      <td>1.072308e+04</td>\n",
       "      <td>1.480462e+03</td>\n",
       "      <td>3.021452e-02</td>\n",
       "      <td>2.148663e-02</td>\n",
       "      <td>1.480193e+03</td>\n",
       "      <td>3.259559e-02</td>\n",
       "      <td>3.140252e-02</td>\n",
       "      <td>7.682836e+03</td>\n",
       "      <td>1.211329e+01</td>\n",
       "      <td>5.413831e-01</td>\n",
       "    </tr>\n",
       "    <tr>\n",
       "      <th>min</th>\n",
       "      <td>0.000000e+00</td>\n",
       "      <td>6.100000e+01</td>\n",
       "      <td>7.200000e+01</td>\n",
       "      <td>4.065540e+01</td>\n",
       "      <td>-7.408364e+01</td>\n",
       "      <td>7.200000e+01</td>\n",
       "      <td>0.000000e+00</td>\n",
       "      <td>-7.408364e+01</td>\n",
       "      <td>1.452900e+04</td>\n",
       "      <td>1.857000e+03</td>\n",
       "      <td>0.000000e+00</td>\n",
       "    </tr>\n",
       "    <tr>\n",
       "      <th>25%</th>\n",
       "      <td>5.236252e+06</td>\n",
       "      <td>3.620000e+02</td>\n",
       "      <td>3.850000e+02</td>\n",
       "      <td>4.071755e+01</td>\n",
       "      <td>-7.399601e+01</td>\n",
       "      <td>3.820000e+02</td>\n",
       "      <td>4.071755e+01</td>\n",
       "      <td>-7.399662e+01</td>\n",
       "      <td>2.546800e+04</td>\n",
       "      <td>1.970000e+03</td>\n",
       "      <td>1.000000e+00</td>\n",
       "    </tr>\n",
       "    <tr>\n",
       "      <th>50%</th>\n",
       "      <td>1.047250e+07</td>\n",
       "      <td>6.150000e+02</td>\n",
       "      <td>5.170000e+02</td>\n",
       "      <td>4.073705e+01</td>\n",
       "      <td>-7.398584e+01</td>\n",
       "      <td>5.160000e+02</td>\n",
       "      <td>4.073653e+01</td>\n",
       "      <td>-7.398627e+01</td>\n",
       "      <td>3.105200e+04</td>\n",
       "      <td>1.983000e+03</td>\n",
       "      <td>1.000000e+00</td>\n",
       "    </tr>\n",
       "    <tr>\n",
       "      <th>75%</th>\n",
       "      <td>1.570876e+07</td>\n",
       "      <td>1.082000e+03</td>\n",
       "      <td>3.295000e+03</td>\n",
       "      <td>4.075715e+01</td>\n",
       "      <td>-7.397188e+01</td>\n",
       "      <td>3.294000e+03</td>\n",
       "      <td>4.075660e+01</td>\n",
       "      <td>-7.397208e+01</td>\n",
       "      <td>3.515600e+04</td>\n",
       "      <td>1.990000e+03</td>\n",
       "      <td>1.000000e+00</td>\n",
       "    </tr>\n",
       "    <tr>\n",
       "      <th>max</th>\n",
       "      <td>2.094501e+07</td>\n",
       "      <td>3.812666e+06</td>\n",
       "      <td>3.911000e+03</td>\n",
       "      <td>4.086900e+01</td>\n",
       "      <td>-7.387800e+01</td>\n",
       "      <td>4.282000e+03</td>\n",
       "      <td>4.086900e+01</td>\n",
       "      <td>0.000000e+00</td>\n",
       "      <td>5.529800e+04</td>\n",
       "      <td>2.004000e+03</td>\n",
       "      <td>2.000000e+00</td>\n",
       "    </tr>\n",
       "  </tbody>\n",
       "</table>\n",
       "</div>"
      ],
      "text/plain": [
       "              index  tripduration  start station id  start station latitude  \\\n",
       "count  2.094501e+07  2.094501e+07      2.094483e+07            2.094501e+07   \n",
       "mean   1.047250e+07  9.888089e+02      1.694271e+03            4.073690e+01   \n",
       "std    6.046303e+06  1.072308e+04      1.480462e+03            3.021452e-02   \n",
       "min    0.000000e+00  6.100000e+01      7.200000e+01            4.065540e+01   \n",
       "25%    5.236252e+06  3.620000e+02      3.850000e+02            4.071755e+01   \n",
       "50%    1.047250e+07  6.150000e+02      5.170000e+02            4.073705e+01   \n",
       "75%    1.570876e+07  1.082000e+03      3.295000e+03            4.075715e+01   \n",
       "max    2.094501e+07  3.812666e+06      3.911000e+03            4.086900e+01   \n",
       "\n",
       "       start station longitude  end station id  end station latitude  \\\n",
       "count             2.094501e+07    2.094483e+07          2.094501e+07   \n",
       "mean             -7.398415e+01    1.685378e+03          4.073653e+01   \n",
       "std               2.148663e-02    1.480193e+03          3.259559e-02   \n",
       "min              -7.408364e+01    7.200000e+01          0.000000e+00   \n",
       "25%              -7.399601e+01    3.820000e+02          4.071755e+01   \n",
       "50%              -7.398584e+01    5.160000e+02          4.073653e+01   \n",
       "75%              -7.397188e+01    3.294000e+03          4.075660e+01   \n",
       "max              -7.387800e+01    4.282000e+03          4.086900e+01   \n",
       "\n",
       "       end station longitude        bikeid    birth year        gender  \n",
       "count           2.094501e+07  2.094501e+07  2.094501e+07  2.094501e+07  \n",
       "mean           -7.398427e+01  2.989206e+04  1.980198e+03  1.161028e+00  \n",
       "std             3.140252e-02  7.682836e+03  1.211329e+01  5.413831e-01  \n",
       "min            -7.408364e+01  1.452900e+04  1.857000e+03  0.000000e+00  \n",
       "25%            -7.399662e+01  2.546800e+04  1.970000e+03  1.000000e+00  \n",
       "50%            -7.398627e+01  3.105200e+04  1.983000e+03  1.000000e+00  \n",
       "75%            -7.397208e+01  3.515600e+04  1.990000e+03  1.000000e+00  \n",
       "max             0.000000e+00  5.529800e+04  2.004000e+03  2.000000e+00  "
      ]
     },
     "execution_count": 70,
     "metadata": {},
     "output_type": "execute_result"
    }
   ],
   "source": [
    "df.describe()"
   ]
  },
  {
   "cell_type": "markdown",
   "metadata": {},
   "source": [
    "Certain columns will need cleaning:\n",
    "- Minimum 'birth year' is 1857\n",
    "- Max 'trip duration' is 3812666 seconds, which is over 1,000 hours\n",
    "- There are potentially nulls in the dataframe"
   ]
  },
  {
   "cell_type": "code",
   "execution_count": 71,
   "metadata": {
    "scrolled": true
   },
   "outputs": [
    {
     "name": "stdout",
     "output_type": "stream",
     "text": [
      "<class 'pandas.core.frame.DataFrame'>\n",
      "RangeIndex: 20945009 entries, 0 to 20945008\n",
      "Data columns (total 16 columns):\n",
      " #   Column                   Dtype         \n",
      "---  ------                   -----         \n",
      " 0   index                    int64         \n",
      " 1   tripduration             int32         \n",
      " 2   starttime                datetime64[ns]\n",
      " 3   stoptime                 datetime64[ns]\n",
      " 4   start station id         float32       \n",
      " 5   start station name       object        \n",
      " 6   start station latitude   float32       \n",
      " 7   start station longitude  float32       \n",
      " 8   end station id           float32       \n",
      " 9   end station name         object        \n",
      " 10  end station latitude     float32       \n",
      " 11  end station longitude    float32       \n",
      " 12  bikeid                   int32         \n",
      " 13  usertype                 category      \n",
      " 14  birth year               int16         \n",
      " 15  gender                   int8          \n",
      "dtypes: category(1), datetime64[ns](2), float32(6), int16(1), int32(2), int64(1), int8(1), object(2)\n",
      "memory usage: 1.5+ GB\n"
     ]
    }
   ],
   "source": [
    "df.info()"
   ]
  },
  {
   "cell_type": "markdown",
   "metadata": {},
   "source": [
    "# 🧹 Cleaning"
   ]
  },
  {
   "cell_type": "markdown",
   "metadata": {},
   "source": [
    "## 😶 Null Values"
   ]
  },
  {
   "cell_type": "code",
   "execution_count": 72,
   "metadata": {},
   "outputs": [
    {
     "data": {
      "text/plain": [
       "True"
      ]
     },
     "execution_count": 72,
     "metadata": {},
     "output_type": "execute_result"
    }
   ],
   "source": [
    "# Are there nulls in the dataframe?\n",
    "df.isnull().values.any()"
   ]
  },
  {
   "cell_type": "code",
   "execution_count": 73,
   "metadata": {
    "scrolled": false
   },
   "outputs": [
    {
     "data": {
      "text/plain": [
       "start station id      180\n",
       "start station name    180\n",
       "end station id        180\n",
       "end station name      180\n",
       "dtype: int64"
      ]
     },
     "execution_count": 73,
     "metadata": {},
     "output_type": "execute_result"
    }
   ],
   "source": [
    "# Which columns have nulls, and how many?\n",
    "null_columns=df.columns[df.isnull().any()]\n",
    "df[null_columns].isnull().sum()"
   ]
  },
  {
   "cell_type": "code",
   "execution_count": 74,
   "metadata": {},
   "outputs": [
    {
     "data": {
      "text/html": [
       "<div>\n",
       "<style scoped>\n",
       "    .dataframe tbody tr th:only-of-type {\n",
       "        vertical-align: middle;\n",
       "    }\n",
       "\n",
       "    .dataframe tbody tr th {\n",
       "        vertical-align: top;\n",
       "    }\n",
       "\n",
       "    .dataframe thead th {\n",
       "        text-align: right;\n",
       "    }\n",
       "</style>\n",
       "<table border=\"1\" class=\"dataframe\">\n",
       "  <thead>\n",
       "    <tr style=\"text-align: right;\">\n",
       "      <th></th>\n",
       "      <th>index</th>\n",
       "      <th>tripduration</th>\n",
       "      <th>starttime</th>\n",
       "      <th>stoptime</th>\n",
       "      <th>start station id</th>\n",
       "      <th>start station name</th>\n",
       "      <th>start station latitude</th>\n",
       "      <th>start station longitude</th>\n",
       "      <th>end station id</th>\n",
       "      <th>end station name</th>\n",
       "      <th>end station latitude</th>\n",
       "      <th>end station longitude</th>\n",
       "      <th>bikeid</th>\n",
       "      <th>usertype</th>\n",
       "      <th>birth year</th>\n",
       "      <th>gender</th>\n",
       "    </tr>\n",
       "  </thead>\n",
       "  <tbody>\n",
       "    <tr>\n",
       "      <th>44726</th>\n",
       "      <td>44726</td>\n",
       "      <td>1949</td>\n",
       "      <td>2019-02-02 16:44:18.768</td>\n",
       "      <td>2019-02-02 17:16:48.689</td>\n",
       "      <td>NaN</td>\n",
       "      <td>NaN</td>\n",
       "      <td>40.841999</td>\n",
       "      <td>-73.880997</td>\n",
       "      <td>NaN</td>\n",
       "      <td>NaN</td>\n",
       "      <td>40.856998</td>\n",
       "      <td>-73.889999</td>\n",
       "      <td>34481</td>\n",
       "      <td>Subscriber</td>\n",
       "      <td>1987</td>\n",
       "      <td>1</td>\n",
       "    </tr>\n",
       "    <tr>\n",
       "      <th>45855</th>\n",
       "      <td>45855</td>\n",
       "      <td>220</td>\n",
       "      <td>2019-02-02 17:22:12.290</td>\n",
       "      <td>2019-02-02 17:25:53.089</td>\n",
       "      <td>NaN</td>\n",
       "      <td>NaN</td>\n",
       "      <td>40.856998</td>\n",
       "      <td>-73.889999</td>\n",
       "      <td>NaN</td>\n",
       "      <td>NaN</td>\n",
       "      <td>40.856998</td>\n",
       "      <td>-73.889999</td>\n",
       "      <td>34481</td>\n",
       "      <td>Subscriber</td>\n",
       "      <td>1987</td>\n",
       "      <td>1</td>\n",
       "    </tr>\n",
       "    <tr>\n",
       "      <th>46234</th>\n",
       "      <td>46234</td>\n",
       "      <td>413</td>\n",
       "      <td>2019-02-02 17:38:30.089</td>\n",
       "      <td>2019-02-02 17:45:23.991</td>\n",
       "      <td>NaN</td>\n",
       "      <td>NaN</td>\n",
       "      <td>40.862999</td>\n",
       "      <td>-73.889999</td>\n",
       "      <td>NaN</td>\n",
       "      <td>NaN</td>\n",
       "      <td>40.860001</td>\n",
       "      <td>-73.889999</td>\n",
       "      <td>34550</td>\n",
       "      <td>Subscriber</td>\n",
       "      <td>1987</td>\n",
       "      <td>1</td>\n",
       "    </tr>\n",
       "    <tr>\n",
       "      <th>70163</th>\n",
       "      <td>70163</td>\n",
       "      <td>5651</td>\n",
       "      <td>2019-02-03 15:35:24.989</td>\n",
       "      <td>2019-02-03 17:09:36.271</td>\n",
       "      <td>NaN</td>\n",
       "      <td>NaN</td>\n",
       "      <td>40.856998</td>\n",
       "      <td>-73.880997</td>\n",
       "      <td>NaN</td>\n",
       "      <td>NaN</td>\n",
       "      <td>40.856998</td>\n",
       "      <td>-73.880997</td>\n",
       "      <td>34550</td>\n",
       "      <td>Subscriber</td>\n",
       "      <td>1969</td>\n",
       "      <td>1</td>\n",
       "    </tr>\n",
       "    <tr>\n",
       "      <th>81579</th>\n",
       "      <td>81579</td>\n",
       "      <td>566</td>\n",
       "      <td>2019-02-03 21:50:12.087</td>\n",
       "      <td>2019-02-03 21:59:38.091</td>\n",
       "      <td>NaN</td>\n",
       "      <td>NaN</td>\n",
       "      <td>40.856998</td>\n",
       "      <td>-73.880997</td>\n",
       "      <td>NaN</td>\n",
       "      <td>NaN</td>\n",
       "      <td>40.862999</td>\n",
       "      <td>-73.889999</td>\n",
       "      <td>34550</td>\n",
       "      <td>Subscriber</td>\n",
       "      <td>1994</td>\n",
       "      <td>1</td>\n",
       "    </tr>\n",
       "    <tr>\n",
       "      <th>...</th>\n",
       "      <td>...</td>\n",
       "      <td>...</td>\n",
       "      <td>...</td>\n",
       "      <td>...</td>\n",
       "      <td>...</td>\n",
       "      <td>...</td>\n",
       "      <td>...</td>\n",
       "      <td>...</td>\n",
       "      <td>...</td>\n",
       "      <td>...</td>\n",
       "      <td>...</td>\n",
       "      <td>...</td>\n",
       "      <td>...</td>\n",
       "      <td>...</td>\n",
       "      <td>...</td>\n",
       "      <td>...</td>\n",
       "    </tr>\n",
       "    <tr>\n",
       "      <th>20606628</th>\n",
       "      <td>20606628</td>\n",
       "      <td>189</td>\n",
       "      <td>2019-01-21 15:52:59.816</td>\n",
       "      <td>2019-01-21 15:56:09.013</td>\n",
       "      <td>NaN</td>\n",
       "      <td>NaN</td>\n",
       "      <td>40.862999</td>\n",
       "      <td>-73.889999</td>\n",
       "      <td>NaN</td>\n",
       "      <td>NaN</td>\n",
       "      <td>40.862999</td>\n",
       "      <td>-73.889999</td>\n",
       "      <td>34550</td>\n",
       "      <td>Subscriber</td>\n",
       "      <td>1986</td>\n",
       "      <td>1</td>\n",
       "    </tr>\n",
       "    <tr>\n",
       "      <th>20765297</th>\n",
       "      <td>20765297</td>\n",
       "      <td>759</td>\n",
       "      <td>2019-01-26 22:37:57.027</td>\n",
       "      <td>2019-01-26 22:50:36.428</td>\n",
       "      <td>NaN</td>\n",
       "      <td>NaN</td>\n",
       "      <td>40.854000</td>\n",
       "      <td>-73.892998</td>\n",
       "      <td>NaN</td>\n",
       "      <td>NaN</td>\n",
       "      <td>40.851002</td>\n",
       "      <td>-73.902000</td>\n",
       "      <td>34892</td>\n",
       "      <td>Subscriber</td>\n",
       "      <td>1985</td>\n",
       "      <td>0</td>\n",
       "    </tr>\n",
       "    <tr>\n",
       "      <th>20765855</th>\n",
       "      <td>20765855</td>\n",
       "      <td>1659</td>\n",
       "      <td>2019-01-26 23:40:03.030</td>\n",
       "      <td>2019-01-27 00:07:42.226</td>\n",
       "      <td>NaN</td>\n",
       "      <td>NaN</td>\n",
       "      <td>40.851002</td>\n",
       "      <td>-73.899002</td>\n",
       "      <td>NaN</td>\n",
       "      <td>NaN</td>\n",
       "      <td>40.854000</td>\n",
       "      <td>-73.911003</td>\n",
       "      <td>34892</td>\n",
       "      <td>Subscriber</td>\n",
       "      <td>1985</td>\n",
       "      <td>0</td>\n",
       "    </tr>\n",
       "    <tr>\n",
       "      <th>20827092</th>\n",
       "      <td>20827092</td>\n",
       "      <td>621</td>\n",
       "      <td>2019-01-28 19:31:38.591</td>\n",
       "      <td>2019-01-28 19:41:59.687</td>\n",
       "      <td>NaN</td>\n",
       "      <td>NaN</td>\n",
       "      <td>40.854000</td>\n",
       "      <td>-73.892998</td>\n",
       "      <td>NaN</td>\n",
       "      <td>NaN</td>\n",
       "      <td>40.841999</td>\n",
       "      <td>-73.880997</td>\n",
       "      <td>34481</td>\n",
       "      <td>Subscriber</td>\n",
       "      <td>1975</td>\n",
       "      <td>1</td>\n",
       "    </tr>\n",
       "    <tr>\n",
       "      <th>20887639</th>\n",
       "      <td>20887639</td>\n",
       "      <td>629</td>\n",
       "      <td>2019-01-30 23:40:05.091</td>\n",
       "      <td>2019-01-30 23:50:34.689</td>\n",
       "      <td>NaN</td>\n",
       "      <td>NaN</td>\n",
       "      <td>40.845001</td>\n",
       "      <td>-73.911003</td>\n",
       "      <td>NaN</td>\n",
       "      <td>NaN</td>\n",
       "      <td>40.845001</td>\n",
       "      <td>-73.892998</td>\n",
       "      <td>34576</td>\n",
       "      <td>Customer</td>\n",
       "      <td>1993</td>\n",
       "      <td>1</td>\n",
       "    </tr>\n",
       "  </tbody>\n",
       "</table>\n",
       "<p>180 rows × 16 columns</p>\n",
       "</div>"
      ],
      "text/plain": [
       "             index  tripduration               starttime  \\\n",
       "44726        44726          1949 2019-02-02 16:44:18.768   \n",
       "45855        45855           220 2019-02-02 17:22:12.290   \n",
       "46234        46234           413 2019-02-02 17:38:30.089   \n",
       "70163        70163          5651 2019-02-03 15:35:24.989   \n",
       "81579        81579           566 2019-02-03 21:50:12.087   \n",
       "...            ...           ...                     ...   \n",
       "20606628  20606628           189 2019-01-21 15:52:59.816   \n",
       "20765297  20765297           759 2019-01-26 22:37:57.027   \n",
       "20765855  20765855          1659 2019-01-26 23:40:03.030   \n",
       "20827092  20827092           621 2019-01-28 19:31:38.591   \n",
       "20887639  20887639           629 2019-01-30 23:40:05.091   \n",
       "\n",
       "                        stoptime  start station id start station name  \\\n",
       "44726    2019-02-02 17:16:48.689               NaN                NaN   \n",
       "45855    2019-02-02 17:25:53.089               NaN                NaN   \n",
       "46234    2019-02-02 17:45:23.991               NaN                NaN   \n",
       "70163    2019-02-03 17:09:36.271               NaN                NaN   \n",
       "81579    2019-02-03 21:59:38.091               NaN                NaN   \n",
       "...                          ...               ...                ...   \n",
       "20606628 2019-01-21 15:56:09.013               NaN                NaN   \n",
       "20765297 2019-01-26 22:50:36.428               NaN                NaN   \n",
       "20765855 2019-01-27 00:07:42.226               NaN                NaN   \n",
       "20827092 2019-01-28 19:41:59.687               NaN                NaN   \n",
       "20887639 2019-01-30 23:50:34.689               NaN                NaN   \n",
       "\n",
       "          start station latitude  start station longitude  end station id  \\\n",
       "44726                  40.841999               -73.880997             NaN   \n",
       "45855                  40.856998               -73.889999             NaN   \n",
       "46234                  40.862999               -73.889999             NaN   \n",
       "70163                  40.856998               -73.880997             NaN   \n",
       "81579                  40.856998               -73.880997             NaN   \n",
       "...                          ...                      ...             ...   \n",
       "20606628               40.862999               -73.889999             NaN   \n",
       "20765297               40.854000               -73.892998             NaN   \n",
       "20765855               40.851002               -73.899002             NaN   \n",
       "20827092               40.854000               -73.892998             NaN   \n",
       "20887639               40.845001               -73.911003             NaN   \n",
       "\n",
       "         end station name  end station latitude  end station longitude  \\\n",
       "44726                 NaN             40.856998             -73.889999   \n",
       "45855                 NaN             40.856998             -73.889999   \n",
       "46234                 NaN             40.860001             -73.889999   \n",
       "70163                 NaN             40.856998             -73.880997   \n",
       "81579                 NaN             40.862999             -73.889999   \n",
       "...                   ...                   ...                    ...   \n",
       "20606628              NaN             40.862999             -73.889999   \n",
       "20765297              NaN             40.851002             -73.902000   \n",
       "20765855              NaN             40.854000             -73.911003   \n",
       "20827092              NaN             40.841999             -73.880997   \n",
       "20887639              NaN             40.845001             -73.892998   \n",
       "\n",
       "          bikeid    usertype  birth year  gender  \n",
       "44726      34481  Subscriber        1987       1  \n",
       "45855      34481  Subscriber        1987       1  \n",
       "46234      34550  Subscriber        1987       1  \n",
       "70163      34550  Subscriber        1969       1  \n",
       "81579      34550  Subscriber        1994       1  \n",
       "...          ...         ...         ...     ...  \n",
       "20606628   34550  Subscriber        1986       1  \n",
       "20765297   34892  Subscriber        1985       0  \n",
       "20765855   34892  Subscriber        1985       0  \n",
       "20827092   34481  Subscriber        1975       1  \n",
       "20887639   34576    Customer        1993       1  \n",
       "\n",
       "[180 rows x 16 columns]"
      ]
     },
     "execution_count": 74,
     "metadata": {},
     "output_type": "execute_result"
    }
   ],
   "source": [
    "# What does this look like\n",
    "df[df['start station id'].isnull()]"
   ]
  },
  {
   "cell_type": "markdown",
   "metadata": {},
   "source": [
    "After looking at the table above, it seems like a lot of the 'start locations' and 'end locations' might be close together, and some even repeat. To see if that's correct, I wanted to see the unique points of latitude and longitude for beginning stations and ending stations."
   ]
  },
  {
   "cell_type": "code",
   "execution_count": 75,
   "metadata": {
    "scrolled": true
   },
   "outputs": [
    {
     "data": {
      "text/plain": [
       "array([40.842, 40.857, 40.863, 40.866, 40.845, 40.86 , 40.851, 40.848,\n",
       "       40.854, 40.869], dtype=float32)"
      ]
     },
     "execution_count": 75,
     "metadata": {},
     "output_type": "execute_result"
    }
   ],
   "source": [
    "# Unique start station latitude coordinates\n",
    "df[df['start station id'].isnull()]['start station latitude'].unique()"
   ]
  },
  {
   "cell_type": "code",
   "execution_count": 76,
   "metadata": {
    "scrolled": true
   },
   "outputs": [
    {
     "data": {
      "text/plain": [
       "array([-73.881, -73.89 , -73.884, -73.902, -73.887, -73.905, -73.893,\n",
       "       -73.896, -73.899, -73.911, -73.908, -73.878, -73.914],\n",
       "      dtype=float32)"
      ]
     },
     "execution_count": 76,
     "metadata": {},
     "output_type": "execute_result"
    }
   ],
   "source": [
    "# Unique start station longitude coordinates\n",
    "df[df['start station id'].isnull()]['start station longitude'].unique()"
   ]
  },
  {
   "cell_type": "markdown",
   "metadata": {},
   "source": [
    "Although there are 180 rows with null values, there are only a handful of coordinates. This means that certain 'start locations' repeat. "
   ]
  },
  {
   "cell_type": "code",
   "execution_count": 77,
   "metadata": {
    "scrolled": true
   },
   "outputs": [
    {
     "data": {
      "text/plain": [
       "array([40.857, 40.86 , 40.863, 40.866, 40.848, 40.851, 40.845, 40.854,\n",
       "       40.842, 40.869], dtype=float32)"
      ]
     },
     "execution_count": 77,
     "metadata": {},
     "output_type": "execute_result"
    }
   ],
   "source": [
    "# Unique end station latitude coordinates\n",
    "df[df['end station id'].isnull()]['end station latitude'].unique()"
   ]
  },
  {
   "cell_type": "code",
   "execution_count": 78,
   "metadata": {
    "scrolled": false
   },
   "outputs": [
    {
     "data": {
      "text/plain": [
       "array([-73.89 , -73.881, -73.884, -73.887, -73.905, -73.902, -73.896,\n",
       "       -73.893, -73.899, -73.908, -73.911, -73.878, -73.914],\n",
       "      dtype=float32)"
      ]
     },
     "execution_count": 78,
     "metadata": {},
     "output_type": "execute_result"
    }
   ],
   "source": [
    "# Unique end station lingitude coordinates\n",
    "df[df['end station id'].isnull()]['end station longitude'].unique()"
   ]
  },
  {
   "cell_type": "markdown",
   "metadata": {},
   "source": [
    "Likewise, there are also a handful of 'end stations', meaning they must repeat as well. "
   ]
  },
  {
   "cell_type": "markdown",
   "metadata": {},
   "source": [
    "In order to better understand the null values, I decided to map them out, to see where they're located."
   ]
  },
  {
   "cell_type": "markdown",
   "metadata": {},
   "source": [
    "As can be seen below, all the rows with the null values are located in the Bronx. And altough many of the beginning and ending coordinates are the same, the index numbers are different, as if the bikes \"replaced\" each other at the exact coordinates. For this reason, all null rows were removed, as this seems to be an error."
   ]
  },
  {
   "cell_type": "code",
   "execution_count": 79,
   "metadata": {
    "scrolled": false
   },
   "outputs": [
    {
     "data": {
      "application/vnd.plotly.v1+json": {
       "config": {
        "linkText": "Export to plot.ly",
        "plotlyServerURL": "https://plot.ly",
        "showLink": false
       },
       "data": [
        {
         "hovertemplate": "start station latitude=%{lat}<br>start station longitude=%{lon}<br>index=%{marker.color}<extra></extra>",
         "lat": [
          40.84199905395508,
          40.856998443603516,
          40.862998962402344,
          40.856998443603516,
          40.856998443603516,
          40.86600112915039,
          40.845001220703125,
          40.86000061035156,
          40.86000061035156,
          40.86000061035156,
          40.856998443603516,
          40.856998443603516,
          40.856998443603516,
          40.862998962402344,
          40.862998962402344,
          40.85100173950195,
          40.847999572753906,
          40.854000091552734,
          40.845001220703125,
          40.856998443603516,
          40.854000091552734,
          40.856998443603516,
          40.856998443603516,
          40.856998443603516,
          40.854000091552734,
          40.862998962402344,
          40.862998962402344,
          40.854000091552734,
          40.854000091552734,
          40.84199905395508,
          40.847999572753906,
          40.854000091552734,
          40.856998443603516,
          40.862998962402344,
          40.862998962402344,
          40.86000061035156,
          40.85100173950195,
          40.85100173950195,
          40.845001220703125,
          40.86000061035156,
          40.86600112915039,
          40.84199905395508,
          40.854000091552734,
          40.86000061035156,
          40.847999572753906,
          40.854000091552734,
          40.86000061035156,
          40.854000091552734,
          40.856998443603516,
          40.86600112915039,
          40.856998443603516,
          40.86600112915039,
          40.862998962402344,
          40.86000061035156,
          40.862998962402344,
          40.862998962402344,
          40.862998962402344,
          40.86600112915039,
          40.856998443603516,
          40.854000091552734,
          40.854000091552734,
          40.85100173950195,
          40.854000091552734,
          40.86000061035156,
          40.86000061035156,
          40.856998443603516,
          40.86600112915039,
          40.85100173950195,
          40.85100173950195,
          40.86600112915039,
          40.86000061035156,
          40.86600112915039,
          40.862998962402344,
          40.854000091552734,
          40.854000091552734,
          40.854000091552734,
          40.854000091552734,
          40.854000091552734,
          40.854000091552734,
          40.86000061035156,
          40.86000061035156,
          40.847999572753906,
          40.854000091552734,
          40.847999572753906,
          40.862998962402344,
          40.854000091552734,
          40.854000091552734,
          40.854000091552734,
          40.86000061035156,
          40.847999572753906,
          40.86000061035156,
          40.86000061035156,
          40.862998962402344,
          40.862998962402344,
          40.862998962402344,
          40.862998962402344,
          40.854000091552734,
          40.862998962402344,
          40.86899948120117,
          40.86000061035156,
          40.862998962402344,
          40.86000061035156,
          40.856998443603516,
          40.854000091552734,
          40.856998443603516,
          40.854000091552734,
          40.862998962402344,
          40.862998962402344,
          40.862998962402344,
          40.86600112915039,
          40.862998962402344,
          40.86000061035156,
          40.86899948120117,
          40.86600112915039,
          40.862998962402344,
          40.86600112915039,
          40.862998962402344,
          40.856998443603516,
          40.84199905395508,
          40.854000091552734,
          40.847999572753906,
          40.854000091552734,
          40.84199905395508,
          40.86600112915039,
          40.862998962402344,
          40.862998962402344,
          40.84199905395508,
          40.86000061035156,
          40.86000061035156,
          40.86600112915039,
          40.86899948120117,
          40.856998443603516,
          40.85100173950195,
          40.854000091552734,
          40.847999572753906,
          40.84199905395508,
          40.856998443603516,
          40.854000091552734,
          40.86600112915039,
          40.845001220703125,
          40.86000061035156,
          40.845001220703125,
          40.86000061035156,
          40.862998962402344,
          40.862998962402344,
          40.862998962402344,
          40.862998962402344,
          40.862998962402344,
          40.86000061035156,
          40.862998962402344,
          40.86000061035156,
          40.847999572753906,
          40.862998962402344,
          40.862998962402344,
          40.86000061035156,
          40.86600112915039,
          40.845001220703125,
          40.86000061035156,
          40.86000061035156,
          40.847999572753906,
          40.854000091552734,
          40.862998962402344,
          40.854000091552734,
          40.856998443603516,
          40.862998962402344,
          40.856998443603516,
          40.854000091552734,
          40.854000091552734,
          40.854000091552734,
          40.854000091552734,
          40.85100173950195,
          40.85100173950195,
          40.862998962402344,
          40.862998962402344,
          40.862998962402344,
          40.862998962402344,
          40.854000091552734,
          40.85100173950195,
          40.854000091552734,
          40.845001220703125
         ],
         "legendgroup": "",
         "lon": [
          -73.88099670410156,
          -73.88999938964844,
          -73.88999938964844,
          -73.88099670410156,
          -73.88099670410156,
          -73.88400268554688,
          -73.9020004272461,
          -73.88400268554688,
          -73.88400268554688,
          -73.88400268554688,
          -73.88099670410156,
          -73.88700103759766,
          -73.88099670410156,
          -73.90499877929688,
          -73.9020004272461,
          -73.89299774169922,
          -73.89600372314453,
          -73.89299774169922,
          -73.89299774169922,
          -73.88999938964844,
          -73.89299774169922,
          -73.88999938964844,
          -73.88999938964844,
          -73.88999938964844,
          -73.88999938964844,
          -73.89600372314453,
          -73.88999938964844,
          -73.88700103759766,
          -73.89299774169922,
          -73.88099670410156,
          -73.88700103759766,
          -73.9020004272461,
          -73.9020004272461,
          -73.89600372314453,
          -73.89600372314453,
          -73.88999938964844,
          -73.9020004272461,
          -73.90499877929688,
          -73.9020004272461,
          -73.89900207519531,
          -73.89600372314453,
          -73.88400268554688,
          -73.90499877929688,
          -73.89299774169922,
          -73.89299774169922,
          -73.91100311279297,
          -73.89900207519531,
          -73.90499877929688,
          -73.88099670410156,
          -73.89600372314453,
          -73.88400268554688,
          -73.89299774169922,
          -73.89299774169922,
          -73.88999938964844,
          -73.88999938964844,
          -73.89299774169922,
          -73.89299774169922,
          -73.89299774169922,
          -73.88700103759766,
          -73.88999938964844,
          -73.88999938964844,
          -73.9020004272461,
          -73.88999938964844,
          -73.89600372314453,
          -73.89600372314453,
          -73.88999938964844,
          -73.88400268554688,
          -73.89299774169922,
          -73.9020004272461,
          -73.89600372314453,
          -73.9020004272461,
          -73.89600372314453,
          -73.89299774169922,
          -73.88400268554688,
          -73.88999938964844,
          -73.89299774169922,
          -73.90799713134766,
          -73.88999938964844,
          -73.88999938964844,
          -73.88700103759766,
          -73.88700103759766,
          -73.9020004272461,
          -73.88999938964844,
          -73.9020004272461,
          -73.89299774169922,
          -73.88999938964844,
          -73.88400268554688,
          -73.88999938964844,
          -73.88999938964844,
          -73.88999938964844,
          -73.88999938964844,
          -73.88999938964844,
          -73.89299774169922,
          -73.89299774169922,
          -73.89299774169922,
          -73.89600372314453,
          -73.88999938964844,
          -73.89600372314453,
          -73.89900207519531,
          -73.88999938964844,
          -73.88999938964844,
          -73.88999938964844,
          -73.88099670410156,
          -73.88999938964844,
          -73.88099670410156,
          -73.88400268554688,
          -73.89299774169922,
          -73.89600372314453,
          -73.89600372314453,
          -73.89600372314453,
          -73.89900207519531,
          -73.88700103759766,
          -73.9020004272461,
          -73.89900207519531,
          -73.88999938964844,
          -73.88400268554688,
          -73.89299774169922,
          -73.89900207519531,
          -73.88400268554688,
          -73.88999938964844,
          -73.88999938964844,
          -73.88700103759766,
          -73.87799835205078,
          -73.89600372314453,
          -73.9020004272461,
          -73.89900207519531,
          -73.87799835205078,
          -73.9020004272461,
          -73.88700103759766,
          -73.89299774169922,
          -73.9020004272461,
          -73.88099670410156,
          -73.90499877929688,
          -73.91100311279297,
          -73.89299774169922,
          -73.88400268554688,
          -73.88700103759766,
          -73.9020004272461,
          -73.89600372314453,
          -73.91100311279297,
          -73.88999938964844,
          -73.89900207519531,
          -73.88999938964844,
          -73.89299774169922,
          -73.89299774169922,
          -73.89299774169922,
          -73.88999938964844,
          -73.89299774169922,
          -73.89900207519531,
          -73.89299774169922,
          -73.88999938964844,
          -73.9020004272461,
          -73.88999938964844,
          -73.88999938964844,
          -73.88999938964844,
          -73.9020004272461,
          -73.91400146484375,
          -73.89900207519531,
          -73.88700103759766,
          -73.90799713134766,
          -73.89900207519531,
          -73.89600372314453,
          -73.88999938964844,
          -73.88400268554688,
          -73.88999938964844,
          -73.88999938964844,
          -73.88999938964844,
          -73.88999938964844,
          -73.9020004272461,
          -73.89299774169922,
          -73.90499877929688,
          -73.90499877929688,
          -73.88400268554688,
          -73.88999938964844,
          -73.88999938964844,
          -73.88999938964844,
          -73.89299774169922,
          -73.89900207519531,
          -73.89299774169922,
          -73.91100311279297
         ],
         "marker": {
          "color": [
           44726,
           45855,
           46234,
           70163,
           81579,
           124394,
           127509,
           184459,
           184502,
           3137146,
           3137183,
           3137187,
           3137211,
           3137228,
           3167892,
           4258894,
           4262780,
           4345371,
           4353807,
           9470056,
           9471690,
           9473759,
           9474334,
           9474597,
           9477759,
           9480541,
           9482473,
           9490461,
           9560266,
           9565512,
           9566583,
           9598543,
           9612418,
           9624347,
           9627735,
           9629450,
           9666953,
           9669552,
           9670337,
           9673488,
           9676637,
           9681968,
           9682601,
           9687161,
           9721890,
           9726639,
           9751640,
           9766582,
           9770863,
           9819004,
           9821343,
           9823099,
           9826628,
           9827342,
           9828100,
           9829148,
           9830438,
           9831898,
           9832358,
           9836868,
           9852974,
           9868175,
           9872892,
           9874848,
           9911252,
           9915386,
           9937484,
           9941792,
           9945981,
           9947183,
           9953884,
           9954293,
           9960038,
           10116806,
           10118077,
           10157383,
           10204431,
           10227906,
           10254661,
           10302362,
           10358900,
           10429510,
           10429676,
           10512804,
           10512984,
           10554170,
           11065537,
           11076134,
           11077233,
           11124430,
           11149746,
           11150366,
           11150884,
           11151135,
           11151775,
           11152151,
           11153884,
           11156154,
           11156654,
           11168967,
           11183028,
           11183608,
           11184276,
           11185041,
           11186015,
           11187250,
           11188811,
           11190934,
           11191891,
           11192262,
           11192488,
           11193539,
           11194333,
           11194675,
           11195905,
           11230893,
           11234820,
           11235757,
           11238413,
           11239502,
           11265913,
           11271464,
           11271803,
           11303236,
           11305196,
           11307284,
           11343434,
           11343512,
           11360663,
           11373071,
           11376502,
           11380695,
           11416899,
           11441381,
           11477301,
           11477675,
           11558014,
           11558894,
           11611231,
           11613867,
           11645334,
           11647571,
           11652618,
           11652732,
           11699449,
           11996318,
           11997584,
           12021671,
           12025099,
           12031795,
           12039267,
           12090146,
           12091184,
           12093365,
           12093715,
           12094904,
           12103116,
           12171462,
           12171495,
           12171627,
           12172339,
           12266869,
           20187525,
           20188732,
           20275401,
           20276050,
           20335503,
           20345337,
           20346691,
           20446397,
           20518843,
           20600526,
           20605141,
           20605277,
           20605435,
           20606628,
           20765297,
           20765855,
           20827092,
           20887639
          ],
          "coloraxis": "coloraxis"
         },
         "mode": "markers",
         "name": "",
         "showlegend": false,
         "subplot": "mapbox",
         "type": "scattermapbox"
        }
       ],
       "layout": {
        "coloraxis": {
         "colorbar": {
          "title": {
           "text": "index"
          }
         },
         "colorscale": [
          [
           0,
           "rgb(0,0,255)"
          ],
          [
           1,
           "rgb(255,0,0)"
          ]
         ]
        },
        "legend": {
         "tracegroupgap": 0
        },
        "mapbox": {
         "center": {
          "lat": 40.85728454589844,
          "lon": -73.89305877685547
         },
         "domain": {
          "x": [
           0,
           1
          ],
          "y": [
           0,
           1
          ]
         },
         "style": "open-street-map",
         "zoom": 12
        },
        "template": {
         "data": {
          "bar": [
           {
            "error_x": {
             "color": "#2a3f5f"
            },
            "error_y": {
             "color": "#2a3f5f"
            },
            "marker": {
             "line": {
              "color": "#E5ECF6",
              "width": 0.5
             }
            },
            "type": "bar"
           }
          ],
          "barpolar": [
           {
            "marker": {
             "line": {
              "color": "#E5ECF6",
              "width": 0.5
             }
            },
            "type": "barpolar"
           }
          ],
          "carpet": [
           {
            "aaxis": {
             "endlinecolor": "#2a3f5f",
             "gridcolor": "white",
             "linecolor": "white",
             "minorgridcolor": "white",
             "startlinecolor": "#2a3f5f"
            },
            "baxis": {
             "endlinecolor": "#2a3f5f",
             "gridcolor": "white",
             "linecolor": "white",
             "minorgridcolor": "white",
             "startlinecolor": "#2a3f5f"
            },
            "type": "carpet"
           }
          ],
          "choropleth": [
           {
            "colorbar": {
             "outlinewidth": 0,
             "ticks": ""
            },
            "type": "choropleth"
           }
          ],
          "contour": [
           {
            "colorbar": {
             "outlinewidth": 0,
             "ticks": ""
            },
            "colorscale": [
             [
              0,
              "#0d0887"
             ],
             [
              0.1111111111111111,
              "#46039f"
             ],
             [
              0.2222222222222222,
              "#7201a8"
             ],
             [
              0.3333333333333333,
              "#9c179e"
             ],
             [
              0.4444444444444444,
              "#bd3786"
             ],
             [
              0.5555555555555556,
              "#d8576b"
             ],
             [
              0.6666666666666666,
              "#ed7953"
             ],
             [
              0.7777777777777778,
              "#fb9f3a"
             ],
             [
              0.8888888888888888,
              "#fdca26"
             ],
             [
              1,
              "#f0f921"
             ]
            ],
            "type": "contour"
           }
          ],
          "contourcarpet": [
           {
            "colorbar": {
             "outlinewidth": 0,
             "ticks": ""
            },
            "type": "contourcarpet"
           }
          ],
          "heatmap": [
           {
            "colorbar": {
             "outlinewidth": 0,
             "ticks": ""
            },
            "colorscale": [
             [
              0,
              "#0d0887"
             ],
             [
              0.1111111111111111,
              "#46039f"
             ],
             [
              0.2222222222222222,
              "#7201a8"
             ],
             [
              0.3333333333333333,
              "#9c179e"
             ],
             [
              0.4444444444444444,
              "#bd3786"
             ],
             [
              0.5555555555555556,
              "#d8576b"
             ],
             [
              0.6666666666666666,
              "#ed7953"
             ],
             [
              0.7777777777777778,
              "#fb9f3a"
             ],
             [
              0.8888888888888888,
              "#fdca26"
             ],
             [
              1,
              "#f0f921"
             ]
            ],
            "type": "heatmap"
           }
          ],
          "heatmapgl": [
           {
            "colorbar": {
             "outlinewidth": 0,
             "ticks": ""
            },
            "colorscale": [
             [
              0,
              "#0d0887"
             ],
             [
              0.1111111111111111,
              "#46039f"
             ],
             [
              0.2222222222222222,
              "#7201a8"
             ],
             [
              0.3333333333333333,
              "#9c179e"
             ],
             [
              0.4444444444444444,
              "#bd3786"
             ],
             [
              0.5555555555555556,
              "#d8576b"
             ],
             [
              0.6666666666666666,
              "#ed7953"
             ],
             [
              0.7777777777777778,
              "#fb9f3a"
             ],
             [
              0.8888888888888888,
              "#fdca26"
             ],
             [
              1,
              "#f0f921"
             ]
            ],
            "type": "heatmapgl"
           }
          ],
          "histogram": [
           {
            "marker": {
             "colorbar": {
              "outlinewidth": 0,
              "ticks": ""
             }
            },
            "type": "histogram"
           }
          ],
          "histogram2d": [
           {
            "colorbar": {
             "outlinewidth": 0,
             "ticks": ""
            },
            "colorscale": [
             [
              0,
              "#0d0887"
             ],
             [
              0.1111111111111111,
              "#46039f"
             ],
             [
              0.2222222222222222,
              "#7201a8"
             ],
             [
              0.3333333333333333,
              "#9c179e"
             ],
             [
              0.4444444444444444,
              "#bd3786"
             ],
             [
              0.5555555555555556,
              "#d8576b"
             ],
             [
              0.6666666666666666,
              "#ed7953"
             ],
             [
              0.7777777777777778,
              "#fb9f3a"
             ],
             [
              0.8888888888888888,
              "#fdca26"
             ],
             [
              1,
              "#f0f921"
             ]
            ],
            "type": "histogram2d"
           }
          ],
          "histogram2dcontour": [
           {
            "colorbar": {
             "outlinewidth": 0,
             "ticks": ""
            },
            "colorscale": [
             [
              0,
              "#0d0887"
             ],
             [
              0.1111111111111111,
              "#46039f"
             ],
             [
              0.2222222222222222,
              "#7201a8"
             ],
             [
              0.3333333333333333,
              "#9c179e"
             ],
             [
              0.4444444444444444,
              "#bd3786"
             ],
             [
              0.5555555555555556,
              "#d8576b"
             ],
             [
              0.6666666666666666,
              "#ed7953"
             ],
             [
              0.7777777777777778,
              "#fb9f3a"
             ],
             [
              0.8888888888888888,
              "#fdca26"
             ],
             [
              1,
              "#f0f921"
             ]
            ],
            "type": "histogram2dcontour"
           }
          ],
          "mesh3d": [
           {
            "colorbar": {
             "outlinewidth": 0,
             "ticks": ""
            },
            "type": "mesh3d"
           }
          ],
          "parcoords": [
           {
            "line": {
             "colorbar": {
              "outlinewidth": 0,
              "ticks": ""
             }
            },
            "type": "parcoords"
           }
          ],
          "pie": [
           {
            "automargin": true,
            "type": "pie"
           }
          ],
          "scatter": [
           {
            "marker": {
             "colorbar": {
              "outlinewidth": 0,
              "ticks": ""
             }
            },
            "type": "scatter"
           }
          ],
          "scatter3d": [
           {
            "line": {
             "colorbar": {
              "outlinewidth": 0,
              "ticks": ""
             }
            },
            "marker": {
             "colorbar": {
              "outlinewidth": 0,
              "ticks": ""
             }
            },
            "type": "scatter3d"
           }
          ],
          "scattercarpet": [
           {
            "marker": {
             "colorbar": {
              "outlinewidth": 0,
              "ticks": ""
             }
            },
            "type": "scattercarpet"
           }
          ],
          "scattergeo": [
           {
            "marker": {
             "colorbar": {
              "outlinewidth": 0,
              "ticks": ""
             }
            },
            "type": "scattergeo"
           }
          ],
          "scattergl": [
           {
            "marker": {
             "colorbar": {
              "outlinewidth": 0,
              "ticks": ""
             }
            },
            "type": "scattergl"
           }
          ],
          "scattermapbox": [
           {
            "marker": {
             "colorbar": {
              "outlinewidth": 0,
              "ticks": ""
             }
            },
            "type": "scattermapbox"
           }
          ],
          "scatterpolar": [
           {
            "marker": {
             "colorbar": {
              "outlinewidth": 0,
              "ticks": ""
             }
            },
            "type": "scatterpolar"
           }
          ],
          "scatterpolargl": [
           {
            "marker": {
             "colorbar": {
              "outlinewidth": 0,
              "ticks": ""
             }
            },
            "type": "scatterpolargl"
           }
          ],
          "scatterternary": [
           {
            "marker": {
             "colorbar": {
              "outlinewidth": 0,
              "ticks": ""
             }
            },
            "type": "scatterternary"
           }
          ],
          "surface": [
           {
            "colorbar": {
             "outlinewidth": 0,
             "ticks": ""
            },
            "colorscale": [
             [
              0,
              "#0d0887"
             ],
             [
              0.1111111111111111,
              "#46039f"
             ],
             [
              0.2222222222222222,
              "#7201a8"
             ],
             [
              0.3333333333333333,
              "#9c179e"
             ],
             [
              0.4444444444444444,
              "#bd3786"
             ],
             [
              0.5555555555555556,
              "#d8576b"
             ],
             [
              0.6666666666666666,
              "#ed7953"
             ],
             [
              0.7777777777777778,
              "#fb9f3a"
             ],
             [
              0.8888888888888888,
              "#fdca26"
             ],
             [
              1,
              "#f0f921"
             ]
            ],
            "type": "surface"
           }
          ],
          "table": [
           {
            "cells": {
             "fill": {
              "color": "#EBF0F8"
             },
             "line": {
              "color": "white"
             }
            },
            "header": {
             "fill": {
              "color": "#C8D4E3"
             },
             "line": {
              "color": "white"
             }
            },
            "type": "table"
           }
          ]
         },
         "layout": {
          "annotationdefaults": {
           "arrowcolor": "#2a3f5f",
           "arrowhead": 0,
           "arrowwidth": 1
          },
          "autotypenumbers": "strict",
          "coloraxis": {
           "colorbar": {
            "outlinewidth": 0,
            "ticks": ""
           }
          },
          "colorscale": {
           "diverging": [
            [
             0,
             "#8e0152"
            ],
            [
             0.1,
             "#c51b7d"
            ],
            [
             0.2,
             "#de77ae"
            ],
            [
             0.3,
             "#f1b6da"
            ],
            [
             0.4,
             "#fde0ef"
            ],
            [
             0.5,
             "#f7f7f7"
            ],
            [
             0.6,
             "#e6f5d0"
            ],
            [
             0.7,
             "#b8e186"
            ],
            [
             0.8,
             "#7fbc41"
            ],
            [
             0.9,
             "#4d9221"
            ],
            [
             1,
             "#276419"
            ]
           ],
           "sequential": [
            [
             0,
             "#0d0887"
            ],
            [
             0.1111111111111111,
             "#46039f"
            ],
            [
             0.2222222222222222,
             "#7201a8"
            ],
            [
             0.3333333333333333,
             "#9c179e"
            ],
            [
             0.4444444444444444,
             "#bd3786"
            ],
            [
             0.5555555555555556,
             "#d8576b"
            ],
            [
             0.6666666666666666,
             "#ed7953"
            ],
            [
             0.7777777777777778,
             "#fb9f3a"
            ],
            [
             0.8888888888888888,
             "#fdca26"
            ],
            [
             1,
             "#f0f921"
            ]
           ],
           "sequentialminus": [
            [
             0,
             "#0d0887"
            ],
            [
             0.1111111111111111,
             "#46039f"
            ],
            [
             0.2222222222222222,
             "#7201a8"
            ],
            [
             0.3333333333333333,
             "#9c179e"
            ],
            [
             0.4444444444444444,
             "#bd3786"
            ],
            [
             0.5555555555555556,
             "#d8576b"
            ],
            [
             0.6666666666666666,
             "#ed7953"
            ],
            [
             0.7777777777777778,
             "#fb9f3a"
            ],
            [
             0.8888888888888888,
             "#fdca26"
            ],
            [
             1,
             "#f0f921"
            ]
           ]
          },
          "colorway": [
           "#636efa",
           "#EF553B",
           "#00cc96",
           "#ab63fa",
           "#FFA15A",
           "#19d3f3",
           "#FF6692",
           "#B6E880",
           "#FF97FF",
           "#FECB52"
          ],
          "font": {
           "color": "#2a3f5f"
          },
          "geo": {
           "bgcolor": "white",
           "lakecolor": "white",
           "landcolor": "#E5ECF6",
           "showlakes": true,
           "showland": true,
           "subunitcolor": "white"
          },
          "hoverlabel": {
           "align": "left"
          },
          "hovermode": "closest",
          "mapbox": {
           "style": "light"
          },
          "paper_bgcolor": "white",
          "plot_bgcolor": "#E5ECF6",
          "polar": {
           "angularaxis": {
            "gridcolor": "white",
            "linecolor": "white",
            "ticks": ""
           },
           "bgcolor": "#E5ECF6",
           "radialaxis": {
            "gridcolor": "white",
            "linecolor": "white",
            "ticks": ""
           }
          },
          "scene": {
           "xaxis": {
            "backgroundcolor": "#E5ECF6",
            "gridcolor": "white",
            "gridwidth": 2,
            "linecolor": "white",
            "showbackground": true,
            "ticks": "",
            "zerolinecolor": "white"
           },
           "yaxis": {
            "backgroundcolor": "#E5ECF6",
            "gridcolor": "white",
            "gridwidth": 2,
            "linecolor": "white",
            "showbackground": true,
            "ticks": "",
            "zerolinecolor": "white"
           },
           "zaxis": {
            "backgroundcolor": "#E5ECF6",
            "gridcolor": "white",
            "gridwidth": 2,
            "linecolor": "white",
            "showbackground": true,
            "ticks": "",
            "zerolinecolor": "white"
           }
          },
          "shapedefaults": {
           "line": {
            "color": "#2a3f5f"
           }
          },
          "ternary": {
           "aaxis": {
            "gridcolor": "white",
            "linecolor": "white",
            "ticks": ""
           },
           "baxis": {
            "gridcolor": "white",
            "linecolor": "white",
            "ticks": ""
           },
           "bgcolor": "#E5ECF6",
           "caxis": {
            "gridcolor": "white",
            "linecolor": "white",
            "ticks": ""
           }
          },
          "title": {
           "x": 0.05
          },
          "xaxis": {
           "automargin": true,
           "gridcolor": "white",
           "linecolor": "white",
           "ticks": "",
           "title": {
            "standoff": 15
           },
           "zerolinecolor": "white",
           "zerolinewidth": 2
          },
          "yaxis": {
           "automargin": true,
           "gridcolor": "white",
           "linecolor": "white",
           "ticks": "",
           "title": {
            "standoff": 15
           },
           "zerolinecolor": "white",
           "zerolinewidth": 2
          }
         }
        },
        "title": {
         "text": "Start Station Coordinates"
        }
       }
      },
      "text/html": [
       "<div>                            <div id=\"bcec4c91-7dd6-4170-a854-63c9fc3495a9\" class=\"plotly-graph-div\" style=\"height:525px; width:100%;\"></div>            <script type=\"text/javascript\">                require([\"plotly\"], function(Plotly) {                    window.PLOTLYENV=window.PLOTLYENV || {};                                    if (document.getElementById(\"bcec4c91-7dd6-4170-a854-63c9fc3495a9\")) {                    Plotly.newPlot(                        \"bcec4c91-7dd6-4170-a854-63c9fc3495a9\",                        [{\"hovertemplate\": \"start station latitude=%{lat}<br>start station longitude=%{lon}<br>index=%{marker.color}<extra></extra>\", \"lat\": [40.84199905395508, 40.856998443603516, 40.862998962402344, 40.856998443603516, 40.856998443603516, 40.86600112915039, 40.845001220703125, 40.86000061035156, 40.86000061035156, 40.86000061035156, 40.856998443603516, 40.856998443603516, 40.856998443603516, 40.862998962402344, 40.862998962402344, 40.85100173950195, 40.847999572753906, 40.854000091552734, 40.845001220703125, 40.856998443603516, 40.854000091552734, 40.856998443603516, 40.856998443603516, 40.856998443603516, 40.854000091552734, 40.862998962402344, 40.862998962402344, 40.854000091552734, 40.854000091552734, 40.84199905395508, 40.847999572753906, 40.854000091552734, 40.856998443603516, 40.862998962402344, 40.862998962402344, 40.86000061035156, 40.85100173950195, 40.85100173950195, 40.845001220703125, 40.86000061035156, 40.86600112915039, 40.84199905395508, 40.854000091552734, 40.86000061035156, 40.847999572753906, 40.854000091552734, 40.86000061035156, 40.854000091552734, 40.856998443603516, 40.86600112915039, 40.856998443603516, 40.86600112915039, 40.862998962402344, 40.86000061035156, 40.862998962402344, 40.862998962402344, 40.862998962402344, 40.86600112915039, 40.856998443603516, 40.854000091552734, 40.854000091552734, 40.85100173950195, 40.854000091552734, 40.86000061035156, 40.86000061035156, 40.856998443603516, 40.86600112915039, 40.85100173950195, 40.85100173950195, 40.86600112915039, 40.86000061035156, 40.86600112915039, 40.862998962402344, 40.854000091552734, 40.854000091552734, 40.854000091552734, 40.854000091552734, 40.854000091552734, 40.854000091552734, 40.86000061035156, 40.86000061035156, 40.847999572753906, 40.854000091552734, 40.847999572753906, 40.862998962402344, 40.854000091552734, 40.854000091552734, 40.854000091552734, 40.86000061035156, 40.847999572753906, 40.86000061035156, 40.86000061035156, 40.862998962402344, 40.862998962402344, 40.862998962402344, 40.862998962402344, 40.854000091552734, 40.862998962402344, 40.86899948120117, 40.86000061035156, 40.862998962402344, 40.86000061035156, 40.856998443603516, 40.854000091552734, 40.856998443603516, 40.854000091552734, 40.862998962402344, 40.862998962402344, 40.862998962402344, 40.86600112915039, 40.862998962402344, 40.86000061035156, 40.86899948120117, 40.86600112915039, 40.862998962402344, 40.86600112915039, 40.862998962402344, 40.856998443603516, 40.84199905395508, 40.854000091552734, 40.847999572753906, 40.854000091552734, 40.84199905395508, 40.86600112915039, 40.862998962402344, 40.862998962402344, 40.84199905395508, 40.86000061035156, 40.86000061035156, 40.86600112915039, 40.86899948120117, 40.856998443603516, 40.85100173950195, 40.854000091552734, 40.847999572753906, 40.84199905395508, 40.856998443603516, 40.854000091552734, 40.86600112915039, 40.845001220703125, 40.86000061035156, 40.845001220703125, 40.86000061035156, 40.862998962402344, 40.862998962402344, 40.862998962402344, 40.862998962402344, 40.862998962402344, 40.86000061035156, 40.862998962402344, 40.86000061035156, 40.847999572753906, 40.862998962402344, 40.862998962402344, 40.86000061035156, 40.86600112915039, 40.845001220703125, 40.86000061035156, 40.86000061035156, 40.847999572753906, 40.854000091552734, 40.862998962402344, 40.854000091552734, 40.856998443603516, 40.862998962402344, 40.856998443603516, 40.854000091552734, 40.854000091552734, 40.854000091552734, 40.854000091552734, 40.85100173950195, 40.85100173950195, 40.862998962402344, 40.862998962402344, 40.862998962402344, 40.862998962402344, 40.854000091552734, 40.85100173950195, 40.854000091552734, 40.845001220703125], \"legendgroup\": \"\", \"lon\": [-73.88099670410156, -73.88999938964844, -73.88999938964844, -73.88099670410156, -73.88099670410156, -73.88400268554688, -73.9020004272461, -73.88400268554688, -73.88400268554688, -73.88400268554688, -73.88099670410156, -73.88700103759766, -73.88099670410156, -73.90499877929688, -73.9020004272461, -73.89299774169922, -73.89600372314453, -73.89299774169922, -73.89299774169922, -73.88999938964844, -73.89299774169922, -73.88999938964844, -73.88999938964844, -73.88999938964844, -73.88999938964844, -73.89600372314453, -73.88999938964844, -73.88700103759766, -73.89299774169922, -73.88099670410156, -73.88700103759766, -73.9020004272461, -73.9020004272461, -73.89600372314453, -73.89600372314453, -73.88999938964844, -73.9020004272461, -73.90499877929688, -73.9020004272461, -73.89900207519531, -73.89600372314453, -73.88400268554688, -73.90499877929688, -73.89299774169922, -73.89299774169922, -73.91100311279297, -73.89900207519531, -73.90499877929688, -73.88099670410156, -73.89600372314453, -73.88400268554688, -73.89299774169922, -73.89299774169922, -73.88999938964844, -73.88999938964844, -73.89299774169922, -73.89299774169922, -73.89299774169922, -73.88700103759766, -73.88999938964844, -73.88999938964844, -73.9020004272461, -73.88999938964844, -73.89600372314453, -73.89600372314453, -73.88999938964844, -73.88400268554688, -73.89299774169922, -73.9020004272461, -73.89600372314453, -73.9020004272461, -73.89600372314453, -73.89299774169922, -73.88400268554688, -73.88999938964844, -73.89299774169922, -73.90799713134766, -73.88999938964844, -73.88999938964844, -73.88700103759766, -73.88700103759766, -73.9020004272461, -73.88999938964844, -73.9020004272461, -73.89299774169922, -73.88999938964844, -73.88400268554688, -73.88999938964844, -73.88999938964844, -73.88999938964844, -73.88999938964844, -73.88999938964844, -73.89299774169922, -73.89299774169922, -73.89299774169922, -73.89600372314453, -73.88999938964844, -73.89600372314453, -73.89900207519531, -73.88999938964844, -73.88999938964844, -73.88999938964844, -73.88099670410156, -73.88999938964844, -73.88099670410156, -73.88400268554688, -73.89299774169922, -73.89600372314453, -73.89600372314453, -73.89600372314453, -73.89900207519531, -73.88700103759766, -73.9020004272461, -73.89900207519531, -73.88999938964844, -73.88400268554688, -73.89299774169922, -73.89900207519531, -73.88400268554688, -73.88999938964844, -73.88999938964844, -73.88700103759766, -73.87799835205078, -73.89600372314453, -73.9020004272461, -73.89900207519531, -73.87799835205078, -73.9020004272461, -73.88700103759766, -73.89299774169922, -73.9020004272461, -73.88099670410156, -73.90499877929688, -73.91100311279297, -73.89299774169922, -73.88400268554688, -73.88700103759766, -73.9020004272461, -73.89600372314453, -73.91100311279297, -73.88999938964844, -73.89900207519531, -73.88999938964844, -73.89299774169922, -73.89299774169922, -73.89299774169922, -73.88999938964844, -73.89299774169922, -73.89900207519531, -73.89299774169922, -73.88999938964844, -73.9020004272461, -73.88999938964844, -73.88999938964844, -73.88999938964844, -73.9020004272461, -73.91400146484375, -73.89900207519531, -73.88700103759766, -73.90799713134766, -73.89900207519531, -73.89600372314453, -73.88999938964844, -73.88400268554688, -73.88999938964844, -73.88999938964844, -73.88999938964844, -73.88999938964844, -73.9020004272461, -73.89299774169922, -73.90499877929688, -73.90499877929688, -73.88400268554688, -73.88999938964844, -73.88999938964844, -73.88999938964844, -73.89299774169922, -73.89900207519531, -73.89299774169922, -73.91100311279297], \"marker\": {\"color\": [44726, 45855, 46234, 70163, 81579, 124394, 127509, 184459, 184502, 3137146, 3137183, 3137187, 3137211, 3137228, 3167892, 4258894, 4262780, 4345371, 4353807, 9470056, 9471690, 9473759, 9474334, 9474597, 9477759, 9480541, 9482473, 9490461, 9560266, 9565512, 9566583, 9598543, 9612418, 9624347, 9627735, 9629450, 9666953, 9669552, 9670337, 9673488, 9676637, 9681968, 9682601, 9687161, 9721890, 9726639, 9751640, 9766582, 9770863, 9819004, 9821343, 9823099, 9826628, 9827342, 9828100, 9829148, 9830438, 9831898, 9832358, 9836868, 9852974, 9868175, 9872892, 9874848, 9911252, 9915386, 9937484, 9941792, 9945981, 9947183, 9953884, 9954293, 9960038, 10116806, 10118077, 10157383, 10204431, 10227906, 10254661, 10302362, 10358900, 10429510, 10429676, 10512804, 10512984, 10554170, 11065537, 11076134, 11077233, 11124430, 11149746, 11150366, 11150884, 11151135, 11151775, 11152151, 11153884, 11156154, 11156654, 11168967, 11183028, 11183608, 11184276, 11185041, 11186015, 11187250, 11188811, 11190934, 11191891, 11192262, 11192488, 11193539, 11194333, 11194675, 11195905, 11230893, 11234820, 11235757, 11238413, 11239502, 11265913, 11271464, 11271803, 11303236, 11305196, 11307284, 11343434, 11343512, 11360663, 11373071, 11376502, 11380695, 11416899, 11441381, 11477301, 11477675, 11558014, 11558894, 11611231, 11613867, 11645334, 11647571, 11652618, 11652732, 11699449, 11996318, 11997584, 12021671, 12025099, 12031795, 12039267, 12090146, 12091184, 12093365, 12093715, 12094904, 12103116, 12171462, 12171495, 12171627, 12172339, 12266869, 20187525, 20188732, 20275401, 20276050, 20335503, 20345337, 20346691, 20446397, 20518843, 20600526, 20605141, 20605277, 20605435, 20606628, 20765297, 20765855, 20827092, 20887639], \"coloraxis\": \"coloraxis\"}, \"mode\": \"markers\", \"name\": \"\", \"showlegend\": false, \"subplot\": \"mapbox\", \"type\": \"scattermapbox\"}],                        {\"coloraxis\": {\"colorbar\": {\"title\": {\"text\": \"index\"}}, \"colorscale\": [[0.0, \"rgb(0,0,255)\"], [1.0, \"rgb(255,0,0)\"]]}, \"legend\": {\"tracegroupgap\": 0}, \"mapbox\": {\"center\": {\"lat\": 40.85728454589844, \"lon\": -73.89305877685547}, \"domain\": {\"x\": [0.0, 1.0], \"y\": [0.0, 1.0]}, \"style\": \"open-street-map\", \"zoom\": 12}, \"template\": {\"data\": {\"bar\": [{\"error_x\": {\"color\": \"#2a3f5f\"}, \"error_y\": {\"color\": \"#2a3f5f\"}, \"marker\": {\"line\": {\"color\": \"#E5ECF6\", \"width\": 0.5}}, \"type\": \"bar\"}], \"barpolar\": [{\"marker\": {\"line\": {\"color\": \"#E5ECF6\", \"width\": 0.5}}, \"type\": \"barpolar\"}], \"carpet\": [{\"aaxis\": {\"endlinecolor\": \"#2a3f5f\", \"gridcolor\": \"white\", \"linecolor\": \"white\", \"minorgridcolor\": \"white\", \"startlinecolor\": \"#2a3f5f\"}, \"baxis\": {\"endlinecolor\": \"#2a3f5f\", \"gridcolor\": \"white\", \"linecolor\": \"white\", \"minorgridcolor\": \"white\", \"startlinecolor\": \"#2a3f5f\"}, \"type\": \"carpet\"}], \"choropleth\": [{\"colorbar\": {\"outlinewidth\": 0, \"ticks\": \"\"}, \"type\": \"choropleth\"}], \"contour\": [{\"colorbar\": {\"outlinewidth\": 0, \"ticks\": \"\"}, \"colorscale\": [[0.0, \"#0d0887\"], [0.1111111111111111, \"#46039f\"], [0.2222222222222222, \"#7201a8\"], [0.3333333333333333, \"#9c179e\"], [0.4444444444444444, \"#bd3786\"], [0.5555555555555556, \"#d8576b\"], [0.6666666666666666, \"#ed7953\"], [0.7777777777777778, \"#fb9f3a\"], [0.8888888888888888, \"#fdca26\"], [1.0, \"#f0f921\"]], \"type\": \"contour\"}], \"contourcarpet\": [{\"colorbar\": {\"outlinewidth\": 0, \"ticks\": \"\"}, \"type\": \"contourcarpet\"}], \"heatmap\": [{\"colorbar\": {\"outlinewidth\": 0, \"ticks\": \"\"}, \"colorscale\": [[0.0, \"#0d0887\"], [0.1111111111111111, \"#46039f\"], [0.2222222222222222, \"#7201a8\"], [0.3333333333333333, \"#9c179e\"], [0.4444444444444444, \"#bd3786\"], [0.5555555555555556, \"#d8576b\"], [0.6666666666666666, \"#ed7953\"], [0.7777777777777778, \"#fb9f3a\"], [0.8888888888888888, \"#fdca26\"], [1.0, \"#f0f921\"]], \"type\": \"heatmap\"}], \"heatmapgl\": [{\"colorbar\": {\"outlinewidth\": 0, \"ticks\": \"\"}, \"colorscale\": [[0.0, \"#0d0887\"], [0.1111111111111111, \"#46039f\"], [0.2222222222222222, \"#7201a8\"], [0.3333333333333333, \"#9c179e\"], [0.4444444444444444, \"#bd3786\"], [0.5555555555555556, \"#d8576b\"], [0.6666666666666666, \"#ed7953\"], [0.7777777777777778, \"#fb9f3a\"], [0.8888888888888888, \"#fdca26\"], [1.0, \"#f0f921\"]], \"type\": \"heatmapgl\"}], \"histogram\": [{\"marker\": {\"colorbar\": {\"outlinewidth\": 0, \"ticks\": \"\"}}, \"type\": \"histogram\"}], \"histogram2d\": [{\"colorbar\": {\"outlinewidth\": 0, \"ticks\": \"\"}, \"colorscale\": [[0.0, \"#0d0887\"], [0.1111111111111111, \"#46039f\"], [0.2222222222222222, \"#7201a8\"], [0.3333333333333333, \"#9c179e\"], [0.4444444444444444, \"#bd3786\"], [0.5555555555555556, \"#d8576b\"], [0.6666666666666666, \"#ed7953\"], [0.7777777777777778, \"#fb9f3a\"], [0.8888888888888888, \"#fdca26\"], [1.0, \"#f0f921\"]], \"type\": \"histogram2d\"}], \"histogram2dcontour\": [{\"colorbar\": {\"outlinewidth\": 0, \"ticks\": \"\"}, \"colorscale\": [[0.0, \"#0d0887\"], [0.1111111111111111, \"#46039f\"], [0.2222222222222222, \"#7201a8\"], [0.3333333333333333, \"#9c179e\"], [0.4444444444444444, \"#bd3786\"], [0.5555555555555556, \"#d8576b\"], [0.6666666666666666, \"#ed7953\"], [0.7777777777777778, \"#fb9f3a\"], [0.8888888888888888, \"#fdca26\"], [1.0, \"#f0f921\"]], \"type\": \"histogram2dcontour\"}], \"mesh3d\": [{\"colorbar\": {\"outlinewidth\": 0, \"ticks\": \"\"}, \"type\": \"mesh3d\"}], \"parcoords\": [{\"line\": {\"colorbar\": {\"outlinewidth\": 0, \"ticks\": \"\"}}, \"type\": \"parcoords\"}], \"pie\": [{\"automargin\": true, \"type\": \"pie\"}], \"scatter\": [{\"marker\": {\"colorbar\": {\"outlinewidth\": 0, \"ticks\": \"\"}}, \"type\": \"scatter\"}], \"scatter3d\": [{\"line\": {\"colorbar\": {\"outlinewidth\": 0, \"ticks\": \"\"}}, \"marker\": {\"colorbar\": {\"outlinewidth\": 0, \"ticks\": \"\"}}, \"type\": \"scatter3d\"}], \"scattercarpet\": [{\"marker\": {\"colorbar\": {\"outlinewidth\": 0, \"ticks\": \"\"}}, \"type\": \"scattercarpet\"}], \"scattergeo\": [{\"marker\": {\"colorbar\": {\"outlinewidth\": 0, \"ticks\": \"\"}}, \"type\": \"scattergeo\"}], \"scattergl\": [{\"marker\": {\"colorbar\": {\"outlinewidth\": 0, \"ticks\": \"\"}}, \"type\": \"scattergl\"}], \"scattermapbox\": [{\"marker\": {\"colorbar\": {\"outlinewidth\": 0, \"ticks\": \"\"}}, \"type\": \"scattermapbox\"}], \"scatterpolar\": [{\"marker\": {\"colorbar\": {\"outlinewidth\": 0, \"ticks\": \"\"}}, \"type\": \"scatterpolar\"}], \"scatterpolargl\": [{\"marker\": {\"colorbar\": {\"outlinewidth\": 0, \"ticks\": \"\"}}, \"type\": \"scatterpolargl\"}], \"scatterternary\": [{\"marker\": {\"colorbar\": {\"outlinewidth\": 0, \"ticks\": \"\"}}, \"type\": \"scatterternary\"}], \"surface\": [{\"colorbar\": {\"outlinewidth\": 0, \"ticks\": \"\"}, \"colorscale\": [[0.0, \"#0d0887\"], [0.1111111111111111, \"#46039f\"], [0.2222222222222222, \"#7201a8\"], [0.3333333333333333, \"#9c179e\"], [0.4444444444444444, \"#bd3786\"], [0.5555555555555556, \"#d8576b\"], [0.6666666666666666, \"#ed7953\"], [0.7777777777777778, \"#fb9f3a\"], [0.8888888888888888, \"#fdca26\"], [1.0, \"#f0f921\"]], \"type\": \"surface\"}], \"table\": [{\"cells\": {\"fill\": {\"color\": \"#EBF0F8\"}, \"line\": {\"color\": \"white\"}}, \"header\": {\"fill\": {\"color\": \"#C8D4E3\"}, \"line\": {\"color\": \"white\"}}, \"type\": \"table\"}]}, \"layout\": {\"annotationdefaults\": {\"arrowcolor\": \"#2a3f5f\", \"arrowhead\": 0, \"arrowwidth\": 1}, \"autotypenumbers\": \"strict\", \"coloraxis\": {\"colorbar\": {\"outlinewidth\": 0, \"ticks\": \"\"}}, \"colorscale\": {\"diverging\": [[0, \"#8e0152\"], [0.1, \"#c51b7d\"], [0.2, \"#de77ae\"], [0.3, \"#f1b6da\"], [0.4, \"#fde0ef\"], [0.5, \"#f7f7f7\"], [0.6, \"#e6f5d0\"], [0.7, \"#b8e186\"], [0.8, \"#7fbc41\"], [0.9, \"#4d9221\"], [1, \"#276419\"]], \"sequential\": [[0.0, \"#0d0887\"], [0.1111111111111111, \"#46039f\"], [0.2222222222222222, \"#7201a8\"], [0.3333333333333333, \"#9c179e\"], [0.4444444444444444, \"#bd3786\"], [0.5555555555555556, \"#d8576b\"], [0.6666666666666666, \"#ed7953\"], [0.7777777777777778, \"#fb9f3a\"], [0.8888888888888888, \"#fdca26\"], [1.0, \"#f0f921\"]], \"sequentialminus\": [[0.0, \"#0d0887\"], [0.1111111111111111, \"#46039f\"], [0.2222222222222222, \"#7201a8\"], [0.3333333333333333, \"#9c179e\"], [0.4444444444444444, \"#bd3786\"], [0.5555555555555556, \"#d8576b\"], [0.6666666666666666, \"#ed7953\"], [0.7777777777777778, \"#fb9f3a\"], [0.8888888888888888, \"#fdca26\"], [1.0, \"#f0f921\"]]}, \"colorway\": [\"#636efa\", \"#EF553B\", \"#00cc96\", \"#ab63fa\", \"#FFA15A\", \"#19d3f3\", \"#FF6692\", \"#B6E880\", \"#FF97FF\", \"#FECB52\"], \"font\": {\"color\": \"#2a3f5f\"}, \"geo\": {\"bgcolor\": \"white\", \"lakecolor\": \"white\", \"landcolor\": \"#E5ECF6\", \"showlakes\": true, \"showland\": true, \"subunitcolor\": \"white\"}, \"hoverlabel\": {\"align\": \"left\"}, \"hovermode\": \"closest\", \"mapbox\": {\"style\": \"light\"}, \"paper_bgcolor\": \"white\", \"plot_bgcolor\": \"#E5ECF6\", \"polar\": {\"angularaxis\": {\"gridcolor\": \"white\", \"linecolor\": \"white\", \"ticks\": \"\"}, \"bgcolor\": \"#E5ECF6\", \"radialaxis\": {\"gridcolor\": \"white\", \"linecolor\": \"white\", \"ticks\": \"\"}}, \"scene\": {\"xaxis\": {\"backgroundcolor\": \"#E5ECF6\", \"gridcolor\": \"white\", \"gridwidth\": 2, \"linecolor\": \"white\", \"showbackground\": true, \"ticks\": \"\", \"zerolinecolor\": \"white\"}, \"yaxis\": {\"backgroundcolor\": \"#E5ECF6\", \"gridcolor\": \"white\", \"gridwidth\": 2, \"linecolor\": \"white\", \"showbackground\": true, \"ticks\": \"\", \"zerolinecolor\": \"white\"}, \"zaxis\": {\"backgroundcolor\": \"#E5ECF6\", \"gridcolor\": \"white\", \"gridwidth\": 2, \"linecolor\": \"white\", \"showbackground\": true, \"ticks\": \"\", \"zerolinecolor\": \"white\"}}, \"shapedefaults\": {\"line\": {\"color\": \"#2a3f5f\"}}, \"ternary\": {\"aaxis\": {\"gridcolor\": \"white\", \"linecolor\": \"white\", \"ticks\": \"\"}, \"baxis\": {\"gridcolor\": \"white\", \"linecolor\": \"white\", \"ticks\": \"\"}, \"bgcolor\": \"#E5ECF6\", \"caxis\": {\"gridcolor\": \"white\", \"linecolor\": \"white\", \"ticks\": \"\"}}, \"title\": {\"x\": 0.05}, \"xaxis\": {\"automargin\": true, \"gridcolor\": \"white\", \"linecolor\": \"white\", \"ticks\": \"\", \"title\": {\"standoff\": 15}, \"zerolinecolor\": \"white\", \"zerolinewidth\": 2}, \"yaxis\": {\"automargin\": true, \"gridcolor\": \"white\", \"linecolor\": \"white\", \"ticks\": \"\", \"title\": {\"standoff\": 15}, \"zerolinecolor\": \"white\", \"zerolinewidth\": 2}}}, \"title\": {\"text\": \"Start Station Coordinates\"}},                        {\"responsive\": true}                    ).then(function(){\n",
       "                            \n",
       "var gd = document.getElementById('bcec4c91-7dd6-4170-a854-63c9fc3495a9');\n",
       "var x = new MutationObserver(function (mutations, observer) {{\n",
       "        var display = window.getComputedStyle(gd).display;\n",
       "        if (!display || display === 'none') {{\n",
       "            console.log([gd, 'removed!']);\n",
       "            Plotly.purge(gd);\n",
       "            observer.disconnect();\n",
       "        }}\n",
       "}});\n",
       "\n",
       "// Listen for the removal of the full notebook cells\n",
       "var notebookContainer = gd.closest('#notebook-container');\n",
       "if (notebookContainer) {{\n",
       "    x.observe(notebookContainer, {childList: true});\n",
       "}}\n",
       "\n",
       "// Listen for the clearing of the current output cell\n",
       "var outputEl = gd.closest('.output');\n",
       "if (outputEl) {{\n",
       "    x.observe(outputEl, {childList: true});\n",
       "}}\n",
       "\n",
       "                        })                };                });            </script>        </div>"
      ]
     },
     "metadata": {},
     "output_type": "display_data"
    }
   ],
   "source": [
    "# Mapping the start coordinates\n",
    "nulldf_start = df[df['start station id'].isnull()][['start station latitude','start station longitude','index']].drop_duplicates()\n",
    "nullfig_start = px.scatter_mapbox(nulldf_start,\n",
    "                          lat='start station latitude',\n",
    "                          lon='start station longitude',\n",
    "                          color='index',\n",
    "                          color_continuous_scale='bluered',\n",
    "                          zoom=12,\n",
    "                          title='Start Station Coordinates'\n",
    ")\n",
    "\n",
    "pl.offline.iplot(nullfig_start.update_layout(mapbox_style=\"open-street-map\"), filename='start_stations.png')"
   ]
  },
  {
   "cell_type": "code",
   "execution_count": 80,
   "metadata": {},
   "outputs": [
    {
     "data": {
      "application/vnd.plotly.v1+json": {
       "config": {
        "linkText": "Export to plot.ly",
        "plotlyServerURL": "https://plot.ly",
        "showLink": false
       },
       "data": [
        {
         "hovertemplate": "end station latitude=%{lat}<br>end station longitude=%{lon}<br>index=%{marker.color}<extra></extra>",
         "lat": [
          40.856998443603516,
          40.856998443603516,
          40.86000061035156,
          40.856998443603516,
          40.862998962402344,
          40.86600112915039,
          40.86600112915039,
          40.856998443603516,
          40.86000061035156,
          40.856998443603516,
          40.856998443603516,
          40.856998443603516,
          40.862998962402344,
          40.862998962402344,
          40.862998962402344,
          40.847999572753906,
          40.847999572753906,
          40.85100173950195,
          40.856998443603516,
          40.856998443603516,
          40.845001220703125,
          40.854000091552734,
          40.854000091552734,
          40.856998443603516,
          40.862998962402344,
          40.862998962402344,
          40.856998443603516,
          40.86600112915039,
          40.845001220703125,
          40.845001220703125,
          40.845001220703125,
          40.847999572753906,
          40.856998443603516,
          40.862998962402344,
          40.86000061035156,
          40.86000061035156,
          40.85100173950195,
          40.847999572753906,
          40.85100173950195,
          40.854000091552734,
          40.86600112915039,
          40.85100173950195,
          40.847999572753906,
          40.856998443603516,
          40.854000091552734,
          40.84199905395508,
          40.86600112915039,
          40.847999572753906,
          40.856998443603516,
          40.86000061035156,
          40.862998962402344,
          40.862998962402344,
          40.862998962402344,
          40.862998962402344,
          40.86000061035156,
          40.862998962402344,
          40.862998962402344,
          40.862998962402344,
          40.856998443603516,
          40.854000091552734,
          40.854000091552734,
          40.86000061035156,
          40.854000091552734,
          40.86000061035156,
          40.86000061035156,
          40.854000091552734,
          40.85100173950195,
          40.847999572753906,
          40.86600112915039,
          40.862998962402344,
          40.847999572753906,
          40.86600112915039,
          40.856998443603516,
          40.86000061035156,
          40.854000091552734,
          40.854000091552734,
          40.847999572753906,
          40.854000091552734,
          40.854000091552734,
          40.86000061035156,
          40.86000061035156,
          40.847999572753906,
          40.854000091552734,
          40.862998962402344,
          40.845001220703125,
          40.854000091552734,
          40.854000091552734,
          40.847999572753906,
          40.86000061035156,
          40.847999572753906,
          40.86000061035156,
          40.86000061035156,
          40.862998962402344,
          40.862998962402344,
          40.862998962402344,
          40.862998962402344,
          40.862998962402344,
          40.86899948120117,
          40.862998962402344,
          40.854000091552734,
          40.86000061035156,
          40.86000061035156,
          40.854000091552734,
          40.856998443603516,
          40.854000091552734,
          40.862998962402344,
          40.862998962402344,
          40.862998962402344,
          40.862998962402344,
          40.86600112915039,
          40.86899948120117,
          40.86000061035156,
          40.862998962402344,
          40.86600112915039,
          40.86600112915039,
          40.85100173950195,
          40.85100173950195,
          40.854000091552734,
          40.856998443603516,
          40.845001220703125,
          40.854000091552734,
          40.847999572753906,
          40.84199905395508,
          40.862998962402344,
          40.862998962402344,
          40.862998962402344,
          40.856998443603516,
          40.847999572753906,
          40.86600112915039,
          40.86600112915039,
          40.862998962402344,
          40.847999572753906,
          40.854000091552734,
          40.84199905395508,
          40.856998443603516,
          40.84199905395508,
          40.854000091552734,
          40.86600112915039,
          40.862998962402344,
          40.862998962402344,
          40.845001220703125,
          40.845001220703125,
          40.862998962402344,
          40.862998962402344,
          40.862998962402344,
          40.862998962402344,
          40.862998962402344,
          40.86000061035156,
          40.862998962402344,
          40.86000061035156,
          40.856998443603516,
          40.862998962402344,
          40.862998962402344,
          40.862998962402344,
          40.862998962402344,
          40.845001220703125,
          40.86000061035156,
          40.86000061035156,
          40.847999572753906,
          40.854000091552734,
          40.847999572753906,
          40.86899948120117,
          40.856998443603516,
          40.856998443603516,
          40.86600112915039,
          40.854000091552734,
          40.856998443603516,
          40.854000091552734,
          40.86000061035156,
          40.85100173950195,
          40.85100173950195,
          40.847999572753906,
          40.862998962402344,
          40.862998962402344,
          40.862998962402344,
          40.862998962402344,
          40.85100173950195,
          40.854000091552734,
          40.84199905395508,
          40.845001220703125
         ],
         "legendgroup": "",
         "lon": [
          -73.88999938964844,
          -73.88999938964844,
          -73.88999938964844,
          -73.88099670410156,
          -73.88999938964844,
          -73.88400268554688,
          -73.88700103759766,
          -73.88700103759766,
          -73.88400268554688,
          -73.88099670410156,
          -73.88999938964844,
          -73.88099670410156,
          -73.90499877929688,
          -73.9020004272461,
          -73.90499877929688,
          -73.89600372314453,
          -73.89299774169922,
          -73.89900207519531,
          -73.89299774169922,
          -73.88999938964844,
          -73.88099670410156,
          -73.88999938964844,
          -73.89299774169922,
          -73.88999938964844,
          -73.89600372314453,
          -73.89299774169922,
          -73.88999938964844,
          -73.88700103759766,
          -73.88999938964844,
          -73.88400268554688,
          -73.88099670410156,
          -73.90799713134766,
          -73.9020004272461,
          -73.89600372314453,
          -73.88999938964844,
          -73.89299774169922,
          -73.90499877929688,
          -73.9020004272461,
          -73.9020004272461,
          -73.88999938964844,
          -73.89600372314453,
          -73.9020004272461,
          -73.89299774169922,
          -73.88400268554688,
          -73.91100311279297,
          -73.88400268554688,
          -73.89299774169922,
          -73.88700103759766,
          -73.88400268554688,
          -73.88700103759766,
          -73.89299774169922,
          -73.89299774169922,
          -73.88999938964844,
          -73.89299774169922,
          -73.88999938964844,
          -73.89299774169922,
          -73.89299774169922,
          -73.89299774169922,
          -73.88999938964844,
          -73.88999938964844,
          -73.88999938964844,
          -73.89600372314453,
          -73.88999938964844,
          -73.89299774169922,
          -73.89299774169922,
          -73.89299774169922,
          -73.89600372314453,
          -73.88999938964844,
          -73.89600372314453,
          -73.9020004272461,
          -73.91100311279297,
          -73.89600372314453,
          -73.88700103759766,
          -73.89299774169922,
          -73.88999938964844,
          -73.89299774169922,
          -73.90499877929688,
          -73.88999938964844,
          -73.88999938964844,
          -73.88700103759766,
          -73.88700103759766,
          -73.90499877929688,
          -73.88999938964844,
          -73.89600372314453,
          -73.90499877929688,
          -73.88999938964844,
          -73.88700103759766,
          -73.88999938964844,
          -73.88999938964844,
          -73.89299774169922,
          -73.88999938964844,
          -73.88999938964844,
          -73.89299774169922,
          -73.88999938964844,
          -73.89600372314453,
          -73.89900207519531,
          -73.89299774169922,
          -73.89900207519531,
          -73.89600372314453,
          -73.88400268554688,
          -73.88999938964844,
          -73.88400268554688,
          -73.88999938964844,
          -73.88400268554688,
          -73.88700103759766,
          -73.89299774169922,
          -73.89600372314453,
          -73.89600372314453,
          -73.89600372314453,
          -73.89600372314453,
          -73.89900207519531,
          -73.88700103759766,
          -73.89900207519531,
          -73.89900207519531,
          -73.88400268554688,
          -73.88400268554688,
          -73.90499877929688,
          -73.88999938964844,
          -73.88099670410156,
          -73.88099670410156,
          -73.88700103759766,
          -73.89600372314453,
          -73.87799835205078,
          -73.9020004272461,
          -73.89900207519531,
          -73.89299774169922,
          -73.88099670410156,
          -73.89299774169922,
          -73.89299774169922,
          -73.89900207519531,
          -73.89299774169922,
          -73.90799713134766,
          -73.91100311279297,
          -73.88400268554688,
          -73.88400268554688,
          -73.87799835205078,
          -73.88700103759766,
          -73.89600372314453,
          -73.89299774169922,
          -73.89600372314453,
          -73.89900207519531,
          -73.88999938964844,
          -73.89299774169922,
          -73.89299774169922,
          -73.89299774169922,
          -73.89299774169922,
          -73.88999938964844,
          -73.89900207519531,
          -73.89900207519531,
          -73.88999938964844,
          -73.89600372314453,
          -73.88999938964844,
          -73.88999938964844,
          -73.88999938964844,
          -73.89900207519531,
          -73.91400146484375,
          -73.89900207519531,
          -73.88700103759766,
          -73.90799713134766,
          -73.9020004272461,
          -73.9020004272461,
          -73.9020004272461,
          -73.88099670410156,
          -73.88400268554688,
          -73.88400268554688,
          -73.9020004272461,
          -73.88400268554688,
          -73.88999938964844,
          -73.88999938964844,
          -73.90499877929688,
          -73.90499877929688,
          -73.90799713134766,
          -73.88999938964844,
          -73.88999938964844,
          -73.89299774169922,
          -73.88999938964844,
          -73.9020004272461,
          -73.91100311279297,
          -73.88099670410156,
          -73.89299774169922
         ],
         "marker": {
          "color": [
           44726,
           45855,
           46234,
           70163,
           81579,
           124394,
           127509,
           184459,
           184502,
           3137146,
           3137183,
           3137187,
           3137211,
           3137228,
           3167892,
           4258894,
           4262780,
           4345371,
           4353807,
           9470056,
           9471690,
           9473759,
           9474334,
           9474597,
           9477759,
           9480541,
           9482473,
           9490461,
           9560266,
           9565512,
           9566583,
           9598543,
           9612418,
           9624347,
           9627735,
           9629450,
           9666953,
           9669552,
           9670337,
           9673488,
           9676637,
           9681968,
           9682601,
           9687161,
           9721890,
           9726639,
           9751640,
           9766582,
           9770863,
           9819004,
           9821343,
           9823099,
           9826628,
           9827342,
           9828100,
           9829148,
           9830438,
           9831898,
           9832358,
           9836868,
           9852974,
           9868175,
           9872892,
           9874848,
           9911252,
           9915386,
           9937484,
           9941792,
           9945981,
           9947183,
           9953884,
           9954293,
           9960038,
           10116806,
           10118077,
           10157383,
           10204431,
           10227906,
           10254661,
           10302362,
           10358900,
           10429510,
           10429676,
           10512804,
           10512984,
           10554170,
           11065537,
           11076134,
           11077233,
           11124430,
           11149746,
           11150366,
           11150884,
           11151135,
           11151775,
           11152151,
           11153884,
           11156154,
           11156654,
           11168967,
           11183028,
           11183608,
           11184276,
           11185041,
           11186015,
           11187250,
           11188811,
           11190934,
           11191891,
           11192262,
           11192488,
           11193539,
           11194333,
           11194675,
           11195905,
           11230893,
           11234820,
           11235757,
           11238413,
           11239502,
           11265913,
           11271464,
           11271803,
           11303236,
           11305196,
           11307284,
           11343434,
           11343512,
           11360663,
           11373071,
           11376502,
           11380695,
           11416899,
           11441381,
           11477301,
           11477675,
           11558014,
           11558894,
           11611231,
           11613867,
           11645334,
           11647571,
           11652618,
           11652732,
           11699449,
           11996318,
           11997584,
           12021671,
           12025099,
           12031795,
           12039267,
           12090146,
           12091184,
           12093365,
           12093715,
           12094904,
           12103116,
           12171462,
           12171495,
           12171627,
           12172339,
           12266869,
           20187525,
           20188732,
           20275401,
           20276050,
           20335503,
           20345337,
           20346691,
           20446397,
           20518843,
           20600526,
           20605141,
           20605277,
           20605435,
           20606628,
           20765297,
           20765855,
           20827092,
           20887639
          ],
          "coloraxis": "coloraxis"
         },
         "mode": "markers",
         "name": "",
         "showlegend": false,
         "subplot": "mapbox",
         "type": "scattermapbox"
        }
       ],
       "layout": {
        "coloraxis": {
         "colorbar": {
          "title": {
           "text": "index"
          }
         },
         "colorscale": [
          [
           0,
           "rgb(0,0,255)"
          ],
          [
           1,
           "rgb(255,0,0)"
          ]
         ]
        },
        "legend": {
         "tracegroupgap": 0
        },
        "mapbox": {
         "center": {
          "lat": 40.85710144042969,
          "lon": -73.89298248291016
         },
         "domain": {
          "x": [
           0,
           1
          ],
          "y": [
           0,
           1
          ]
         },
         "style": "open-street-map",
         "zoom": 12
        },
        "template": {
         "data": {
          "bar": [
           {
            "error_x": {
             "color": "#2a3f5f"
            },
            "error_y": {
             "color": "#2a3f5f"
            },
            "marker": {
             "line": {
              "color": "#E5ECF6",
              "width": 0.5
             }
            },
            "type": "bar"
           }
          ],
          "barpolar": [
           {
            "marker": {
             "line": {
              "color": "#E5ECF6",
              "width": 0.5
             }
            },
            "type": "barpolar"
           }
          ],
          "carpet": [
           {
            "aaxis": {
             "endlinecolor": "#2a3f5f",
             "gridcolor": "white",
             "linecolor": "white",
             "minorgridcolor": "white",
             "startlinecolor": "#2a3f5f"
            },
            "baxis": {
             "endlinecolor": "#2a3f5f",
             "gridcolor": "white",
             "linecolor": "white",
             "minorgridcolor": "white",
             "startlinecolor": "#2a3f5f"
            },
            "type": "carpet"
           }
          ],
          "choropleth": [
           {
            "colorbar": {
             "outlinewidth": 0,
             "ticks": ""
            },
            "type": "choropleth"
           }
          ],
          "contour": [
           {
            "colorbar": {
             "outlinewidth": 0,
             "ticks": ""
            },
            "colorscale": [
             [
              0,
              "#0d0887"
             ],
             [
              0.1111111111111111,
              "#46039f"
             ],
             [
              0.2222222222222222,
              "#7201a8"
             ],
             [
              0.3333333333333333,
              "#9c179e"
             ],
             [
              0.4444444444444444,
              "#bd3786"
             ],
             [
              0.5555555555555556,
              "#d8576b"
             ],
             [
              0.6666666666666666,
              "#ed7953"
             ],
             [
              0.7777777777777778,
              "#fb9f3a"
             ],
             [
              0.8888888888888888,
              "#fdca26"
             ],
             [
              1,
              "#f0f921"
             ]
            ],
            "type": "contour"
           }
          ],
          "contourcarpet": [
           {
            "colorbar": {
             "outlinewidth": 0,
             "ticks": ""
            },
            "type": "contourcarpet"
           }
          ],
          "heatmap": [
           {
            "colorbar": {
             "outlinewidth": 0,
             "ticks": ""
            },
            "colorscale": [
             [
              0,
              "#0d0887"
             ],
             [
              0.1111111111111111,
              "#46039f"
             ],
             [
              0.2222222222222222,
              "#7201a8"
             ],
             [
              0.3333333333333333,
              "#9c179e"
             ],
             [
              0.4444444444444444,
              "#bd3786"
             ],
             [
              0.5555555555555556,
              "#d8576b"
             ],
             [
              0.6666666666666666,
              "#ed7953"
             ],
             [
              0.7777777777777778,
              "#fb9f3a"
             ],
             [
              0.8888888888888888,
              "#fdca26"
             ],
             [
              1,
              "#f0f921"
             ]
            ],
            "type": "heatmap"
           }
          ],
          "heatmapgl": [
           {
            "colorbar": {
             "outlinewidth": 0,
             "ticks": ""
            },
            "colorscale": [
             [
              0,
              "#0d0887"
             ],
             [
              0.1111111111111111,
              "#46039f"
             ],
             [
              0.2222222222222222,
              "#7201a8"
             ],
             [
              0.3333333333333333,
              "#9c179e"
             ],
             [
              0.4444444444444444,
              "#bd3786"
             ],
             [
              0.5555555555555556,
              "#d8576b"
             ],
             [
              0.6666666666666666,
              "#ed7953"
             ],
             [
              0.7777777777777778,
              "#fb9f3a"
             ],
             [
              0.8888888888888888,
              "#fdca26"
             ],
             [
              1,
              "#f0f921"
             ]
            ],
            "type": "heatmapgl"
           }
          ],
          "histogram": [
           {
            "marker": {
             "colorbar": {
              "outlinewidth": 0,
              "ticks": ""
             }
            },
            "type": "histogram"
           }
          ],
          "histogram2d": [
           {
            "colorbar": {
             "outlinewidth": 0,
             "ticks": ""
            },
            "colorscale": [
             [
              0,
              "#0d0887"
             ],
             [
              0.1111111111111111,
              "#46039f"
             ],
             [
              0.2222222222222222,
              "#7201a8"
             ],
             [
              0.3333333333333333,
              "#9c179e"
             ],
             [
              0.4444444444444444,
              "#bd3786"
             ],
             [
              0.5555555555555556,
              "#d8576b"
             ],
             [
              0.6666666666666666,
              "#ed7953"
             ],
             [
              0.7777777777777778,
              "#fb9f3a"
             ],
             [
              0.8888888888888888,
              "#fdca26"
             ],
             [
              1,
              "#f0f921"
             ]
            ],
            "type": "histogram2d"
           }
          ],
          "histogram2dcontour": [
           {
            "colorbar": {
             "outlinewidth": 0,
             "ticks": ""
            },
            "colorscale": [
             [
              0,
              "#0d0887"
             ],
             [
              0.1111111111111111,
              "#46039f"
             ],
             [
              0.2222222222222222,
              "#7201a8"
             ],
             [
              0.3333333333333333,
              "#9c179e"
             ],
             [
              0.4444444444444444,
              "#bd3786"
             ],
             [
              0.5555555555555556,
              "#d8576b"
             ],
             [
              0.6666666666666666,
              "#ed7953"
             ],
             [
              0.7777777777777778,
              "#fb9f3a"
             ],
             [
              0.8888888888888888,
              "#fdca26"
             ],
             [
              1,
              "#f0f921"
             ]
            ],
            "type": "histogram2dcontour"
           }
          ],
          "mesh3d": [
           {
            "colorbar": {
             "outlinewidth": 0,
             "ticks": ""
            },
            "type": "mesh3d"
           }
          ],
          "parcoords": [
           {
            "line": {
             "colorbar": {
              "outlinewidth": 0,
              "ticks": ""
             }
            },
            "type": "parcoords"
           }
          ],
          "pie": [
           {
            "automargin": true,
            "type": "pie"
           }
          ],
          "scatter": [
           {
            "marker": {
             "colorbar": {
              "outlinewidth": 0,
              "ticks": ""
             }
            },
            "type": "scatter"
           }
          ],
          "scatter3d": [
           {
            "line": {
             "colorbar": {
              "outlinewidth": 0,
              "ticks": ""
             }
            },
            "marker": {
             "colorbar": {
              "outlinewidth": 0,
              "ticks": ""
             }
            },
            "type": "scatter3d"
           }
          ],
          "scattercarpet": [
           {
            "marker": {
             "colorbar": {
              "outlinewidth": 0,
              "ticks": ""
             }
            },
            "type": "scattercarpet"
           }
          ],
          "scattergeo": [
           {
            "marker": {
             "colorbar": {
              "outlinewidth": 0,
              "ticks": ""
             }
            },
            "type": "scattergeo"
           }
          ],
          "scattergl": [
           {
            "marker": {
             "colorbar": {
              "outlinewidth": 0,
              "ticks": ""
             }
            },
            "type": "scattergl"
           }
          ],
          "scattermapbox": [
           {
            "marker": {
             "colorbar": {
              "outlinewidth": 0,
              "ticks": ""
             }
            },
            "type": "scattermapbox"
           }
          ],
          "scatterpolar": [
           {
            "marker": {
             "colorbar": {
              "outlinewidth": 0,
              "ticks": ""
             }
            },
            "type": "scatterpolar"
           }
          ],
          "scatterpolargl": [
           {
            "marker": {
             "colorbar": {
              "outlinewidth": 0,
              "ticks": ""
             }
            },
            "type": "scatterpolargl"
           }
          ],
          "scatterternary": [
           {
            "marker": {
             "colorbar": {
              "outlinewidth": 0,
              "ticks": ""
             }
            },
            "type": "scatterternary"
           }
          ],
          "surface": [
           {
            "colorbar": {
             "outlinewidth": 0,
             "ticks": ""
            },
            "colorscale": [
             [
              0,
              "#0d0887"
             ],
             [
              0.1111111111111111,
              "#46039f"
             ],
             [
              0.2222222222222222,
              "#7201a8"
             ],
             [
              0.3333333333333333,
              "#9c179e"
             ],
             [
              0.4444444444444444,
              "#bd3786"
             ],
             [
              0.5555555555555556,
              "#d8576b"
             ],
             [
              0.6666666666666666,
              "#ed7953"
             ],
             [
              0.7777777777777778,
              "#fb9f3a"
             ],
             [
              0.8888888888888888,
              "#fdca26"
             ],
             [
              1,
              "#f0f921"
             ]
            ],
            "type": "surface"
           }
          ],
          "table": [
           {
            "cells": {
             "fill": {
              "color": "#EBF0F8"
             },
             "line": {
              "color": "white"
             }
            },
            "header": {
             "fill": {
              "color": "#C8D4E3"
             },
             "line": {
              "color": "white"
             }
            },
            "type": "table"
           }
          ]
         },
         "layout": {
          "annotationdefaults": {
           "arrowcolor": "#2a3f5f",
           "arrowhead": 0,
           "arrowwidth": 1
          },
          "autotypenumbers": "strict",
          "coloraxis": {
           "colorbar": {
            "outlinewidth": 0,
            "ticks": ""
           }
          },
          "colorscale": {
           "diverging": [
            [
             0,
             "#8e0152"
            ],
            [
             0.1,
             "#c51b7d"
            ],
            [
             0.2,
             "#de77ae"
            ],
            [
             0.3,
             "#f1b6da"
            ],
            [
             0.4,
             "#fde0ef"
            ],
            [
             0.5,
             "#f7f7f7"
            ],
            [
             0.6,
             "#e6f5d0"
            ],
            [
             0.7,
             "#b8e186"
            ],
            [
             0.8,
             "#7fbc41"
            ],
            [
             0.9,
             "#4d9221"
            ],
            [
             1,
             "#276419"
            ]
           ],
           "sequential": [
            [
             0,
             "#0d0887"
            ],
            [
             0.1111111111111111,
             "#46039f"
            ],
            [
             0.2222222222222222,
             "#7201a8"
            ],
            [
             0.3333333333333333,
             "#9c179e"
            ],
            [
             0.4444444444444444,
             "#bd3786"
            ],
            [
             0.5555555555555556,
             "#d8576b"
            ],
            [
             0.6666666666666666,
             "#ed7953"
            ],
            [
             0.7777777777777778,
             "#fb9f3a"
            ],
            [
             0.8888888888888888,
             "#fdca26"
            ],
            [
             1,
             "#f0f921"
            ]
           ],
           "sequentialminus": [
            [
             0,
             "#0d0887"
            ],
            [
             0.1111111111111111,
             "#46039f"
            ],
            [
             0.2222222222222222,
             "#7201a8"
            ],
            [
             0.3333333333333333,
             "#9c179e"
            ],
            [
             0.4444444444444444,
             "#bd3786"
            ],
            [
             0.5555555555555556,
             "#d8576b"
            ],
            [
             0.6666666666666666,
             "#ed7953"
            ],
            [
             0.7777777777777778,
             "#fb9f3a"
            ],
            [
             0.8888888888888888,
             "#fdca26"
            ],
            [
             1,
             "#f0f921"
            ]
           ]
          },
          "colorway": [
           "#636efa",
           "#EF553B",
           "#00cc96",
           "#ab63fa",
           "#FFA15A",
           "#19d3f3",
           "#FF6692",
           "#B6E880",
           "#FF97FF",
           "#FECB52"
          ],
          "font": {
           "color": "#2a3f5f"
          },
          "geo": {
           "bgcolor": "white",
           "lakecolor": "white",
           "landcolor": "#E5ECF6",
           "showlakes": true,
           "showland": true,
           "subunitcolor": "white"
          },
          "hoverlabel": {
           "align": "left"
          },
          "hovermode": "closest",
          "mapbox": {
           "style": "light"
          },
          "paper_bgcolor": "white",
          "plot_bgcolor": "#E5ECF6",
          "polar": {
           "angularaxis": {
            "gridcolor": "white",
            "linecolor": "white",
            "ticks": ""
           },
           "bgcolor": "#E5ECF6",
           "radialaxis": {
            "gridcolor": "white",
            "linecolor": "white",
            "ticks": ""
           }
          },
          "scene": {
           "xaxis": {
            "backgroundcolor": "#E5ECF6",
            "gridcolor": "white",
            "gridwidth": 2,
            "linecolor": "white",
            "showbackground": true,
            "ticks": "",
            "zerolinecolor": "white"
           },
           "yaxis": {
            "backgroundcolor": "#E5ECF6",
            "gridcolor": "white",
            "gridwidth": 2,
            "linecolor": "white",
            "showbackground": true,
            "ticks": "",
            "zerolinecolor": "white"
           },
           "zaxis": {
            "backgroundcolor": "#E5ECF6",
            "gridcolor": "white",
            "gridwidth": 2,
            "linecolor": "white",
            "showbackground": true,
            "ticks": "",
            "zerolinecolor": "white"
           }
          },
          "shapedefaults": {
           "line": {
            "color": "#2a3f5f"
           }
          },
          "ternary": {
           "aaxis": {
            "gridcolor": "white",
            "linecolor": "white",
            "ticks": ""
           },
           "baxis": {
            "gridcolor": "white",
            "linecolor": "white",
            "ticks": ""
           },
           "bgcolor": "#E5ECF6",
           "caxis": {
            "gridcolor": "white",
            "linecolor": "white",
            "ticks": ""
           }
          },
          "title": {
           "x": 0.05
          },
          "xaxis": {
           "automargin": true,
           "gridcolor": "white",
           "linecolor": "white",
           "ticks": "",
           "title": {
            "standoff": 15
           },
           "zerolinecolor": "white",
           "zerolinewidth": 2
          },
          "yaxis": {
           "automargin": true,
           "gridcolor": "white",
           "linecolor": "white",
           "ticks": "",
           "title": {
            "standoff": 15
           },
           "zerolinecolor": "white",
           "zerolinewidth": 2
          }
         }
        },
        "title": {
         "text": "End Station Coordinates"
        }
       }
      },
      "text/html": [
       "<div>                            <div id=\"d54d8541-fb9e-4c3f-84d7-89fff6c0cec1\" class=\"plotly-graph-div\" style=\"height:525px; width:100%;\"></div>            <script type=\"text/javascript\">                require([\"plotly\"], function(Plotly) {                    window.PLOTLYENV=window.PLOTLYENV || {};                                    if (document.getElementById(\"d54d8541-fb9e-4c3f-84d7-89fff6c0cec1\")) {                    Plotly.newPlot(                        \"d54d8541-fb9e-4c3f-84d7-89fff6c0cec1\",                        [{\"hovertemplate\": \"end station latitude=%{lat}<br>end station longitude=%{lon}<br>index=%{marker.color}<extra></extra>\", \"lat\": [40.856998443603516, 40.856998443603516, 40.86000061035156, 40.856998443603516, 40.862998962402344, 40.86600112915039, 40.86600112915039, 40.856998443603516, 40.86000061035156, 40.856998443603516, 40.856998443603516, 40.856998443603516, 40.862998962402344, 40.862998962402344, 40.862998962402344, 40.847999572753906, 40.847999572753906, 40.85100173950195, 40.856998443603516, 40.856998443603516, 40.845001220703125, 40.854000091552734, 40.854000091552734, 40.856998443603516, 40.862998962402344, 40.862998962402344, 40.856998443603516, 40.86600112915039, 40.845001220703125, 40.845001220703125, 40.845001220703125, 40.847999572753906, 40.856998443603516, 40.862998962402344, 40.86000061035156, 40.86000061035156, 40.85100173950195, 40.847999572753906, 40.85100173950195, 40.854000091552734, 40.86600112915039, 40.85100173950195, 40.847999572753906, 40.856998443603516, 40.854000091552734, 40.84199905395508, 40.86600112915039, 40.847999572753906, 40.856998443603516, 40.86000061035156, 40.862998962402344, 40.862998962402344, 40.862998962402344, 40.862998962402344, 40.86000061035156, 40.862998962402344, 40.862998962402344, 40.862998962402344, 40.856998443603516, 40.854000091552734, 40.854000091552734, 40.86000061035156, 40.854000091552734, 40.86000061035156, 40.86000061035156, 40.854000091552734, 40.85100173950195, 40.847999572753906, 40.86600112915039, 40.862998962402344, 40.847999572753906, 40.86600112915039, 40.856998443603516, 40.86000061035156, 40.854000091552734, 40.854000091552734, 40.847999572753906, 40.854000091552734, 40.854000091552734, 40.86000061035156, 40.86000061035156, 40.847999572753906, 40.854000091552734, 40.862998962402344, 40.845001220703125, 40.854000091552734, 40.854000091552734, 40.847999572753906, 40.86000061035156, 40.847999572753906, 40.86000061035156, 40.86000061035156, 40.862998962402344, 40.862998962402344, 40.862998962402344, 40.862998962402344, 40.862998962402344, 40.86899948120117, 40.862998962402344, 40.854000091552734, 40.86000061035156, 40.86000061035156, 40.854000091552734, 40.856998443603516, 40.854000091552734, 40.862998962402344, 40.862998962402344, 40.862998962402344, 40.862998962402344, 40.86600112915039, 40.86899948120117, 40.86000061035156, 40.862998962402344, 40.86600112915039, 40.86600112915039, 40.85100173950195, 40.85100173950195, 40.854000091552734, 40.856998443603516, 40.845001220703125, 40.854000091552734, 40.847999572753906, 40.84199905395508, 40.862998962402344, 40.862998962402344, 40.862998962402344, 40.856998443603516, 40.847999572753906, 40.86600112915039, 40.86600112915039, 40.862998962402344, 40.847999572753906, 40.854000091552734, 40.84199905395508, 40.856998443603516, 40.84199905395508, 40.854000091552734, 40.86600112915039, 40.862998962402344, 40.862998962402344, 40.845001220703125, 40.845001220703125, 40.862998962402344, 40.862998962402344, 40.862998962402344, 40.862998962402344, 40.862998962402344, 40.86000061035156, 40.862998962402344, 40.86000061035156, 40.856998443603516, 40.862998962402344, 40.862998962402344, 40.862998962402344, 40.862998962402344, 40.845001220703125, 40.86000061035156, 40.86000061035156, 40.847999572753906, 40.854000091552734, 40.847999572753906, 40.86899948120117, 40.856998443603516, 40.856998443603516, 40.86600112915039, 40.854000091552734, 40.856998443603516, 40.854000091552734, 40.86000061035156, 40.85100173950195, 40.85100173950195, 40.847999572753906, 40.862998962402344, 40.862998962402344, 40.862998962402344, 40.862998962402344, 40.85100173950195, 40.854000091552734, 40.84199905395508, 40.845001220703125], \"legendgroup\": \"\", \"lon\": [-73.88999938964844, -73.88999938964844, -73.88999938964844, -73.88099670410156, -73.88999938964844, -73.88400268554688, -73.88700103759766, -73.88700103759766, -73.88400268554688, -73.88099670410156, -73.88999938964844, -73.88099670410156, -73.90499877929688, -73.9020004272461, -73.90499877929688, -73.89600372314453, -73.89299774169922, -73.89900207519531, -73.89299774169922, -73.88999938964844, -73.88099670410156, -73.88999938964844, -73.89299774169922, -73.88999938964844, -73.89600372314453, -73.89299774169922, -73.88999938964844, -73.88700103759766, -73.88999938964844, -73.88400268554688, -73.88099670410156, -73.90799713134766, -73.9020004272461, -73.89600372314453, -73.88999938964844, -73.89299774169922, -73.90499877929688, -73.9020004272461, -73.9020004272461, -73.88999938964844, -73.89600372314453, -73.9020004272461, -73.89299774169922, -73.88400268554688, -73.91100311279297, -73.88400268554688, -73.89299774169922, -73.88700103759766, -73.88400268554688, -73.88700103759766, -73.89299774169922, -73.89299774169922, -73.88999938964844, -73.89299774169922, -73.88999938964844, -73.89299774169922, -73.89299774169922, -73.89299774169922, -73.88999938964844, -73.88999938964844, -73.88999938964844, -73.89600372314453, -73.88999938964844, -73.89299774169922, -73.89299774169922, -73.89299774169922, -73.89600372314453, -73.88999938964844, -73.89600372314453, -73.9020004272461, -73.91100311279297, -73.89600372314453, -73.88700103759766, -73.89299774169922, -73.88999938964844, -73.89299774169922, -73.90499877929688, -73.88999938964844, -73.88999938964844, -73.88700103759766, -73.88700103759766, -73.90499877929688, -73.88999938964844, -73.89600372314453, -73.90499877929688, -73.88999938964844, -73.88700103759766, -73.88999938964844, -73.88999938964844, -73.89299774169922, -73.88999938964844, -73.88999938964844, -73.89299774169922, -73.88999938964844, -73.89600372314453, -73.89900207519531, -73.89299774169922, -73.89900207519531, -73.89600372314453, -73.88400268554688, -73.88999938964844, -73.88400268554688, -73.88999938964844, -73.88400268554688, -73.88700103759766, -73.89299774169922, -73.89600372314453, -73.89600372314453, -73.89600372314453, -73.89600372314453, -73.89900207519531, -73.88700103759766, -73.89900207519531, -73.89900207519531, -73.88400268554688, -73.88400268554688, -73.90499877929688, -73.88999938964844, -73.88099670410156, -73.88099670410156, -73.88700103759766, -73.89600372314453, -73.87799835205078, -73.9020004272461, -73.89900207519531, -73.89299774169922, -73.88099670410156, -73.89299774169922, -73.89299774169922, -73.89900207519531, -73.89299774169922, -73.90799713134766, -73.91100311279297, -73.88400268554688, -73.88400268554688, -73.87799835205078, -73.88700103759766, -73.89600372314453, -73.89299774169922, -73.89600372314453, -73.89900207519531, -73.88999938964844, -73.89299774169922, -73.89299774169922, -73.89299774169922, -73.89299774169922, -73.88999938964844, -73.89900207519531, -73.89900207519531, -73.88999938964844, -73.89600372314453, -73.88999938964844, -73.88999938964844, -73.88999938964844, -73.89900207519531, -73.91400146484375, -73.89900207519531, -73.88700103759766, -73.90799713134766, -73.9020004272461, -73.9020004272461, -73.9020004272461, -73.88099670410156, -73.88400268554688, -73.88400268554688, -73.9020004272461, -73.88400268554688, -73.88999938964844, -73.88999938964844, -73.90499877929688, -73.90499877929688, -73.90799713134766, -73.88999938964844, -73.88999938964844, -73.89299774169922, -73.88999938964844, -73.9020004272461, -73.91100311279297, -73.88099670410156, -73.89299774169922], \"marker\": {\"color\": [44726, 45855, 46234, 70163, 81579, 124394, 127509, 184459, 184502, 3137146, 3137183, 3137187, 3137211, 3137228, 3167892, 4258894, 4262780, 4345371, 4353807, 9470056, 9471690, 9473759, 9474334, 9474597, 9477759, 9480541, 9482473, 9490461, 9560266, 9565512, 9566583, 9598543, 9612418, 9624347, 9627735, 9629450, 9666953, 9669552, 9670337, 9673488, 9676637, 9681968, 9682601, 9687161, 9721890, 9726639, 9751640, 9766582, 9770863, 9819004, 9821343, 9823099, 9826628, 9827342, 9828100, 9829148, 9830438, 9831898, 9832358, 9836868, 9852974, 9868175, 9872892, 9874848, 9911252, 9915386, 9937484, 9941792, 9945981, 9947183, 9953884, 9954293, 9960038, 10116806, 10118077, 10157383, 10204431, 10227906, 10254661, 10302362, 10358900, 10429510, 10429676, 10512804, 10512984, 10554170, 11065537, 11076134, 11077233, 11124430, 11149746, 11150366, 11150884, 11151135, 11151775, 11152151, 11153884, 11156154, 11156654, 11168967, 11183028, 11183608, 11184276, 11185041, 11186015, 11187250, 11188811, 11190934, 11191891, 11192262, 11192488, 11193539, 11194333, 11194675, 11195905, 11230893, 11234820, 11235757, 11238413, 11239502, 11265913, 11271464, 11271803, 11303236, 11305196, 11307284, 11343434, 11343512, 11360663, 11373071, 11376502, 11380695, 11416899, 11441381, 11477301, 11477675, 11558014, 11558894, 11611231, 11613867, 11645334, 11647571, 11652618, 11652732, 11699449, 11996318, 11997584, 12021671, 12025099, 12031795, 12039267, 12090146, 12091184, 12093365, 12093715, 12094904, 12103116, 12171462, 12171495, 12171627, 12172339, 12266869, 20187525, 20188732, 20275401, 20276050, 20335503, 20345337, 20346691, 20446397, 20518843, 20600526, 20605141, 20605277, 20605435, 20606628, 20765297, 20765855, 20827092, 20887639], \"coloraxis\": \"coloraxis\"}, \"mode\": \"markers\", \"name\": \"\", \"showlegend\": false, \"subplot\": \"mapbox\", \"type\": \"scattermapbox\"}],                        {\"coloraxis\": {\"colorbar\": {\"title\": {\"text\": \"index\"}}, \"colorscale\": [[0.0, \"rgb(0,0,255)\"], [1.0, \"rgb(255,0,0)\"]]}, \"legend\": {\"tracegroupgap\": 0}, \"mapbox\": {\"center\": {\"lat\": 40.85710144042969, \"lon\": -73.89298248291016}, \"domain\": {\"x\": [0.0, 1.0], \"y\": [0.0, 1.0]}, \"style\": \"open-street-map\", \"zoom\": 12}, \"template\": {\"data\": {\"bar\": [{\"error_x\": {\"color\": \"#2a3f5f\"}, \"error_y\": {\"color\": \"#2a3f5f\"}, \"marker\": {\"line\": {\"color\": \"#E5ECF6\", \"width\": 0.5}}, \"type\": \"bar\"}], \"barpolar\": [{\"marker\": {\"line\": {\"color\": \"#E5ECF6\", \"width\": 0.5}}, \"type\": \"barpolar\"}], \"carpet\": [{\"aaxis\": {\"endlinecolor\": \"#2a3f5f\", \"gridcolor\": \"white\", \"linecolor\": \"white\", \"minorgridcolor\": \"white\", \"startlinecolor\": \"#2a3f5f\"}, \"baxis\": {\"endlinecolor\": \"#2a3f5f\", \"gridcolor\": \"white\", \"linecolor\": \"white\", \"minorgridcolor\": \"white\", \"startlinecolor\": \"#2a3f5f\"}, \"type\": \"carpet\"}], \"choropleth\": [{\"colorbar\": {\"outlinewidth\": 0, \"ticks\": \"\"}, \"type\": \"choropleth\"}], \"contour\": [{\"colorbar\": {\"outlinewidth\": 0, \"ticks\": \"\"}, \"colorscale\": [[0.0, \"#0d0887\"], [0.1111111111111111, \"#46039f\"], [0.2222222222222222, \"#7201a8\"], [0.3333333333333333, \"#9c179e\"], [0.4444444444444444, \"#bd3786\"], [0.5555555555555556, \"#d8576b\"], [0.6666666666666666, \"#ed7953\"], [0.7777777777777778, \"#fb9f3a\"], [0.8888888888888888, \"#fdca26\"], [1.0, \"#f0f921\"]], \"type\": \"contour\"}], \"contourcarpet\": [{\"colorbar\": {\"outlinewidth\": 0, \"ticks\": \"\"}, \"type\": \"contourcarpet\"}], \"heatmap\": [{\"colorbar\": {\"outlinewidth\": 0, \"ticks\": \"\"}, \"colorscale\": [[0.0, \"#0d0887\"], [0.1111111111111111, \"#46039f\"], [0.2222222222222222, \"#7201a8\"], [0.3333333333333333, \"#9c179e\"], [0.4444444444444444, \"#bd3786\"], [0.5555555555555556, \"#d8576b\"], [0.6666666666666666, \"#ed7953\"], [0.7777777777777778, \"#fb9f3a\"], [0.8888888888888888, \"#fdca26\"], [1.0, \"#f0f921\"]], \"type\": \"heatmap\"}], \"heatmapgl\": [{\"colorbar\": {\"outlinewidth\": 0, \"ticks\": \"\"}, \"colorscale\": [[0.0, \"#0d0887\"], [0.1111111111111111, \"#46039f\"], [0.2222222222222222, \"#7201a8\"], [0.3333333333333333, \"#9c179e\"], [0.4444444444444444, \"#bd3786\"], [0.5555555555555556, \"#d8576b\"], [0.6666666666666666, \"#ed7953\"], [0.7777777777777778, \"#fb9f3a\"], [0.8888888888888888, \"#fdca26\"], [1.0, \"#f0f921\"]], \"type\": \"heatmapgl\"}], \"histogram\": [{\"marker\": {\"colorbar\": {\"outlinewidth\": 0, \"ticks\": \"\"}}, \"type\": \"histogram\"}], \"histogram2d\": [{\"colorbar\": {\"outlinewidth\": 0, \"ticks\": \"\"}, \"colorscale\": [[0.0, \"#0d0887\"], [0.1111111111111111, \"#46039f\"], [0.2222222222222222, \"#7201a8\"], [0.3333333333333333, \"#9c179e\"], [0.4444444444444444, \"#bd3786\"], [0.5555555555555556, \"#d8576b\"], [0.6666666666666666, \"#ed7953\"], [0.7777777777777778, \"#fb9f3a\"], [0.8888888888888888, \"#fdca26\"], [1.0, \"#f0f921\"]], \"type\": \"histogram2d\"}], \"histogram2dcontour\": [{\"colorbar\": {\"outlinewidth\": 0, \"ticks\": \"\"}, \"colorscale\": [[0.0, \"#0d0887\"], [0.1111111111111111, \"#46039f\"], [0.2222222222222222, \"#7201a8\"], [0.3333333333333333, \"#9c179e\"], [0.4444444444444444, \"#bd3786\"], [0.5555555555555556, \"#d8576b\"], [0.6666666666666666, \"#ed7953\"], [0.7777777777777778, \"#fb9f3a\"], [0.8888888888888888, \"#fdca26\"], [1.0, \"#f0f921\"]], \"type\": \"histogram2dcontour\"}], \"mesh3d\": [{\"colorbar\": {\"outlinewidth\": 0, \"ticks\": \"\"}, \"type\": \"mesh3d\"}], \"parcoords\": [{\"line\": {\"colorbar\": {\"outlinewidth\": 0, \"ticks\": \"\"}}, \"type\": \"parcoords\"}], \"pie\": [{\"automargin\": true, \"type\": \"pie\"}], \"scatter\": [{\"marker\": {\"colorbar\": {\"outlinewidth\": 0, \"ticks\": \"\"}}, \"type\": \"scatter\"}], \"scatter3d\": [{\"line\": {\"colorbar\": {\"outlinewidth\": 0, \"ticks\": \"\"}}, \"marker\": {\"colorbar\": {\"outlinewidth\": 0, \"ticks\": \"\"}}, \"type\": \"scatter3d\"}], \"scattercarpet\": [{\"marker\": {\"colorbar\": {\"outlinewidth\": 0, \"ticks\": \"\"}}, \"type\": \"scattercarpet\"}], \"scattergeo\": [{\"marker\": {\"colorbar\": {\"outlinewidth\": 0, \"ticks\": \"\"}}, \"type\": \"scattergeo\"}], \"scattergl\": [{\"marker\": {\"colorbar\": {\"outlinewidth\": 0, \"ticks\": \"\"}}, \"type\": \"scattergl\"}], \"scattermapbox\": [{\"marker\": {\"colorbar\": {\"outlinewidth\": 0, \"ticks\": \"\"}}, \"type\": \"scattermapbox\"}], \"scatterpolar\": [{\"marker\": {\"colorbar\": {\"outlinewidth\": 0, \"ticks\": \"\"}}, \"type\": \"scatterpolar\"}], \"scatterpolargl\": [{\"marker\": {\"colorbar\": {\"outlinewidth\": 0, \"ticks\": \"\"}}, \"type\": \"scatterpolargl\"}], \"scatterternary\": [{\"marker\": {\"colorbar\": {\"outlinewidth\": 0, \"ticks\": \"\"}}, \"type\": \"scatterternary\"}], \"surface\": [{\"colorbar\": {\"outlinewidth\": 0, \"ticks\": \"\"}, \"colorscale\": [[0.0, \"#0d0887\"], [0.1111111111111111, \"#46039f\"], [0.2222222222222222, \"#7201a8\"], [0.3333333333333333, \"#9c179e\"], [0.4444444444444444, \"#bd3786\"], [0.5555555555555556, \"#d8576b\"], [0.6666666666666666, \"#ed7953\"], [0.7777777777777778, \"#fb9f3a\"], [0.8888888888888888, \"#fdca26\"], [1.0, \"#f0f921\"]], \"type\": \"surface\"}], \"table\": [{\"cells\": {\"fill\": {\"color\": \"#EBF0F8\"}, \"line\": {\"color\": \"white\"}}, \"header\": {\"fill\": {\"color\": \"#C8D4E3\"}, \"line\": {\"color\": \"white\"}}, \"type\": \"table\"}]}, \"layout\": {\"annotationdefaults\": {\"arrowcolor\": \"#2a3f5f\", \"arrowhead\": 0, \"arrowwidth\": 1}, \"autotypenumbers\": \"strict\", \"coloraxis\": {\"colorbar\": {\"outlinewidth\": 0, \"ticks\": \"\"}}, \"colorscale\": {\"diverging\": [[0, \"#8e0152\"], [0.1, \"#c51b7d\"], [0.2, \"#de77ae\"], [0.3, \"#f1b6da\"], [0.4, \"#fde0ef\"], [0.5, \"#f7f7f7\"], [0.6, \"#e6f5d0\"], [0.7, \"#b8e186\"], [0.8, \"#7fbc41\"], [0.9, \"#4d9221\"], [1, \"#276419\"]], \"sequential\": [[0.0, \"#0d0887\"], [0.1111111111111111, \"#46039f\"], [0.2222222222222222, \"#7201a8\"], [0.3333333333333333, \"#9c179e\"], [0.4444444444444444, \"#bd3786\"], [0.5555555555555556, \"#d8576b\"], [0.6666666666666666, \"#ed7953\"], [0.7777777777777778, \"#fb9f3a\"], [0.8888888888888888, \"#fdca26\"], [1.0, \"#f0f921\"]], \"sequentialminus\": [[0.0, \"#0d0887\"], [0.1111111111111111, \"#46039f\"], [0.2222222222222222, \"#7201a8\"], [0.3333333333333333, \"#9c179e\"], [0.4444444444444444, \"#bd3786\"], [0.5555555555555556, \"#d8576b\"], [0.6666666666666666, \"#ed7953\"], [0.7777777777777778, \"#fb9f3a\"], [0.8888888888888888, \"#fdca26\"], [1.0, \"#f0f921\"]]}, \"colorway\": [\"#636efa\", \"#EF553B\", \"#00cc96\", \"#ab63fa\", \"#FFA15A\", \"#19d3f3\", \"#FF6692\", \"#B6E880\", \"#FF97FF\", \"#FECB52\"], \"font\": {\"color\": \"#2a3f5f\"}, \"geo\": {\"bgcolor\": \"white\", \"lakecolor\": \"white\", \"landcolor\": \"#E5ECF6\", \"showlakes\": true, \"showland\": true, \"subunitcolor\": \"white\"}, \"hoverlabel\": {\"align\": \"left\"}, \"hovermode\": \"closest\", \"mapbox\": {\"style\": \"light\"}, \"paper_bgcolor\": \"white\", \"plot_bgcolor\": \"#E5ECF6\", \"polar\": {\"angularaxis\": {\"gridcolor\": \"white\", \"linecolor\": \"white\", \"ticks\": \"\"}, \"bgcolor\": \"#E5ECF6\", \"radialaxis\": {\"gridcolor\": \"white\", \"linecolor\": \"white\", \"ticks\": \"\"}}, \"scene\": {\"xaxis\": {\"backgroundcolor\": \"#E5ECF6\", \"gridcolor\": \"white\", \"gridwidth\": 2, \"linecolor\": \"white\", \"showbackground\": true, \"ticks\": \"\", \"zerolinecolor\": \"white\"}, \"yaxis\": {\"backgroundcolor\": \"#E5ECF6\", \"gridcolor\": \"white\", \"gridwidth\": 2, \"linecolor\": \"white\", \"showbackground\": true, \"ticks\": \"\", \"zerolinecolor\": \"white\"}, \"zaxis\": {\"backgroundcolor\": \"#E5ECF6\", \"gridcolor\": \"white\", \"gridwidth\": 2, \"linecolor\": \"white\", \"showbackground\": true, \"ticks\": \"\", \"zerolinecolor\": \"white\"}}, \"shapedefaults\": {\"line\": {\"color\": \"#2a3f5f\"}}, \"ternary\": {\"aaxis\": {\"gridcolor\": \"white\", \"linecolor\": \"white\", \"ticks\": \"\"}, \"baxis\": {\"gridcolor\": \"white\", \"linecolor\": \"white\", \"ticks\": \"\"}, \"bgcolor\": \"#E5ECF6\", \"caxis\": {\"gridcolor\": \"white\", \"linecolor\": \"white\", \"ticks\": \"\"}}, \"title\": {\"x\": 0.05}, \"xaxis\": {\"automargin\": true, \"gridcolor\": \"white\", \"linecolor\": \"white\", \"ticks\": \"\", \"title\": {\"standoff\": 15}, \"zerolinecolor\": \"white\", \"zerolinewidth\": 2}, \"yaxis\": {\"automargin\": true, \"gridcolor\": \"white\", \"linecolor\": \"white\", \"ticks\": \"\", \"title\": {\"standoff\": 15}, \"zerolinecolor\": \"white\", \"zerolinewidth\": 2}}}, \"title\": {\"text\": \"End Station Coordinates\"}},                        {\"responsive\": true}                    ).then(function(){\n",
       "                            \n",
       "var gd = document.getElementById('d54d8541-fb9e-4c3f-84d7-89fff6c0cec1');\n",
       "var x = new MutationObserver(function (mutations, observer) {{\n",
       "        var display = window.getComputedStyle(gd).display;\n",
       "        if (!display || display === 'none') {{\n",
       "            console.log([gd, 'removed!']);\n",
       "            Plotly.purge(gd);\n",
       "            observer.disconnect();\n",
       "        }}\n",
       "}});\n",
       "\n",
       "// Listen for the removal of the full notebook cells\n",
       "var notebookContainer = gd.closest('#notebook-container');\n",
       "if (notebookContainer) {{\n",
       "    x.observe(notebookContainer, {childList: true});\n",
       "}}\n",
       "\n",
       "// Listen for the clearing of the current output cell\n",
       "var outputEl = gd.closest('.output');\n",
       "if (outputEl) {{\n",
       "    x.observe(outputEl, {childList: true});\n",
       "}}\n",
       "\n",
       "                        })                };                });            </script>        </div>"
      ]
     },
     "metadata": {},
     "output_type": "display_data"
    }
   ],
   "source": [
    "# Mapping the end coordinates\n",
    "nulldf_end = df[df['end station id'].isnull()][['end station latitude','end station longitude','index']].drop_duplicates()\n",
    "nullfig_end = px.scatter_mapbox(nulldf_end,\n",
    "                          lat='end station latitude',\n",
    "                          lon='end station longitude',\n",
    "                          color='index',\n",
    "                          color_continuous_scale='bluered',\n",
    "                          zoom=12,\n",
    "                          title='End Station Coordinates'\n",
    ")\n",
    "\n",
    "pl.offline.iplot(nullfig_end.update_layout(mapbox_style=\"open-street-map\"), filename='end_stations.png')"
   ]
  },
  {
   "cell_type": "markdown",
   "metadata": {},
   "source": [
    "Since the null values seem like errors, and are not located near any known stations, I decided to remove them."
   ]
  },
  {
   "cell_type": "code",
   "execution_count": 81,
   "metadata": {},
   "outputs": [],
   "source": [
    "# Remove all rows with null values\n",
    "df_nonull = df.dropna(how='any',axis=0)"
   ]
  },
  {
   "cell_type": "code",
   "execution_count": 82,
   "metadata": {
    "scrolled": true
   },
   "outputs": [
    {
     "data": {
      "text/plain": [
       "False"
      ]
     },
     "execution_count": 82,
     "metadata": {},
     "output_type": "execute_result"
    }
   ],
   "source": [
    "# Check if there are remaining nulls\n",
    "df_nonull.isnull().values.any()"
   ]
  },
  {
   "cell_type": "markdown",
   "metadata": {},
   "source": [
    "## 📅 Birth Year"
   ]
  },
  {
   "cell_type": "code",
   "execution_count": 83,
   "metadata": {},
   "outputs": [
    {
     "data": {
      "image/png": "[encoded data removed]",
      "text/plain": [
       "<Figure size 432x288 with 1 Axes>"
      ]
     },
     "metadata": {
      "needs_background": "light"
     },
     "output_type": "display_data"
    }
   ],
   "source": [
    "# Get histogram of the birth years\n",
    "df_nonull[['birth year']].hist()\n",
    "plt.ticklabel_format(useOffset=False, style='plain')\n",
    "plt.show()"
   ]
  },
  {
   "cell_type": "code",
   "execution_count": 84,
   "metadata": {
    "scrolled": false
   },
   "outputs": [
    {
     "data": {
      "text/plain": [
       "<AxesSubplot:>"
      ]
     },
     "execution_count": 84,
     "metadata": {},
     "output_type": "execute_result"
    },
    {
     "data": {
      "image/png": "[encoded data removed]",
      "text/plain": [
       "<Figure size 432x288 with 1 Axes>"
      ]
     },
     "metadata": {
      "needs_background": "light"
     },
     "output_type": "display_data"
    }
   ],
   "source": [
    "df_nonull[['birth year']].plot(kind='box')"
   ]
  },
  {
   "cell_type": "markdown",
   "metadata": {},
   "source": [
    "We can see that 'birth year' goes as far back as 1860. These are clearly errors. I decided that 70 is a reasonable cutoff age."
   ]
  },
  {
   "cell_type": "code",
   "execution_count": 85,
   "metadata": {},
   "outputs": [
    {
     "name": "stderr",
     "output_type": "stream",
     "text": [
      "<ipython-input-85-9988861875fd>:4: FutureWarning:\n",
      "\n",
      "Index.__or__ operating as a set operation is deprecated, in the future this will be a logical operation matching Series.__or__.  Use index.union(other) instead\n",
      "\n",
      "<ipython-input-85-9988861875fd>:4: FutureWarning:\n",
      "\n",
      "Index.__or__ operating as a set operation is deprecated, in the future this will be a logical operation matching Series.__or__.  Use index.union(other) instead\n",
      "\n"
     ]
    }
   ],
   "source": [
    "# Drop rows with riders over the age of 70\n",
    "max_age = 70\n",
    "df_nonull_cleanage = df_nonull.drop(\n",
    "    (df_nonull[(df_nonull['starttime'].dt.year==2019) & (df_nonull['birth year']<(2019-max_age))].index) |\\\n",
    "    (df_nonull[(df_nonull['starttime'].dt.year==2020) & (df_nonull['birth year']<(2020-max_age))].index) |\\\n",
    "    (df_nonull[(df_nonull['starttime'].dt.year==2021) & (df_nonull['birth year']<(2021-max_age))].index)\n",
    ")"
   ]
  },
  {
   "cell_type": "code",
   "execution_count": 86,
   "metadata": {
    "scrolled": false
   },
   "outputs": [
    {
     "data": {
      "text/plain": [
       "<AxesSubplot:>"
      ]
     },
     "execution_count": 86,
     "metadata": {},
     "output_type": "execute_result"
    },
    {
     "data": {
      "image/png": "[encoded data removed]",
      "text/plain": [
       "<Figure size 432x288 with 1 Axes>"
      ]
     },
     "metadata": {
      "needs_background": "light"
     },
     "output_type": "display_data"
    }
   ],
   "source": [
    "df_nonull_cleanage[['birth year']].plot(kind='box')"
   ]
  },
  {
   "cell_type": "code",
   "execution_count": 87,
   "metadata": {
    "scrolled": true
   },
   "outputs": [
    {
     "data": {
      "image/png": "[encoded data removed]",
      "text/plain": [
       "<Figure size 432x288 with 1 Axes>"
      ]
     },
     "metadata": {
      "needs_background": "light"
     },
     "output_type": "display_data"
    }
   ],
   "source": [
    "# Updated histogram of birth years \n",
    "df_nonull_cleanage[['birth year']].hist()\n",
    "plt.ticklabel_format(useOffset=False, style='plain')\n",
    "plt.show()"
   ]
  },
  {
   "cell_type": "code",
   "execution_count": 88,
   "metadata": {},
   "outputs": [],
   "source": [
    "# Delete previous dataframe to save memory\n",
    "del df_nonull"
   ]
  },
  {
   "cell_type": "code",
   "execution_count": 89,
   "metadata": {},
   "outputs": [
    {
     "data": {
      "text/plain": [
       "16198"
      ]
     },
     "execution_count": 89,
     "metadata": {},
     "output_type": "execute_result"
    }
   ],
   "source": [
    "import gc;gc.collect()"
   ]
  },
  {
   "cell_type": "markdown",
   "metadata": {},
   "source": [
    "## ⌛ Trip Duration"
   ]
  },
  {
   "cell_type": "code",
   "execution_count": 90,
   "metadata": {},
   "outputs": [],
   "source": [
    "# Convert 'trip duration' from seconds to minutes\n",
    "df_nonull_cleanage['tripminutes'] = df_nonull_cleanage['tripduration']/60"
   ]
  },
  {
   "cell_type": "code",
   "execution_count": 92,
   "metadata": {},
   "outputs": [
    {
     "ename": "TypeError",
     "evalue": "'str' object is not callable",
     "output_type": "error",
     "traceback": [
      "\u001b[0;31m---------------------------------------------------------------------------\u001b[0m",
      "\u001b[0;31mTypeError\u001b[0m                                 Traceback (most recent call last)",
      "\u001b[0;32m<ipython-input-92-7a3cce030924>\u001b[0m in \u001b[0;36m<module>\u001b[0;34m\u001b[0m\n\u001b[1;32m      1\u001b[0m \u001b[0;31m# Visualize histogram of 'trip minutes'\u001b[0m\u001b[0;34m\u001b[0m\u001b[0;34m\u001b[0m\u001b[0;34m\u001b[0m\u001b[0m\n\u001b[1;32m      2\u001b[0m \u001b[0mplt\u001b[0m\u001b[0;34m.\u001b[0m\u001b[0mhist\u001b[0m\u001b[0;34m(\u001b[0m\u001b[0;34m(\u001b[0m\u001b[0mdf_nonull_cleanage\u001b[0m\u001b[0;34m[\u001b[0m\u001b[0;34m'tripminutes'\u001b[0m\u001b[0;34m]\u001b[0m\u001b[0;34m)\u001b[0m\u001b[0;34m,\u001b[0m \u001b[0mlog\u001b[0m\u001b[0;34m=\u001b[0m\u001b[0;32mFalse\u001b[0m\u001b[0;34m,\u001b[0m \u001b[0mbins\u001b[0m\u001b[0;34m=\u001b[0m\u001b[0mrange\u001b[0m\u001b[0;34m(\u001b[0m\u001b[0;36m0\u001b[0m\u001b[0;34m,\u001b[0m\u001b[0;36m61\u001b[0m\u001b[0;34m)\u001b[0m\u001b[0;34m,\u001b[0m\u001b[0medgecolor\u001b[0m\u001b[0;34m=\u001b[0m\u001b[0;34m'b'\u001b[0m\u001b[0;34m)\u001b[0m\u001b[0;34m\u001b[0m\u001b[0;34m\u001b[0m\u001b[0m\n\u001b[0;32m----> 3\u001b[0;31m \u001b[0mplt\u001b[0m\u001b[0;34m.\u001b[0m\u001b[0mxlabel\u001b[0m\u001b[0;34m(\u001b[0m\u001b[0;34m'minutes'\u001b[0m\u001b[0;34m)\u001b[0m\u001b[0;34m\u001b[0m\u001b[0;34m\u001b[0m\u001b[0m\n\u001b[0m\u001b[1;32m      4\u001b[0m \u001b[0mplt\u001b[0m\u001b[0;34m.\u001b[0m\u001b[0mylabel\u001b[0m\u001b[0;34m(\u001b[0m\u001b[0;34m'count'\u001b[0m\u001b[0;34m)\u001b[0m\u001b[0;34m\u001b[0m\u001b[0;34m\u001b[0m\u001b[0m\n",
      "\u001b[0;31mTypeError\u001b[0m: 'str' object is not callable"
     ]
    },
    {
     "data": {
      "image/png": "[encoded data removed]",
      "text/plain": [
       "<Figure size 432x288 with 1 Axes>"
      ]
     },
     "metadata": {
      "needs_background": "light"
     },
     "output_type": "display_data"
    }
   ],
   "source": [
    "# Visualize histogram of 'trip minutes'\n",
    "plt.hist((df_nonull_cleanage['tripminutes']), log=False, bins=range(0,61),edgecolor='b')\n",
    "plt.xlabel('minutes')\n",
    "plt.ylabel('count')"
   ]
  },
  {
   "cell_type": "code",
   "execution_count": 93,
   "metadata": {},
   "outputs": [],
   "source": [
    "# Define 1st and 3th quartiles of 'tripminutes'\n",
    "Q1_minutes = df_nonull_cleanage['tripminutes'].quantile(0.25)\n",
    "Q3_minutes = df_nonull_cleanage['tripminutes'].quantile(0.75)\n",
    "\n",
    "# Calculate IQR\n",
    "IQR_minutes = Q3_minutes - Q1_minutes"
   ]
  },
  {
   "cell_type": "code",
   "execution_count": 94,
   "metadata": {
    "scrolled": true
   },
   "outputs": [],
   "source": [
    "# Removing the outliers\n",
    "minutes_lowerrange = (Q1_minutes - (1.5 * IQR_minutes))\n",
    "minutes_upperrange = (Q3_minutes + (1.5 * IQR_minutes))"
   ]
  },
  {
   "cell_type": "code",
   "execution_count": 95,
   "metadata": {
    "scrolled": true
   },
   "outputs": [],
   "source": [
    "# Creating a dataframe without the outliers\n",
    "df_clean = df_nonull_cleanage[((df_nonull_cleanage['tripminutes'] <= minutes_upperrange) & (df_nonull_cleanage['tripminutes'] >= minutes_lowerrange))]"
   ]
  },
  {
   "cell_type": "code",
   "execution_count": 96,
   "metadata": {},
   "outputs": [],
   "source": [
    "# Delete previous dataframe to save memory\n",
    "del df_nonull_cleanage"
   ]
  },
  {
   "cell_type": "code",
   "execution_count": 97,
   "metadata": {},
   "outputs": [
    {
     "data": {
      "text/plain": [
       "13239"
      ]
     },
     "execution_count": 97,
     "metadata": {},
     "output_type": "execute_result"
    }
   ],
   "source": [
    "gc.collect()"
   ]
  },
  {
   "cell_type": "markdown",
   "metadata": {},
   "source": [
    "## 💵 Revenue"
   ]
  },
  {
   "cell_type": "code",
   "execution_count": 98,
   "metadata": {},
   "outputs": [],
   "source": [
    "# Convert 'Customer' = 1\n",
    "# Convert 'Subscriber' = 2\n",
    "def user(x):\n",
    "    if x == 'Customer':\n",
    "        return 1\n",
    "    elif x == 'Subscriber':\n",
    "        return 2\n",
    "    else:\n",
    "        return 0\n",
    "\n",
    "df_clean['usertype'] = df_clean['usertype'].apply(user)"
   ]
  },
  {
   "cell_type": "code",
   "execution_count": 99,
   "metadata": {
    "scrolled": false
   },
   "outputs": [
    {
     "data": {
      "text/plain": [
       "CategoricalDtype(categories=[1, 2], ordered=False)"
      ]
     },
     "execution_count": 99,
     "metadata": {},
     "output_type": "execute_result"
    }
   ],
   "source": [
    "df_clean['usertype'].dtypes"
   ]
  },
  {
   "cell_type": "code",
   "execution_count": 100,
   "metadata": {},
   "outputs": [],
   "source": [
    "# Create a function to calculate the revenue for each ride\n",
    "def revenue(row):\n",
    "    if (row['usertype'] == 1 and round(row['tripminutes'],2) <= 30.0):\n",
    "        return 3.50\n",
    "    elif (row['usertype'] == 2 and round(row['tripminutes'],2) <= 45.0):\n",
    "        return 0.00\n",
    "    elif (row['usertype'] == 1 and round(row['tripminutes'],2) > 30.0):\n",
    "        return 3.50 + (round(row['tripminutes'], 2) * 0.18)\n",
    "    elif (row['usertype'] == 2 and round(row['tripminutes'],2) > 45.0):\n",
    "        return round(row['tripminutes'],2) * 0.12\n",
    "    else:\n",
    "        return  -1"
   ]
  },
  {
   "cell_type": "code",
   "execution_count": 101,
   "metadata": {
    "scrolled": false
   },
   "outputs": [],
   "source": [
    "# Apply the function to create a new column\n",
    "df_clean['trip_revenue'] = df_clean[['usertype','tripminutes']].parallel_apply(revenue, axis=1)"
   ]
  },
  {
   "cell_type": "code",
   "execution_count": 102,
   "metadata": {
    "scrolled": true
   },
   "outputs": [
    {
     "data": {
      "text/plain": [
       "0.0"
      ]
     },
     "execution_count": 102,
     "metadata": {},
     "output_type": "execute_result"
    }
   ],
   "source": [
    "df_clean['trip_revenue'].min()"
   ]
  },
  {
   "cell_type": "code",
   "execution_count": 103,
   "metadata": {
    "scrolled": false
   },
   "outputs": [
    {
     "data": {
      "text/plain": [
       "30"
      ]
     },
     "execution_count": 103,
     "metadata": {},
     "output_type": "execute_result"
    }
   ],
   "source": [
    "gc.collect()"
   ]
  },
  {
   "cell_type": "markdown",
   "metadata": {},
   "source": [
    "# 📊 Graphing"
   ]
  },
  {
   "cell_type": "markdown",
   "metadata": {},
   "source": [
    "## 🧮 Demographics"
   ]
  },
  {
   "cell_type": "code",
   "execution_count": 104,
   "metadata": {
    "scrolled": true
   },
   "outputs": [],
   "source": [
    "# Create columns with year\n",
    "df_clean['start_year'] = df_clean['starttime'].dt.year\n",
    "df_clean['end_year'] = df_clean['stoptime'].dt.year"
   ]
  },
  {
   "cell_type": "code",
   "execution_count": 105,
   "metadata": {},
   "outputs": [
    {
     "data": {
      "text/plain": [
       "Index(['index', 'tripduration', 'starttime', 'stoptime', 'start station id',\n",
       "       'start station name', 'start station latitude',\n",
       "       'start station longitude', 'end station id', 'end station name',\n",
       "       'end station latitude', 'end station longitude', 'bikeid', 'usertype',\n",
       "       'birth year', 'gender', 'tripminutes', 'trip_revenue', 'start_year',\n",
       "       'end_year'],\n",
       "      dtype='object')"
      ]
     },
     "execution_count": 105,
     "metadata": {},
     "output_type": "execute_result"
    }
   ],
   "source": [
    "df_clean.columns"
   ]
  },
  {
   "cell_type": "code",
   "execution_count": 106,
   "metadata": {},
   "outputs": [],
   "source": [
    "# Create an 'age' column\n",
    "df_clean['age'] = (df_clean['start_year'] - df_clean['birth year'])"
   ]
  },
  {
   "cell_type": "code",
   "execution_count": 107,
   "metadata": {},
   "outputs": [],
   "source": [
    "# Create a new dataframe with average age by gender by user\n",
    "user_age = df_clean.groupby(['usertype','gender']).agg({'age': ['mean']}).reset_index()\n",
    "user_age.columns = user_age.columns.get_level_values(0)"
   ]
  },
  {
   "cell_type": "code",
   "execution_count": 108,
   "metadata": {},
   "outputs": [],
   "source": [
    "# Convert back to 'Customer' = 1\n",
    "# Convert back to 'Subscriber' = 2\n",
    "def userback(x):\n",
    "    if x == 1:\n",
    "        return 'Customer'\n",
    "    elif x == 2:\n",
    "        return 'Subscriber'\n",
    "    else:\n",
    "        return 0\n",
    "\n",
    "user_age['usertype'] = user_age['usertype'].apply(userback)"
   ]
  },
  {
   "cell_type": "code",
   "execution_count": 109,
   "metadata": {},
   "outputs": [],
   "source": [
    "# Convert gender to strings\n",
    "def gender(x):\n",
    "    if x == 0:\n",
    "        return 'Unknown'\n",
    "    elif x == 1:\n",
    "        return 'Male'\n",
    "    elif x == 2:\n",
    "        return 'Female'\n",
    "    else:\n",
    "        return 0\n",
    "\n",
    "user_age['gender'] = user_age['gender'].apply(gender)"
   ]
  },
  {
   "cell_type": "code",
   "execution_count": 110,
   "metadata": {
    "scrolled": true
   },
   "outputs": [
    {
     "data": {
      "image/png": "[encoded data removed]",
      "text/plain": [
       "<Figure size 432x288 with 1 Axes>"
      ]
     },
     "metadata": {
      "needs_background": "light"
     },
     "output_type": "display_data"
    }
   ],
   "source": [
    "# Plot bar chart with average age by gender and user\n",
    "plt.figure()\n",
    "sns.barplot(\n",
    "    x = 'usertype',\n",
    "    y = 'age',\n",
    "    hue = 'gender',\n",
    "    data = user_age\n",
    ")\n",
    "plt.show()"
   ]
  },
  {
   "cell_type": "code",
   "execution_count": 111,
   "metadata": {},
   "outputs": [],
   "source": [
    "# Find revenue by usertype and gender\n",
    "total_dem_rev = df_clean.groupby(['usertype','gender']).agg({'trip_revenue': ['sum']}).reset_index()\n",
    "total_dem_rev.columns = total_dem_rev.columns.get_level_values(0)\n",
    "total_dem_rev['usertype'] = total_dem_rev['usertype'].apply(userback)\n",
    "total_dem_rev['gender'] = total_dem_rev['gender'].apply(gender)"
   ]
  },
  {
   "cell_type": "code",
   "execution_count": 112,
   "metadata": {
    "scrolled": true
   },
   "outputs": [
    {
     "data": {
      "text/html": [
       "<div>\n",
       "<style scoped>\n",
       "    .dataframe tbody tr th:only-of-type {\n",
       "        vertical-align: middle;\n",
       "    }\n",
       "\n",
       "    .dataframe tbody tr th {\n",
       "        vertical-align: top;\n",
       "    }\n",
       "\n",
       "    .dataframe thead th {\n",
       "        text-align: right;\n",
       "    }\n",
       "</style>\n",
       "<table border=\"1\" class=\"dataframe\">\n",
       "  <thead>\n",
       "    <tr style=\"text-align: right;\">\n",
       "      <th></th>\n",
       "      <th>usertype</th>\n",
       "      <th>gender</th>\n",
       "      <th>trip_revenue</th>\n",
       "    </tr>\n",
       "  </thead>\n",
       "  <tbody>\n",
       "    <tr>\n",
       "      <th>0</th>\n",
       "      <td>Customer</td>\n",
       "      <td>Unknown</td>\n",
       "      <td>4.526317e+06</td>\n",
       "    </tr>\n",
       "    <tr>\n",
       "      <th>1</th>\n",
       "      <td>Customer</td>\n",
       "      <td>Male</td>\n",
       "      <td>3.744347e+06</td>\n",
       "    </tr>\n",
       "    <tr>\n",
       "      <th>2</th>\n",
       "      <td>Customer</td>\n",
       "      <td>Female</td>\n",
       "      <td>2.082743e+06</td>\n",
       "    </tr>\n",
       "    <tr>\n",
       "      <th>3</th>\n",
       "      <td>Subscriber</td>\n",
       "      <td>Unknown</td>\n",
       "      <td>0.000000e+00</td>\n",
       "    </tr>\n",
       "    <tr>\n",
       "      <th>4</th>\n",
       "      <td>Subscriber</td>\n",
       "      <td>Male</td>\n",
       "      <td>0.000000e+00</td>\n",
       "    </tr>\n",
       "    <tr>\n",
       "      <th>5</th>\n",
       "      <td>Subscriber</td>\n",
       "      <td>Female</td>\n",
       "      <td>0.000000e+00</td>\n",
       "    </tr>\n",
       "  </tbody>\n",
       "</table>\n",
       "</div>"
      ],
      "text/plain": [
       "     usertype   gender  trip_revenue\n",
       "0    Customer  Unknown  4.526317e+06\n",
       "1    Customer     Male  3.744347e+06\n",
       "2    Customer   Female  2.082743e+06\n",
       "3  Subscriber  Unknown  0.000000e+00\n",
       "4  Subscriber     Male  0.000000e+00\n",
       "5  Subscriber   Female  0.000000e+00"
      ]
     },
     "execution_count": 112,
     "metadata": {},
     "output_type": "execute_result"
    }
   ],
   "source": [
    "total_dem_rev"
   ]
  },
  {
   "cell_type": "code",
   "execution_count": 113,
   "metadata": {
    "scrolled": true
   },
   "outputs": [
    {
     "data": {
      "image/png": "[encoded data removed]",
      "text/plain": [
       "<Figure size 432x288 with 1 Axes>"
      ]
     },
     "metadata": {
      "needs_background": "light"
     },
     "output_type": "display_data"
    }
   ],
   "source": [
    "plt.figure()\n",
    "sns.barplot(\n",
    "    x = 'usertype',\n",
    "    y = 'trip_revenue',\n",
    "    hue = 'gender',\n",
    "    data = total_dem_rev\n",
    ")\n",
    "plt.show()"
   ]
  },
  {
   "cell_type": "markdown",
   "metadata": {},
   "source": [
    "After removing outliers, Citi Bike makes no revenue off of Subscriber trips, meaning that they are 45 minutes or below. Note that Subscribers pay $15/month, they do not ride for free. This is the revenue from the trips."
   ]
  },
  {
   "cell_type": "code",
   "execution_count": 114,
   "metadata": {},
   "outputs": [],
   "source": [
    "# Find average duration of trips by usertype and gender\n",
    "avg_minutes = df_clean.groupby(['usertype','gender']).agg({'tripminutes': ['mean']}).reset_index()\n",
    "avg_minutes.columns = avg_minutes.columns.get_level_values(0)\n",
    "avg_minutes['usertype'] = avg_minutes['usertype'].apply(userback)\n",
    "avg_minutes['gender'] = avg_minutes['gender'].apply(gender)"
   ]
  },
  {
   "cell_type": "code",
   "execution_count": 115,
   "metadata": {},
   "outputs": [
    {
     "data": {
      "image/png": "[encoded data removed]",
      "text/plain": [
       "<Figure size 432x288 with 1 Axes>"
      ]
     },
     "metadata": {
      "needs_background": "light"
     },
     "output_type": "display_data"
    }
   ],
   "source": [
    "plt.figure()\n",
    "sns.barplot(\n",
    "    x = 'usertype',\n",
    "    y = 'tripminutes',\n",
    "    hue = 'gender',\n",
    "    data = avg_minutes\n",
    ")\n",
    "plt.show()"
   ]
  },
  {
   "cell_type": "markdown",
   "metadata": {},
   "source": [
    "We see that Subscribers' average trips are shorter than Customers' trips."
   ]
  },
  {
   "cell_type": "code",
   "execution_count": 116,
   "metadata": {},
   "outputs": [
    {
     "data": {
      "text/plain": [
       "11000"
      ]
     },
     "execution_count": 116,
     "metadata": {},
     "output_type": "execute_result"
    }
   ],
   "source": [
    "gc.collect()"
   ]
  },
  {
   "cell_type": "markdown",
   "metadata": {},
   "source": [
    "## 🚲 Incentivizing Station Returns"
   ]
  },
  {
   "cell_type": "markdown",
   "metadata": {},
   "source": [
    "Citi Bike has costs associated wtih reallocating bikes to popular stations, to ensure that there are enough bikes for users to ride. The below section looks at whether or not Citi Bike could potentially incentivize its users to return bikes to specific stations, rather than paying a third party to do so.\n",
    "\n",
    "Breakdown:\n",
    "- Flow rate per station: number of bikes going in and out of a station\n",
    " - Group trips by station id by year\n",
    " - Calculate flow = count(is end station) - count(is start station)\n",
    " - New dataframe of: station id | flow rate\n",
    "- Graph the stations with extreme flow rates"
   ]
  },
  {
   "cell_type": "code",
   "execution_count": 117,
   "metadata": {},
   "outputs": [],
   "source": [
    "# Create dataframe for flow out\n",
    "grouped_start = df_clean.groupby(['start station id', 'start_year']).agg({'bikeid': ['count'], 'start station latitude':['mean'],'start station longitude':['mean']})\n",
    "grouped_start = grouped_start.reset_index()"
   ]
  },
  {
   "cell_type": "code",
   "execution_count": 118,
   "metadata": {},
   "outputs": [
    {
     "data": {
      "text/html": [
       "<div>\n",
       "<style scoped>\n",
       "    .dataframe tbody tr th:only-of-type {\n",
       "        vertical-align: middle;\n",
       "    }\n",
       "\n",
       "    .dataframe tbody tr th {\n",
       "        vertical-align: top;\n",
       "    }\n",
       "\n",
       "    .dataframe thead tr th {\n",
       "        text-align: left;\n",
       "    }\n",
       "</style>\n",
       "<table border=\"1\" class=\"dataframe\">\n",
       "  <thead>\n",
       "    <tr>\n",
       "      <th></th>\n",
       "      <th>start station id</th>\n",
       "      <th>start_year</th>\n",
       "      <th>bikeid</th>\n",
       "      <th>start station latitude</th>\n",
       "      <th>start station longitude</th>\n",
       "    </tr>\n",
       "    <tr>\n",
       "      <th></th>\n",
       "      <th></th>\n",
       "      <th></th>\n",
       "      <th>count</th>\n",
       "      <th>mean</th>\n",
       "      <th>mean</th>\n",
       "    </tr>\n",
       "  </thead>\n",
       "  <tbody>\n",
       "    <tr>\n",
       "      <th>0</th>\n",
       "      <td>72.0</td>\n",
       "      <td>2019</td>\n",
       "      <td>42745</td>\n",
       "      <td>40.767273</td>\n",
       "      <td>-73.993927</td>\n",
       "    </tr>\n",
       "    <tr>\n",
       "      <th>1</th>\n",
       "      <td>79.0</td>\n",
       "      <td>2019</td>\n",
       "      <td>25668</td>\n",
       "      <td>40.719116</td>\n",
       "      <td>-74.006668</td>\n",
       "    </tr>\n",
       "    <tr>\n",
       "      <th>2</th>\n",
       "      <td>82.0</td>\n",
       "      <td>2019</td>\n",
       "      <td>13102</td>\n",
       "      <td>40.711174</td>\n",
       "      <td>-74.000168</td>\n",
       "    </tr>\n",
       "    <tr>\n",
       "      <th>3</th>\n",
       "      <td>83.0</td>\n",
       "      <td>2019</td>\n",
       "      <td>16761</td>\n",
       "      <td>40.683826</td>\n",
       "      <td>-73.976326</td>\n",
       "    </tr>\n",
       "    <tr>\n",
       "      <th>4</th>\n",
       "      <td>116.0</td>\n",
       "      <td>2019</td>\n",
       "      <td>47140</td>\n",
       "      <td>40.741776</td>\n",
       "      <td>-74.001495</td>\n",
       "    </tr>\n",
       "  </tbody>\n",
       "</table>\n",
       "</div>"
      ],
      "text/plain": [
       "  start station id start_year bikeid start station latitude  \\\n",
       "                               count                   mean   \n",
       "0             72.0       2019  42745              40.767273   \n",
       "1             79.0       2019  25668              40.719116   \n",
       "2             82.0       2019  13102              40.711174   \n",
       "3             83.0       2019  16761              40.683826   \n",
       "4            116.0       2019  47140              40.741776   \n",
       "\n",
       "  start station longitude  \n",
       "                     mean  \n",
       "0              -73.993927  \n",
       "1              -74.006668  \n",
       "2              -74.000168  \n",
       "3              -73.976326  \n",
       "4              -74.001495  "
      ]
     },
     "execution_count": 118,
     "metadata": {},
     "output_type": "execute_result"
    }
   ],
   "source": [
    "grouped_start.head()"
   ]
  },
  {
   "cell_type": "code",
   "execution_count": 119,
   "metadata": {},
   "outputs": [],
   "source": [
    "# Create dataframe for flow in\n",
    "grouped_end = df_clean.groupby(['end station id', 'end_year']).agg({'bikeid':['count']})\n",
    "grouped_end = grouped_end.reset_index()"
   ]
  },
  {
   "cell_type": "code",
   "execution_count": 120,
   "metadata": {},
   "outputs": [
    {
     "data": {
      "text/html": [
       "<div>\n",
       "<style scoped>\n",
       "    .dataframe tbody tr th:only-of-type {\n",
       "        vertical-align: middle;\n",
       "    }\n",
       "\n",
       "    .dataframe tbody tr th {\n",
       "        vertical-align: top;\n",
       "    }\n",
       "\n",
       "    .dataframe thead tr th {\n",
       "        text-align: left;\n",
       "    }\n",
       "</style>\n",
       "<table border=\"1\" class=\"dataframe\">\n",
       "  <thead>\n",
       "    <tr>\n",
       "      <th></th>\n",
       "      <th>end station id</th>\n",
       "      <th>end_year</th>\n",
       "      <th>bikeid</th>\n",
       "    </tr>\n",
       "    <tr>\n",
       "      <th></th>\n",
       "      <th></th>\n",
       "      <th></th>\n",
       "      <th>count</th>\n",
       "    </tr>\n",
       "  </thead>\n",
       "  <tbody>\n",
       "    <tr>\n",
       "      <th>0</th>\n",
       "      <td>72.0</td>\n",
       "      <td>2019</td>\n",
       "      <td>42512</td>\n",
       "    </tr>\n",
       "    <tr>\n",
       "      <th>1</th>\n",
       "      <td>79.0</td>\n",
       "      <td>2019</td>\n",
       "      <td>25984</td>\n",
       "    </tr>\n",
       "    <tr>\n",
       "      <th>2</th>\n",
       "      <td>82.0</td>\n",
       "      <td>2019</td>\n",
       "      <td>13106</td>\n",
       "    </tr>\n",
       "    <tr>\n",
       "      <th>3</th>\n",
       "      <td>83.0</td>\n",
       "      <td>2019</td>\n",
       "      <td>18807</td>\n",
       "    </tr>\n",
       "    <tr>\n",
       "      <th>4</th>\n",
       "      <td>116.0</td>\n",
       "      <td>2019</td>\n",
       "      <td>47646</td>\n",
       "    </tr>\n",
       "  </tbody>\n",
       "</table>\n",
       "</div>"
      ],
      "text/plain": [
       "  end station id end_year bikeid\n",
       "                           count\n",
       "0           72.0     2019  42512\n",
       "1           79.0     2019  25984\n",
       "2           82.0     2019  13106\n",
       "3           83.0     2019  18807\n",
       "4          116.0     2019  47646"
      ]
     },
     "execution_count": 120,
     "metadata": {},
     "output_type": "execute_result"
    }
   ],
   "source": [
    "grouped_end.head()"
   ]
  },
  {
   "cell_type": "code",
   "execution_count": 121,
   "metadata": {},
   "outputs": [],
   "source": [
    "# Merge the two and flatten the headers\n",
    "grouped = pd.merge(grouped_start,grouped_end,\n",
    "    left_on=['start station id','start_year'], right_on=['end station id','end_year'], how='left')\n",
    "\n",
    "grouped.columns = grouped.columns.get_level_values(0)"
   ]
  },
  {
   "cell_type": "code",
   "execution_count": 122,
   "metadata": {},
   "outputs": [
    {
     "data": {
      "text/html": [
       "<div>\n",
       "<style scoped>\n",
       "    .dataframe tbody tr th:only-of-type {\n",
       "        vertical-align: middle;\n",
       "    }\n",
       "\n",
       "    .dataframe tbody tr th {\n",
       "        vertical-align: top;\n",
       "    }\n",
       "\n",
       "    .dataframe thead th {\n",
       "        text-align: right;\n",
       "    }\n",
       "</style>\n",
       "<table border=\"1\" class=\"dataframe\">\n",
       "  <thead>\n",
       "    <tr style=\"text-align: right;\">\n",
       "      <th></th>\n",
       "      <th>start station id</th>\n",
       "      <th>start_year</th>\n",
       "      <th>bikeid_x</th>\n",
       "      <th>start station latitude</th>\n",
       "      <th>start station longitude</th>\n",
       "      <th>end station id</th>\n",
       "      <th>end_year</th>\n",
       "      <th>bikeid_y</th>\n",
       "    </tr>\n",
       "  </thead>\n",
       "  <tbody>\n",
       "    <tr>\n",
       "      <th>0</th>\n",
       "      <td>72.0</td>\n",
       "      <td>2019</td>\n",
       "      <td>42745</td>\n",
       "      <td>40.767273</td>\n",
       "      <td>-73.993927</td>\n",
       "      <td>72.0</td>\n",
       "      <td>2019</td>\n",
       "      <td>42512</td>\n",
       "    </tr>\n",
       "    <tr>\n",
       "      <th>1</th>\n",
       "      <td>79.0</td>\n",
       "      <td>2019</td>\n",
       "      <td>25668</td>\n",
       "      <td>40.719116</td>\n",
       "      <td>-74.006668</td>\n",
       "      <td>79.0</td>\n",
       "      <td>2019</td>\n",
       "      <td>25984</td>\n",
       "    </tr>\n",
       "    <tr>\n",
       "      <th>2</th>\n",
       "      <td>82.0</td>\n",
       "      <td>2019</td>\n",
       "      <td>13102</td>\n",
       "      <td>40.711174</td>\n",
       "      <td>-74.000168</td>\n",
       "      <td>82.0</td>\n",
       "      <td>2019</td>\n",
       "      <td>13106</td>\n",
       "    </tr>\n",
       "    <tr>\n",
       "      <th>3</th>\n",
       "      <td>83.0</td>\n",
       "      <td>2019</td>\n",
       "      <td>16761</td>\n",
       "      <td>40.683826</td>\n",
       "      <td>-73.976326</td>\n",
       "      <td>83.0</td>\n",
       "      <td>2019</td>\n",
       "      <td>18807</td>\n",
       "    </tr>\n",
       "    <tr>\n",
       "      <th>4</th>\n",
       "      <td>116.0</td>\n",
       "      <td>2019</td>\n",
       "      <td>47140</td>\n",
       "      <td>40.741776</td>\n",
       "      <td>-74.001495</td>\n",
       "      <td>116.0</td>\n",
       "      <td>2019</td>\n",
       "      <td>47646</td>\n",
       "    </tr>\n",
       "  </tbody>\n",
       "</table>\n",
       "</div>"
      ],
      "text/plain": [
       "   start station id  start_year  bikeid_x  start station latitude  \\\n",
       "0              72.0        2019     42745               40.767273   \n",
       "1              79.0        2019     25668               40.719116   \n",
       "2              82.0        2019     13102               40.711174   \n",
       "3              83.0        2019     16761               40.683826   \n",
       "4             116.0        2019     47140               40.741776   \n",
       "\n",
       "   start station longitude  end station id  end_year  bikeid_y  \n",
       "0               -73.993927            72.0      2019     42512  \n",
       "1               -74.006668            79.0      2019     25984  \n",
       "2               -74.000168            82.0      2019     13106  \n",
       "3               -73.976326            83.0      2019     18807  \n",
       "4               -74.001495           116.0      2019     47646  "
      ]
     },
     "execution_count": 122,
     "metadata": {},
     "output_type": "execute_result"
    }
   ],
   "source": [
    "# See what the new dataframe looks like\n",
    "grouped.head()"
   ]
  },
  {
   "cell_type": "code",
   "execution_count": 123,
   "metadata": {},
   "outputs": [],
   "source": [
    "# Remove the unnecessary columns\n",
    "grouped = grouped.drop(columns=['end station id','end_year'])"
   ]
  },
  {
   "cell_type": "code",
   "execution_count": 124,
   "metadata": {},
   "outputs": [],
   "source": [
    "# Rename the columns\n",
    "grouped = grouped.rename(columns={\n",
    "'start station id': 'station_id',\n",
    "'start_year': 'year',\n",
    "'bikeid_x': 'flow_out',\n",
    "'bikeid_y': 'flow_in',\n",
    "'start station latitude': 'lat',\n",
    "'start station longitude': 'lon'\n",
    "    })"
   ]
  },
  {
   "cell_type": "code",
   "execution_count": 125,
   "metadata": {},
   "outputs": [],
   "source": [
    "# Create a column to calculate the flow rate\n",
    "grouped['flow_rate'] = grouped['flow_in'] - grouped['flow_out']"
   ]
  },
  {
   "cell_type": "code",
   "execution_count": 126,
   "metadata": {
    "scrolled": false
   },
   "outputs": [
    {
     "data": {
      "text/html": [
       "<div>\n",
       "<style scoped>\n",
       "    .dataframe tbody tr th:only-of-type {\n",
       "        vertical-align: middle;\n",
       "    }\n",
       "\n",
       "    .dataframe tbody tr th {\n",
       "        vertical-align: top;\n",
       "    }\n",
       "\n",
       "    .dataframe thead th {\n",
       "        text-align: right;\n",
       "    }\n",
       "</style>\n",
       "<table border=\"1\" class=\"dataframe\">\n",
       "  <thead>\n",
       "    <tr style=\"text-align: right;\">\n",
       "      <th></th>\n",
       "      <th>station_id</th>\n",
       "      <th>year</th>\n",
       "      <th>flow_out</th>\n",
       "      <th>lat</th>\n",
       "      <th>lon</th>\n",
       "      <th>flow_in</th>\n",
       "      <th>flow_rate</th>\n",
       "    </tr>\n",
       "  </thead>\n",
       "  <tbody>\n",
       "    <tr>\n",
       "      <th>0</th>\n",
       "      <td>72.0</td>\n",
       "      <td>2019</td>\n",
       "      <td>42745</td>\n",
       "      <td>40.767273</td>\n",
       "      <td>-73.993927</td>\n",
       "      <td>42512</td>\n",
       "      <td>-233</td>\n",
       "    </tr>\n",
       "    <tr>\n",
       "      <th>1</th>\n",
       "      <td>79.0</td>\n",
       "      <td>2019</td>\n",
       "      <td>25668</td>\n",
       "      <td>40.719116</td>\n",
       "      <td>-74.006668</td>\n",
       "      <td>25984</td>\n",
       "      <td>316</td>\n",
       "    </tr>\n",
       "    <tr>\n",
       "      <th>2</th>\n",
       "      <td>82.0</td>\n",
       "      <td>2019</td>\n",
       "      <td>13102</td>\n",
       "      <td>40.711174</td>\n",
       "      <td>-74.000168</td>\n",
       "      <td>13106</td>\n",
       "      <td>4</td>\n",
       "    </tr>\n",
       "    <tr>\n",
       "      <th>3</th>\n",
       "      <td>83.0</td>\n",
       "      <td>2019</td>\n",
       "      <td>16761</td>\n",
       "      <td>40.683826</td>\n",
       "      <td>-73.976326</td>\n",
       "      <td>18807</td>\n",
       "      <td>2046</td>\n",
       "    </tr>\n",
       "    <tr>\n",
       "      <th>4</th>\n",
       "      <td>116.0</td>\n",
       "      <td>2019</td>\n",
       "      <td>47140</td>\n",
       "      <td>40.741776</td>\n",
       "      <td>-74.001495</td>\n",
       "      <td>47646</td>\n",
       "      <td>506</td>\n",
       "    </tr>\n",
       "    <tr>\n",
       "      <th>...</th>\n",
       "      <td>...</td>\n",
       "      <td>...</td>\n",
       "      <td>...</td>\n",
       "      <td>...</td>\n",
       "      <td>...</td>\n",
       "      <td>...</td>\n",
       "      <td>...</td>\n",
       "    </tr>\n",
       "    <tr>\n",
       "      <th>1034</th>\n",
       "      <td>3907.0</td>\n",
       "      <td>2019</td>\n",
       "      <td>49</td>\n",
       "      <td>40.701118</td>\n",
       "      <td>-73.930389</td>\n",
       "      <td>31</td>\n",
       "      <td>-18</td>\n",
       "    </tr>\n",
       "    <tr>\n",
       "      <th>1035</th>\n",
       "      <td>3908.0</td>\n",
       "      <td>2019</td>\n",
       "      <td>1438</td>\n",
       "      <td>40.704632</td>\n",
       "      <td>-74.015068</td>\n",
       "      <td>1474</td>\n",
       "      <td>36</td>\n",
       "    </tr>\n",
       "    <tr>\n",
       "      <th>1036</th>\n",
       "      <td>3909.0</td>\n",
       "      <td>2019</td>\n",
       "      <td>5</td>\n",
       "      <td>40.704079</td>\n",
       "      <td>-73.904083</td>\n",
       "      <td>5</td>\n",
       "      <td>0</td>\n",
       "    </tr>\n",
       "    <tr>\n",
       "      <th>1037</th>\n",
       "      <td>3910.0</td>\n",
       "      <td>2019</td>\n",
       "      <td>26</td>\n",
       "      <td>40.709698</td>\n",
       "      <td>-73.907860</td>\n",
       "      <td>29</td>\n",
       "      <td>3</td>\n",
       "    </tr>\n",
       "    <tr>\n",
       "      <th>1038</th>\n",
       "      <td>3911.0</td>\n",
       "      <td>2019</td>\n",
       "      <td>30</td>\n",
       "      <td>40.683426</td>\n",
       "      <td>-73.984276</td>\n",
       "      <td>49</td>\n",
       "      <td>19</td>\n",
       "    </tr>\n",
       "  </tbody>\n",
       "</table>\n",
       "<p>1039 rows × 7 columns</p>\n",
       "</div>"
      ],
      "text/plain": [
       "      station_id  year  flow_out        lat        lon  flow_in  flow_rate\n",
       "0           72.0  2019     42745  40.767273 -73.993927    42512       -233\n",
       "1           79.0  2019     25668  40.719116 -74.006668    25984        316\n",
       "2           82.0  2019     13102  40.711174 -74.000168    13106          4\n",
       "3           83.0  2019     16761  40.683826 -73.976326    18807       2046\n",
       "4          116.0  2019     47140  40.741776 -74.001495    47646        506\n",
       "...          ...   ...       ...        ...        ...      ...        ...\n",
       "1034      3907.0  2019        49  40.701118 -73.930389       31        -18\n",
       "1035      3908.0  2019      1438  40.704632 -74.015068     1474         36\n",
       "1036      3909.0  2019         5  40.704079 -73.904083        5          0\n",
       "1037      3910.0  2019        26  40.709698 -73.907860       29          3\n",
       "1038      3911.0  2019        30  40.683426 -73.984276       49         19\n",
       "\n",
       "[1039 rows x 7 columns]"
      ]
     },
     "execution_count": 126,
     "metadata": {},
     "output_type": "execute_result"
    }
   ],
   "source": [
    "# Check the new dataframe\n",
    "grouped"
   ]
  },
  {
   "cell_type": "code",
   "execution_count": 127,
   "metadata": {},
   "outputs": [],
   "source": [
    "grouped_index = grouped.reset_index()"
   ]
  },
  {
   "cell_type": "code",
   "execution_count": 128,
   "metadata": {},
   "outputs": [],
   "source": [
    "grouped_index = grouped_index.sort_values(by='flow_rate')"
   ]
  },
  {
   "cell_type": "code",
   "execution_count": 129,
   "metadata": {},
   "outputs": [
    {
     "data": {
      "text/plain": [
       "150"
      ]
     },
     "execution_count": 129,
     "metadata": {},
     "output_type": "execute_result"
    }
   ],
   "source": [
    "gc.collect()"
   ]
  },
  {
   "cell_type": "code",
   "execution_count": 130,
   "metadata": {
    "scrolled": false
   },
   "outputs": [
    {
     "data": {
      "text/plain": [
       "Text(0.5, 1.0, 'Flow Rate for Every Station')"
      ]
     },
     "execution_count": 130,
     "metadata": {},
     "output_type": "execute_result"
    },
    {
     "data": {
      "image/png": "[encoded data removed]",
      "text/plain": [
       "<Figure size 720x360 with 1 Axes>"
      ]
     },
     "metadata": {
      "needs_background": "light"
     },
     "output_type": "display_data"
    }
   ],
   "source": [
    "# Plot a scatter plot to see how far the flow rate is from 0\n",
    "fig,ax=plt.subplots(figsize=(10, 5))\n",
    "grouped_index[grouped_index['year']==2019].plot(kind='scatter', y='flow_rate', x='index', marker='.', label='2019', ax=ax, color='blue')\n",
    "grouped_index[grouped_index['year']==2020].plot(kind='scatter', y='flow_rate', x='index', marker='.', label='2020', ax=ax, color='red')\n",
    "grouped_index[grouped_index['year']==2021].plot(kind='scatter', y='flow_rate', x='index', marker='.', label='2021', ax=ax, color='orange')\n",
    "x_axis = ax.axes.get_xaxis()\n",
    "x_axis.set_visible(False)\n",
    "plt.xlabel=('Stations')\n",
    "plt.title('Flow Rate for Every Station')"
   ]
  },
  {
   "cell_type": "markdown",
   "metadata": {},
   "source": [
    "As expected, most stations' flow rates are near 0, meaning that the number of bikes coming in and out of each station are more or less the same.\n",
    "\n",
    "However, there are some stations where the flow rate does not equal 0. This means that Citi Bike is moving/re-allocating bikes. I want to focus on the stations farthest away from 0."
   ]
  },
  {
   "cell_type": "code",
   "execution_count": 131,
   "metadata": {},
   "outputs": [
    {
     "name": "stderr",
     "output_type": "stream",
     "text": [
      "<ipython-input-131-b828c559416b>:3: UserWarning:\n",
      "\n",
      "Boolean Series key will be reindexed to match DataFrame index.\n",
      "\n"
     ]
    }
   ],
   "source": [
    "# Get stations where the flow rate is greater than 3,000 or less than -3,000\n",
    "the_flow = 3000\n",
    "bad_flow = grouped[(grouped['flow_rate'] > the_flow) | (grouped['flow_rate'] < the_flow*-1)][grouped['year']==2019]"
   ]
  },
  {
   "cell_type": "code",
   "execution_count": 132,
   "metadata": {
    "scrolled": true
   },
   "outputs": [
    {
     "data": {
      "text/html": [
       "<div>\n",
       "<style scoped>\n",
       "    .dataframe tbody tr th:only-of-type {\n",
       "        vertical-align: middle;\n",
       "    }\n",
       "\n",
       "    .dataframe tbody tr th {\n",
       "        vertical-align: top;\n",
       "    }\n",
       "\n",
       "    .dataframe thead th {\n",
       "        text-align: right;\n",
       "    }\n",
       "</style>\n",
       "<table border=\"1\" class=\"dataframe\">\n",
       "  <thead>\n",
       "    <tr style=\"text-align: right;\">\n",
       "      <th></th>\n",
       "      <th>station_id</th>\n",
       "      <th>year</th>\n",
       "      <th>flow_out</th>\n",
       "      <th>lat</th>\n",
       "      <th>lon</th>\n",
       "      <th>flow_in</th>\n",
       "      <th>flow_rate</th>\n",
       "    </tr>\n",
       "  </thead>\n",
       "  <tbody>\n",
       "    <tr>\n",
       "      <th>24</th>\n",
       "      <td>217.0</td>\n",
       "      <td>2019</td>\n",
       "      <td>31185</td>\n",
       "      <td>40.702770</td>\n",
       "      <td>-73.993835</td>\n",
       "      <td>35662</td>\n",
       "      <td>4477</td>\n",
       "    </tr>\n",
       "    <tr>\n",
       "      <th>28</th>\n",
       "      <td>229.0</td>\n",
       "      <td>2019</td>\n",
       "      <td>74400</td>\n",
       "      <td>40.727436</td>\n",
       "      <td>-73.993790</td>\n",
       "      <td>77730</td>\n",
       "      <td>3330</td>\n",
       "    </tr>\n",
       "    <tr>\n",
       "      <th>69</th>\n",
       "      <td>293.0</td>\n",
       "      <td>2019</td>\n",
       "      <td>90288</td>\n",
       "      <td>40.730206</td>\n",
       "      <td>-73.991028</td>\n",
       "      <td>94601</td>\n",
       "      <td>4313</td>\n",
       "    </tr>\n",
       "    <tr>\n",
       "      <th>76</th>\n",
       "      <td>303.0</td>\n",
       "      <td>2019</td>\n",
       "      <td>46106</td>\n",
       "      <td>40.723629</td>\n",
       "      <td>-73.999496</td>\n",
       "      <td>49220</td>\n",
       "      <td>3114</td>\n",
       "    </tr>\n",
       "    <tr>\n",
       "      <th>77</th>\n",
       "      <td>304.0</td>\n",
       "      <td>2019</td>\n",
       "      <td>40322</td>\n",
       "      <td>40.704632</td>\n",
       "      <td>-74.013618</td>\n",
       "      <td>48095</td>\n",
       "      <td>7773</td>\n",
       "    </tr>\n",
       "  </tbody>\n",
       "</table>\n",
       "</div>"
      ],
      "text/plain": [
       "    station_id  year  flow_out        lat        lon  flow_in  flow_rate\n",
       "24       217.0  2019     31185  40.702770 -73.993835    35662       4477\n",
       "28       229.0  2019     74400  40.727436 -73.993790    77730       3330\n",
       "69       293.0  2019     90288  40.730206 -73.991028    94601       4313\n",
       "76       303.0  2019     46106  40.723629 -73.999496    49220       3114\n",
       "77       304.0  2019     40322  40.704632 -74.013618    48095       7773"
      ]
     },
     "execution_count": 132,
     "metadata": {},
     "output_type": "execute_result"
    }
   ],
   "source": [
    "bad_flow.head()"
   ]
  },
  {
   "cell_type": "code",
   "execution_count": 133,
   "metadata": {},
   "outputs": [
    {
     "data": {
      "text/plain": [
       "45"
      ]
     },
     "execution_count": 133,
     "metadata": {},
     "output_type": "execute_result"
    }
   ],
   "source": [
    "gc.collect()"
   ]
  },
  {
   "cell_type": "code",
   "execution_count": 134,
   "metadata": {
    "scrolled": false
   },
   "outputs": [
    {
     "data": {
      "application/vnd.plotly.v1+json": {
       "config": {
        "linkText": "Export to plot.ly",
        "plotlyServerURL": "https://plot.ly",
        "showLink": false
       },
       "data": [
        {
         "hovertemplate": "size=%{marker.size}<br>lat=%{lat}<br>lon=%{lon}<br>flow_rate=%{marker.color}<extra></extra>",
         "lat": [
          40.7027702331543,
          40.72743606567383,
          40.73020553588867,
          40.723628997802734,
          40.70463180541992,
          40.7149772644043,
          40.68988800048828,
          40.703800201416016,
          40.72243881225586,
          40.697601318359375,
          40.72521209716797,
          40.7403450012207,
          40.770511627197266,
          40.71754837036133,
          40.726219177246094,
          40.735877990722656,
          40.76526641845703,
          40.7370491027832,
          40.7691535949707,
          40.7608757019043,
          40.75157928466797,
          40.755943298339844,
          40.720367431640625,
          40.771636962890625,
          40.78018569946289,
          40.773406982421875,
          40.77705764770508,
          40.775794982910156,
          40.78679656982422,
          40.78274917602539,
          40.68962097167969,
          40.729515075683594,
          40.7882194519043,
          40.7912712097168,
          40.67502212524414,
          40.761329650878906,
          40.71485137939453,
          40.724945068359375,
          40.6707763671875,
          40.72019577026367,
          40.7014045715332,
          40.72966766357422,
          40.76673889160156,
          40.73056411743164
         ],
         "legendgroup": "",
         "lon": [
          -73.99383544921875,
          -73.99378967285156,
          -73.99102783203125,
          -73.99949645996094,
          -74.01361846923828,
          -74.01301574707031,
          -73.98101043701172,
          -74.00838470458984,
          -74.00566101074219,
          -73.99344635009766,
          -73.9776840209961,
          -73.98954772949219,
          -73.988037109375,
          -74.01322174072266,
          -73.98379516601562,
          -73.98204803466797,
          -73.98192596435547,
          -73.9900894165039,
          -73.98191833496094,
          -74.00277709960938,
          -73.97791290283203,
          -74.00211334228516,
          -73.9616470336914,
          -73.98261260986328,
          -73.97728729248047,
          -73.97782897949219,
          -73.9789810180664,
          -73.97620391845703,
          -73.97711181640625,
          -73.97136688232422,
          -73.98303985595703,
          -73.99075317382812,
          -73.97041320800781,
          -73.96483612060547,
          -73.97111511230469,
          -73.97982025146484,
          -74.01122283935547,
          -74.00165557861328,
          -73.95767974853516,
          -74.01029968261719,
          -73.98672485351562,
          -73.98068237304688,
          -73.97907257080078,
          -73.97398376464844
         ],
         "marker": {
          "color": [
           4477,
           3330,
           4313,
           3114,
           7773,
           3579,
           7108,
           3589,
           6610,
           -3859,
           -3500,
           10785,
           -3215,
           9105,
           -3837,
           -3454,
           -4493,
           4546,
           -4582,
           4381,
           -4800,
           3258,
           4027,
           -3554,
           -5663,
           -7220,
           -11599,
           -5997,
           -3386,
           -4415,
           3765,
           5108,
           -4072,
           -6133,
           -3652,
           4707,
           3273,
           6915,
           -3218,
           7743,
           5570,
           -5993,
           -3175,
           -3129
          ],
          "coloraxis": "coloraxis",
          "size": [
           10,
           10,
           10,
           10,
           10,
           10,
           10,
           10,
           10,
           10,
           10,
           10,
           10,
           10,
           10,
           10,
           10,
           10,
           10,
           10,
           10,
           10,
           10,
           10,
           10,
           10,
           10,
           10,
           10,
           10,
           10,
           10,
           10,
           10,
           10,
           10,
           10,
           10,
           10,
           10,
           10,
           10,
           10,
           10
          ],
          "sizemode": "area",
          "sizeref": 0.1
         },
         "mode": "markers",
         "name": "",
         "showlegend": false,
         "subplot": "mapbox",
         "type": "scattermapbox"
        }
       ],
       "layout": {
        "coloraxis": {
         "colorbar": {
          "title": {
           "text": "flow_rate"
          }
         },
         "colorscale": [
          [
           0,
           "#000000"
          ],
          [
           0.0625,
           "#001f4d"
          ],
          [
           0.125,
           "#003786"
          ],
          [
           0.1875,
           "#0e58a8"
          ],
          [
           0.25,
           "#217eb8"
          ],
          [
           0.3125,
           "#30a4ca"
          ],
          [
           0.375,
           "#54c8df"
          ],
          [
           0.4375,
           "#9be4ef"
          ],
          [
           0.5,
           "#e1e9d1"
          ],
          [
           0.5625,
           "#f3d573"
          ],
          [
           0.625,
           "#e7b000"
          ],
          [
           0.6875,
           "#da8200"
          ],
          [
           0.75,
           "#c65400"
          ],
          [
           0.8125,
           "#ac2301"
          ],
          [
           0.875,
           "#820000"
          ],
          [
           0.9375,
           "#4c0000"
          ],
          [
           1,
           "#000000"
          ]
         ]
        },
        "legend": {
         "itemsizing": "constant",
         "tracegroupgap": 0
        },
        "mapbox": {
         "center": {
          "lat": 40.73715591430664,
          "lon": -73.98701477050781
         },
         "domain": {
          "x": [
           0,
           1
          ],
          "y": [
           0,
           1
          ]
         },
         "style": "open-street-map",
         "zoom": 11
        },
        "margin": {
         "t": 60
        },
        "template": {
         "data": {
          "bar": [
           {
            "error_x": {
             "color": "#2a3f5f"
            },
            "error_y": {
             "color": "#2a3f5f"
            },
            "marker": {
             "line": {
              "color": "#E5ECF6",
              "width": 0.5
             }
            },
            "type": "bar"
           }
          ],
          "barpolar": [
           {
            "marker": {
             "line": {
              "color": "#E5ECF6",
              "width": 0.5
             }
            },
            "type": "barpolar"
           }
          ],
          "carpet": [
           {
            "aaxis": {
             "endlinecolor": "#2a3f5f",
             "gridcolor": "white",
             "linecolor": "white",
             "minorgridcolor": "white",
             "startlinecolor": "#2a3f5f"
            },
            "baxis": {
             "endlinecolor": "#2a3f5f",
             "gridcolor": "white",
             "linecolor": "white",
             "minorgridcolor": "white",
             "startlinecolor": "#2a3f5f"
            },
            "type": "carpet"
           }
          ],
          "choropleth": [
           {
            "colorbar": {
             "outlinewidth": 0,
             "ticks": ""
            },
            "type": "choropleth"
           }
          ],
          "contour": [
           {
            "colorbar": {
             "outlinewidth": 0,
             "ticks": ""
            },
            "colorscale": [
             [
              0,
              "#0d0887"
             ],
             [
              0.1111111111111111,
              "#46039f"
             ],
             [
              0.2222222222222222,
              "#7201a8"
             ],
             [
              0.3333333333333333,
              "#9c179e"
             ],
             [
              0.4444444444444444,
              "#bd3786"
             ],
             [
              0.5555555555555556,
              "#d8576b"
             ],
             [
              0.6666666666666666,
              "#ed7953"
             ],
             [
              0.7777777777777778,
              "#fb9f3a"
             ],
             [
              0.8888888888888888,
              "#fdca26"
             ],
             [
              1,
              "#f0f921"
             ]
            ],
            "type": "contour"
           }
          ],
          "contourcarpet": [
           {
            "colorbar": {
             "outlinewidth": 0,
             "ticks": ""
            },
            "type": "contourcarpet"
           }
          ],
          "heatmap": [
           {
            "colorbar": {
             "outlinewidth": 0,
             "ticks": ""
            },
            "colorscale": [
             [
              0,
              "#0d0887"
             ],
             [
              0.1111111111111111,
              "#46039f"
             ],
             [
              0.2222222222222222,
              "#7201a8"
             ],
             [
              0.3333333333333333,
              "#9c179e"
             ],
             [
              0.4444444444444444,
              "#bd3786"
             ],
             [
              0.5555555555555556,
              "#d8576b"
             ],
             [
              0.6666666666666666,
              "#ed7953"
             ],
             [
              0.7777777777777778,
              "#fb9f3a"
             ],
             [
              0.8888888888888888,
              "#fdca26"
             ],
             [
              1,
              "#f0f921"
             ]
            ],
            "type": "heatmap"
           }
          ],
          "heatmapgl": [
           {
            "colorbar": {
             "outlinewidth": 0,
             "ticks": ""
            },
            "colorscale": [
             [
              0,
              "#0d0887"
             ],
             [
              0.1111111111111111,
              "#46039f"
             ],
             [
              0.2222222222222222,
              "#7201a8"
             ],
             [
              0.3333333333333333,
              "#9c179e"
             ],
             [
              0.4444444444444444,
              "#bd3786"
             ],
             [
              0.5555555555555556,
              "#d8576b"
             ],
             [
              0.6666666666666666,
              "#ed7953"
             ],
             [
              0.7777777777777778,
              "#fb9f3a"
             ],
             [
              0.8888888888888888,
              "#fdca26"
             ],
             [
              1,
              "#f0f921"
             ]
            ],
            "type": "heatmapgl"
           }
          ],
          "histogram": [
           {
            "marker": {
             "colorbar": {
              "outlinewidth": 0,
              "ticks": ""
             }
            },
            "type": "histogram"
           }
          ],
          "histogram2d": [
           {
            "colorbar": {
             "outlinewidth": 0,
             "ticks": ""
            },
            "colorscale": [
             [
              0,
              "#0d0887"
             ],
             [
              0.1111111111111111,
              "#46039f"
             ],
             [
              0.2222222222222222,
              "#7201a8"
             ],
             [
              0.3333333333333333,
              "#9c179e"
             ],
             [
              0.4444444444444444,
              "#bd3786"
             ],
             [
              0.5555555555555556,
              "#d8576b"
             ],
             [
              0.6666666666666666,
              "#ed7953"
             ],
             [
              0.7777777777777778,
              "#fb9f3a"
             ],
             [
              0.8888888888888888,
              "#fdca26"
             ],
             [
              1,
              "#f0f921"
             ]
            ],
            "type": "histogram2d"
           }
          ],
          "histogram2dcontour": [
           {
            "colorbar": {
             "outlinewidth": 0,
             "ticks": ""
            },
            "colorscale": [
             [
              0,
              "#0d0887"
             ],
             [
              0.1111111111111111,
              "#46039f"
             ],
             [
              0.2222222222222222,
              "#7201a8"
             ],
             [
              0.3333333333333333,
              "#9c179e"
             ],
             [
              0.4444444444444444,
              "#bd3786"
             ],
             [
              0.5555555555555556,
              "#d8576b"
             ],
             [
              0.6666666666666666,
              "#ed7953"
             ],
             [
              0.7777777777777778,
              "#fb9f3a"
             ],
             [
              0.8888888888888888,
              "#fdca26"
             ],
             [
              1,
              "#f0f921"
             ]
            ],
            "type": "histogram2dcontour"
           }
          ],
          "mesh3d": [
           {
            "colorbar": {
             "outlinewidth": 0,
             "ticks": ""
            },
            "type": "mesh3d"
           }
          ],
          "parcoords": [
           {
            "line": {
             "colorbar": {
              "outlinewidth": 0,
              "ticks": ""
             }
            },
            "type": "parcoords"
           }
          ],
          "pie": [
           {
            "automargin": true,
            "type": "pie"
           }
          ],
          "scatter": [
           {
            "marker": {
             "colorbar": {
              "outlinewidth": 0,
              "ticks": ""
             }
            },
            "type": "scatter"
           }
          ],
          "scatter3d": [
           {
            "line": {
             "colorbar": {
              "outlinewidth": 0,
              "ticks": ""
             }
            },
            "marker": {
             "colorbar": {
              "outlinewidth": 0,
              "ticks": ""
             }
            },
            "type": "scatter3d"
           }
          ],
          "scattercarpet": [
           {
            "marker": {
             "colorbar": {
              "outlinewidth": 0,
              "ticks": ""
             }
            },
            "type": "scattercarpet"
           }
          ],
          "scattergeo": [
           {
            "marker": {
             "colorbar": {
              "outlinewidth": 0,
              "ticks": ""
             }
            },
            "type": "scattergeo"
           }
          ],
          "scattergl": [
           {
            "marker": {
             "colorbar": {
              "outlinewidth": 0,
              "ticks": ""
             }
            },
            "type": "scattergl"
           }
          ],
          "scattermapbox": [
           {
            "marker": {
             "colorbar": {
              "outlinewidth": 0,
              "ticks": ""
             }
            },
            "type": "scattermapbox"
           }
          ],
          "scatterpolar": [
           {
            "marker": {
             "colorbar": {
              "outlinewidth": 0,
              "ticks": ""
             }
            },
            "type": "scatterpolar"
           }
          ],
          "scatterpolargl": [
           {
            "marker": {
             "colorbar": {
              "outlinewidth": 0,
              "ticks": ""
             }
            },
            "type": "scatterpolargl"
           }
          ],
          "scatterternary": [
           {
            "marker": {
             "colorbar": {
              "outlinewidth": 0,
              "ticks": ""
             }
            },
            "type": "scatterternary"
           }
          ],
          "surface": [
           {
            "colorbar": {
             "outlinewidth": 0,
             "ticks": ""
            },
            "colorscale": [
             [
              0,
              "#0d0887"
             ],
             [
              0.1111111111111111,
              "#46039f"
             ],
             [
              0.2222222222222222,
              "#7201a8"
             ],
             [
              0.3333333333333333,
              "#9c179e"
             ],
             [
              0.4444444444444444,
              "#bd3786"
             ],
             [
              0.5555555555555556,
              "#d8576b"
             ],
             [
              0.6666666666666666,
              "#ed7953"
             ],
             [
              0.7777777777777778,
              "#fb9f3a"
             ],
             [
              0.8888888888888888,
              "#fdca26"
             ],
             [
              1,
              "#f0f921"
             ]
            ],
            "type": "surface"
           }
          ],
          "table": [
           {
            "cells": {
             "fill": {
              "color": "#EBF0F8"
             },
             "line": {
              "color": "white"
             }
            },
            "header": {
             "fill": {
              "color": "#C8D4E3"
             },
             "line": {
              "color": "white"
             }
            },
            "type": "table"
           }
          ]
         },
         "layout": {
          "annotationdefaults": {
           "arrowcolor": "#2a3f5f",
           "arrowhead": 0,
           "arrowwidth": 1
          },
          "autotypenumbers": "strict",
          "coloraxis": {
           "colorbar": {
            "outlinewidth": 0,
            "ticks": ""
           }
          },
          "colorscale": {
           "diverging": [
            [
             0,
             "#8e0152"
            ],
            [
             0.1,
             "#c51b7d"
            ],
            [
             0.2,
             "#de77ae"
            ],
            [
             0.3,
             "#f1b6da"
            ],
            [
             0.4,
             "#fde0ef"
            ],
            [
             0.5,
             "#f7f7f7"
            ],
            [
             0.6,
             "#e6f5d0"
            ],
            [
             0.7,
             "#b8e186"
            ],
            [
             0.8,
             "#7fbc41"
            ],
            [
             0.9,
             "#4d9221"
            ],
            [
             1,
             "#276419"
            ]
           ],
           "sequential": [
            [
             0,
             "#0d0887"
            ],
            [
             0.1111111111111111,
             "#46039f"
            ],
            [
             0.2222222222222222,
             "#7201a8"
            ],
            [
             0.3333333333333333,
             "#9c179e"
            ],
            [
             0.4444444444444444,
             "#bd3786"
            ],
            [
             0.5555555555555556,
             "#d8576b"
            ],
            [
             0.6666666666666666,
             "#ed7953"
            ],
            [
             0.7777777777777778,
             "#fb9f3a"
            ],
            [
             0.8888888888888888,
             "#fdca26"
            ],
            [
             1,
             "#f0f921"
            ]
           ],
           "sequentialminus": [
            [
             0,
             "#0d0887"
            ],
            [
             0.1111111111111111,
             "#46039f"
            ],
            [
             0.2222222222222222,
             "#7201a8"
            ],
            [
             0.3333333333333333,
             "#9c179e"
            ],
            [
             0.4444444444444444,
             "#bd3786"
            ],
            [
             0.5555555555555556,
             "#d8576b"
            ],
            [
             0.6666666666666666,
             "#ed7953"
            ],
            [
             0.7777777777777778,
             "#fb9f3a"
            ],
            [
             0.8888888888888888,
             "#fdca26"
            ],
            [
             1,
             "#f0f921"
            ]
           ]
          },
          "colorway": [
           "#636efa",
           "#EF553B",
           "#00cc96",
           "#ab63fa",
           "#FFA15A",
           "#19d3f3",
           "#FF6692",
           "#B6E880",
           "#FF97FF",
           "#FECB52"
          ],
          "font": {
           "color": "#2a3f5f"
          },
          "geo": {
           "bgcolor": "white",
           "lakecolor": "white",
           "landcolor": "#E5ECF6",
           "showlakes": true,
           "showland": true,
           "subunitcolor": "white"
          },
          "hoverlabel": {
           "align": "left"
          },
          "hovermode": "closest",
          "mapbox": {
           "style": "light"
          },
          "paper_bgcolor": "white",
          "plot_bgcolor": "#E5ECF6",
          "polar": {
           "angularaxis": {
            "gridcolor": "white",
            "linecolor": "white",
            "ticks": ""
           },
           "bgcolor": "#E5ECF6",
           "radialaxis": {
            "gridcolor": "white",
            "linecolor": "white",
            "ticks": ""
           }
          },
          "scene": {
           "xaxis": {
            "backgroundcolor": "#E5ECF6",
            "gridcolor": "white",
            "gridwidth": 2,
            "linecolor": "white",
            "showbackground": true,
            "ticks": "",
            "zerolinecolor": "white"
           },
           "yaxis": {
            "backgroundcolor": "#E5ECF6",
            "gridcolor": "white",
            "gridwidth": 2,
            "linecolor": "white",
            "showbackground": true,
            "ticks": "",
            "zerolinecolor": "white"
           },
           "zaxis": {
            "backgroundcolor": "#E5ECF6",
            "gridcolor": "white",
            "gridwidth": 2,
            "linecolor": "white",
            "showbackground": true,
            "ticks": "",
            "zerolinecolor": "white"
           }
          },
          "shapedefaults": {
           "line": {
            "color": "#2a3f5f"
           }
          },
          "ternary": {
           "aaxis": {
            "gridcolor": "white",
            "linecolor": "white",
            "ticks": ""
           },
           "baxis": {
            "gridcolor": "white",
            "linecolor": "white",
            "ticks": ""
           },
           "bgcolor": "#E5ECF6",
           "caxis": {
            "gridcolor": "white",
            "linecolor": "white",
            "ticks": ""
           }
          },
          "title": {
           "x": 0.05
          },
          "xaxis": {
           "automargin": true,
           "gridcolor": "white",
           "linecolor": "white",
           "ticks": "",
           "title": {
            "standoff": 15
           },
           "zerolinecolor": "white",
           "zerolinewidth": 2
          },
          "yaxis": {
           "automargin": true,
           "gridcolor": "white",
           "linecolor": "white",
           "ticks": "",
           "title": {
            "standoff": 15
           },
           "zerolinecolor": "white",
           "zerolinewidth": 2
          }
         }
        }
       }
      },
      "text/html": [
       "<div>                            <div id=\"db934ff2-35af-481a-97a7-92bc49d00a88\" class=\"plotly-graph-div\" style=\"height:525px; width:100%;\"></div>            <script type=\"text/javascript\">                require([\"plotly\"], function(Plotly) {                    window.PLOTLYENV=window.PLOTLYENV || {};                                    if (document.getElementById(\"db934ff2-35af-481a-97a7-92bc49d00a88\")) {                    Plotly.newPlot(                        \"db934ff2-35af-481a-97a7-92bc49d00a88\",                        [{\"hovertemplate\": \"size=%{marker.size}<br>lat=%{lat}<br>lon=%{lon}<br>flow_rate=%{marker.color}<extra></extra>\", \"lat\": [40.7027702331543, 40.72743606567383, 40.73020553588867, 40.723628997802734, 40.70463180541992, 40.7149772644043, 40.68988800048828, 40.703800201416016, 40.72243881225586, 40.697601318359375, 40.72521209716797, 40.7403450012207, 40.770511627197266, 40.71754837036133, 40.726219177246094, 40.735877990722656, 40.76526641845703, 40.7370491027832, 40.7691535949707, 40.7608757019043, 40.75157928466797, 40.755943298339844, 40.720367431640625, 40.771636962890625, 40.78018569946289, 40.773406982421875, 40.77705764770508, 40.775794982910156, 40.78679656982422, 40.78274917602539, 40.68962097167969, 40.729515075683594, 40.7882194519043, 40.7912712097168, 40.67502212524414, 40.761329650878906, 40.71485137939453, 40.724945068359375, 40.6707763671875, 40.72019577026367, 40.7014045715332, 40.72966766357422, 40.76673889160156, 40.73056411743164], \"legendgroup\": \"\", \"lon\": [-73.99383544921875, -73.99378967285156, -73.99102783203125, -73.99949645996094, -74.01361846923828, -74.01301574707031, -73.98101043701172, -74.00838470458984, -74.00566101074219, -73.99344635009766, -73.9776840209961, -73.98954772949219, -73.988037109375, -74.01322174072266, -73.98379516601562, -73.98204803466797, -73.98192596435547, -73.9900894165039, -73.98191833496094, -74.00277709960938, -73.97791290283203, -74.00211334228516, -73.9616470336914, -73.98261260986328, -73.97728729248047, -73.97782897949219, -73.9789810180664, -73.97620391845703, -73.97711181640625, -73.97136688232422, -73.98303985595703, -73.99075317382812, -73.97041320800781, -73.96483612060547, -73.97111511230469, -73.97982025146484, -74.01122283935547, -74.00165557861328, -73.95767974853516, -74.01029968261719, -73.98672485351562, -73.98068237304688, -73.97907257080078, -73.97398376464844], \"marker\": {\"color\": [4477, 3330, 4313, 3114, 7773, 3579, 7108, 3589, 6610, -3859, -3500, 10785, -3215, 9105, -3837, -3454, -4493, 4546, -4582, 4381, -4800, 3258, 4027, -3554, -5663, -7220, -11599, -5997, -3386, -4415, 3765, 5108, -4072, -6133, -3652, 4707, 3273, 6915, -3218, 7743, 5570, -5993, -3175, -3129], \"coloraxis\": \"coloraxis\", \"size\": [10, 10, 10, 10, 10, 10, 10, 10, 10, 10, 10, 10, 10, 10, 10, 10, 10, 10, 10, 10, 10, 10, 10, 10, 10, 10, 10, 10, 10, 10, 10, 10, 10, 10, 10, 10, 10, 10, 10, 10, 10, 10, 10, 10], \"sizemode\": \"area\", \"sizeref\": 0.1}, \"mode\": \"markers\", \"name\": \"\", \"showlegend\": false, \"subplot\": \"mapbox\", \"type\": \"scattermapbox\"}],                        {\"coloraxis\": {\"colorbar\": {\"title\": {\"text\": \"flow_rate\"}}, \"colorscale\": [[0.0, \"#000000\"], [0.0625, \"#001f4d\"], [0.125, \"#003786\"], [0.1875, \"#0e58a8\"], [0.25, \"#217eb8\"], [0.3125, \"#30a4ca\"], [0.375, \"#54c8df\"], [0.4375, \"#9be4ef\"], [0.5, \"#e1e9d1\"], [0.5625, \"#f3d573\"], [0.625, \"#e7b000\"], [0.6875, \"#da8200\"], [0.75, \"#c65400\"], [0.8125, \"#ac2301\"], [0.875, \"#820000\"], [0.9375, \"#4c0000\"], [1.0, \"#000000\"]]}, \"legend\": {\"itemsizing\": \"constant\", \"tracegroupgap\": 0}, \"mapbox\": {\"center\": {\"lat\": 40.73715591430664, \"lon\": -73.98701477050781}, \"domain\": {\"x\": [0.0, 1.0], \"y\": [0.0, 1.0]}, \"style\": \"open-street-map\", \"zoom\": 11}, \"margin\": {\"t\": 60}, \"template\": {\"data\": {\"bar\": [{\"error_x\": {\"color\": \"#2a3f5f\"}, \"error_y\": {\"color\": \"#2a3f5f\"}, \"marker\": {\"line\": {\"color\": \"#E5ECF6\", \"width\": 0.5}}, \"type\": \"bar\"}], \"barpolar\": [{\"marker\": {\"line\": {\"color\": \"#E5ECF6\", \"width\": 0.5}}, \"type\": \"barpolar\"}], \"carpet\": [{\"aaxis\": {\"endlinecolor\": \"#2a3f5f\", \"gridcolor\": \"white\", \"linecolor\": \"white\", \"minorgridcolor\": \"white\", \"startlinecolor\": \"#2a3f5f\"}, \"baxis\": {\"endlinecolor\": \"#2a3f5f\", \"gridcolor\": \"white\", \"linecolor\": \"white\", \"minorgridcolor\": \"white\", \"startlinecolor\": \"#2a3f5f\"}, \"type\": \"carpet\"}], \"choropleth\": [{\"colorbar\": {\"outlinewidth\": 0, \"ticks\": \"\"}, \"type\": \"choropleth\"}], \"contour\": [{\"colorbar\": {\"outlinewidth\": 0, \"ticks\": \"\"}, \"colorscale\": [[0.0, \"#0d0887\"], [0.1111111111111111, \"#46039f\"], [0.2222222222222222, \"#7201a8\"], [0.3333333333333333, \"#9c179e\"], [0.4444444444444444, \"#bd3786\"], [0.5555555555555556, \"#d8576b\"], [0.6666666666666666, \"#ed7953\"], [0.7777777777777778, \"#fb9f3a\"], [0.8888888888888888, \"#fdca26\"], [1.0, \"#f0f921\"]], \"type\": \"contour\"}], \"contourcarpet\": [{\"colorbar\": {\"outlinewidth\": 0, \"ticks\": \"\"}, \"type\": \"contourcarpet\"}], \"heatmap\": [{\"colorbar\": {\"outlinewidth\": 0, \"ticks\": \"\"}, \"colorscale\": [[0.0, \"#0d0887\"], [0.1111111111111111, \"#46039f\"], [0.2222222222222222, \"#7201a8\"], [0.3333333333333333, \"#9c179e\"], [0.4444444444444444, \"#bd3786\"], [0.5555555555555556, \"#d8576b\"], [0.6666666666666666, \"#ed7953\"], [0.7777777777777778, \"#fb9f3a\"], [0.8888888888888888, \"#fdca26\"], [1.0, \"#f0f921\"]], \"type\": \"heatmap\"}], \"heatmapgl\": [{\"colorbar\": {\"outlinewidth\": 0, \"ticks\": \"\"}, \"colorscale\": [[0.0, \"#0d0887\"], [0.1111111111111111, \"#46039f\"], [0.2222222222222222, \"#7201a8\"], [0.3333333333333333, \"#9c179e\"], [0.4444444444444444, \"#bd3786\"], [0.5555555555555556, \"#d8576b\"], [0.6666666666666666, \"#ed7953\"], [0.7777777777777778, \"#fb9f3a\"], [0.8888888888888888, \"#fdca26\"], [1.0, \"#f0f921\"]], \"type\": \"heatmapgl\"}], \"histogram\": [{\"marker\": {\"colorbar\": {\"outlinewidth\": 0, \"ticks\": \"\"}}, \"type\": \"histogram\"}], \"histogram2d\": [{\"colorbar\": {\"outlinewidth\": 0, \"ticks\": \"\"}, \"colorscale\": [[0.0, \"#0d0887\"], [0.1111111111111111, \"#46039f\"], [0.2222222222222222, \"#7201a8\"], [0.3333333333333333, \"#9c179e\"], [0.4444444444444444, \"#bd3786\"], [0.5555555555555556, \"#d8576b\"], [0.6666666666666666, \"#ed7953\"], [0.7777777777777778, \"#fb9f3a\"], [0.8888888888888888, \"#fdca26\"], [1.0, \"#f0f921\"]], \"type\": \"histogram2d\"}], \"histogram2dcontour\": [{\"colorbar\": {\"outlinewidth\": 0, \"ticks\": \"\"}, \"colorscale\": [[0.0, \"#0d0887\"], [0.1111111111111111, \"#46039f\"], [0.2222222222222222, \"#7201a8\"], [0.3333333333333333, \"#9c179e\"], [0.4444444444444444, \"#bd3786\"], [0.5555555555555556, \"#d8576b\"], [0.6666666666666666, \"#ed7953\"], [0.7777777777777778, \"#fb9f3a\"], [0.8888888888888888, \"#fdca26\"], [1.0, \"#f0f921\"]], \"type\": \"histogram2dcontour\"}], \"mesh3d\": [{\"colorbar\": {\"outlinewidth\": 0, \"ticks\": \"\"}, \"type\": \"mesh3d\"}], \"parcoords\": [{\"line\": {\"colorbar\": {\"outlinewidth\": 0, \"ticks\": \"\"}}, \"type\": \"parcoords\"}], \"pie\": [{\"automargin\": true, \"type\": \"pie\"}], \"scatter\": [{\"marker\": {\"colorbar\": {\"outlinewidth\": 0, \"ticks\": \"\"}}, \"type\": \"scatter\"}], \"scatter3d\": [{\"line\": {\"colorbar\": {\"outlinewidth\": 0, \"ticks\": \"\"}}, \"marker\": {\"colorbar\": {\"outlinewidth\": 0, \"ticks\": \"\"}}, \"type\": \"scatter3d\"}], \"scattercarpet\": [{\"marker\": {\"colorbar\": {\"outlinewidth\": 0, \"ticks\": \"\"}}, \"type\": \"scattercarpet\"}], \"scattergeo\": [{\"marker\": {\"colorbar\": {\"outlinewidth\": 0, \"ticks\": \"\"}}, \"type\": \"scattergeo\"}], \"scattergl\": [{\"marker\": {\"colorbar\": {\"outlinewidth\": 0, \"ticks\": \"\"}}, \"type\": \"scattergl\"}], \"scattermapbox\": [{\"marker\": {\"colorbar\": {\"outlinewidth\": 0, \"ticks\": \"\"}}, \"type\": \"scattermapbox\"}], \"scatterpolar\": [{\"marker\": {\"colorbar\": {\"outlinewidth\": 0, \"ticks\": \"\"}}, \"type\": \"scatterpolar\"}], \"scatterpolargl\": [{\"marker\": {\"colorbar\": {\"outlinewidth\": 0, \"ticks\": \"\"}}, \"type\": \"scatterpolargl\"}], \"scatterternary\": [{\"marker\": {\"colorbar\": {\"outlinewidth\": 0, \"ticks\": \"\"}}, \"type\": \"scatterternary\"}], \"surface\": [{\"colorbar\": {\"outlinewidth\": 0, \"ticks\": \"\"}, \"colorscale\": [[0.0, \"#0d0887\"], [0.1111111111111111, \"#46039f\"], [0.2222222222222222, \"#7201a8\"], [0.3333333333333333, \"#9c179e\"], [0.4444444444444444, \"#bd3786\"], [0.5555555555555556, \"#d8576b\"], [0.6666666666666666, \"#ed7953\"], [0.7777777777777778, \"#fb9f3a\"], [0.8888888888888888, \"#fdca26\"], [1.0, \"#f0f921\"]], \"type\": \"surface\"}], \"table\": [{\"cells\": {\"fill\": {\"color\": \"#EBF0F8\"}, \"line\": {\"color\": \"white\"}}, \"header\": {\"fill\": {\"color\": \"#C8D4E3\"}, \"line\": {\"color\": \"white\"}}, \"type\": \"table\"}]}, \"layout\": {\"annotationdefaults\": {\"arrowcolor\": \"#2a3f5f\", \"arrowhead\": 0, \"arrowwidth\": 1}, \"autotypenumbers\": \"strict\", \"coloraxis\": {\"colorbar\": {\"outlinewidth\": 0, \"ticks\": \"\"}}, \"colorscale\": {\"diverging\": [[0, \"#8e0152\"], [0.1, \"#c51b7d\"], [0.2, \"#de77ae\"], [0.3, \"#f1b6da\"], [0.4, \"#fde0ef\"], [0.5, \"#f7f7f7\"], [0.6, \"#e6f5d0\"], [0.7, \"#b8e186\"], [0.8, \"#7fbc41\"], [0.9, \"#4d9221\"], [1, \"#276419\"]], \"sequential\": [[0.0, \"#0d0887\"], [0.1111111111111111, \"#46039f\"], [0.2222222222222222, \"#7201a8\"], [0.3333333333333333, \"#9c179e\"], [0.4444444444444444, \"#bd3786\"], [0.5555555555555556, \"#d8576b\"], [0.6666666666666666, \"#ed7953\"], [0.7777777777777778, \"#fb9f3a\"], [0.8888888888888888, \"#fdca26\"], [1.0, \"#f0f921\"]], \"sequentialminus\": [[0.0, \"#0d0887\"], [0.1111111111111111, \"#46039f\"], [0.2222222222222222, \"#7201a8\"], [0.3333333333333333, \"#9c179e\"], [0.4444444444444444, \"#bd3786\"], [0.5555555555555556, \"#d8576b\"], [0.6666666666666666, \"#ed7953\"], [0.7777777777777778, \"#fb9f3a\"], [0.8888888888888888, \"#fdca26\"], [1.0, \"#f0f921\"]]}, \"colorway\": [\"#636efa\", \"#EF553B\", \"#00cc96\", \"#ab63fa\", \"#FFA15A\", \"#19d3f3\", \"#FF6692\", \"#B6E880\", \"#FF97FF\", \"#FECB52\"], \"font\": {\"color\": \"#2a3f5f\"}, \"geo\": {\"bgcolor\": \"white\", \"lakecolor\": \"white\", \"landcolor\": \"#E5ECF6\", \"showlakes\": true, \"showland\": true, \"subunitcolor\": \"white\"}, \"hoverlabel\": {\"align\": \"left\"}, \"hovermode\": \"closest\", \"mapbox\": {\"style\": \"light\"}, \"paper_bgcolor\": \"white\", \"plot_bgcolor\": \"#E5ECF6\", \"polar\": {\"angularaxis\": {\"gridcolor\": \"white\", \"linecolor\": \"white\", \"ticks\": \"\"}, \"bgcolor\": \"#E5ECF6\", \"radialaxis\": {\"gridcolor\": \"white\", \"linecolor\": \"white\", \"ticks\": \"\"}}, \"scene\": {\"xaxis\": {\"backgroundcolor\": \"#E5ECF6\", \"gridcolor\": \"white\", \"gridwidth\": 2, \"linecolor\": \"white\", \"showbackground\": true, \"ticks\": \"\", \"zerolinecolor\": \"white\"}, \"yaxis\": {\"backgroundcolor\": \"#E5ECF6\", \"gridcolor\": \"white\", \"gridwidth\": 2, \"linecolor\": \"white\", \"showbackground\": true, \"ticks\": \"\", \"zerolinecolor\": \"white\"}, \"zaxis\": {\"backgroundcolor\": \"#E5ECF6\", \"gridcolor\": \"white\", \"gridwidth\": 2, \"linecolor\": \"white\", \"showbackground\": true, \"ticks\": \"\", \"zerolinecolor\": \"white\"}}, \"shapedefaults\": {\"line\": {\"color\": \"#2a3f5f\"}}, \"ternary\": {\"aaxis\": {\"gridcolor\": \"white\", \"linecolor\": \"white\", \"ticks\": \"\"}, \"baxis\": {\"gridcolor\": \"white\", \"linecolor\": \"white\", \"ticks\": \"\"}, \"bgcolor\": \"#E5ECF6\", \"caxis\": {\"gridcolor\": \"white\", \"linecolor\": \"white\", \"ticks\": \"\"}}, \"title\": {\"x\": 0.05}, \"xaxis\": {\"automargin\": true, \"gridcolor\": \"white\", \"linecolor\": \"white\", \"ticks\": \"\", \"title\": {\"standoff\": 15}, \"zerolinecolor\": \"white\", \"zerolinewidth\": 2}, \"yaxis\": {\"automargin\": true, \"gridcolor\": \"white\", \"linecolor\": \"white\", \"ticks\": \"\", \"title\": {\"standoff\": 15}, \"zerolinecolor\": \"white\", \"zerolinewidth\": 2}}}},                        {\"responsive\": true}                    ).then(function(){\n",
       "                            \n",
       "var gd = document.getElementById('db934ff2-35af-481a-97a7-92bc49d00a88');\n",
       "var x = new MutationObserver(function (mutations, observer) {{\n",
       "        var display = window.getComputedStyle(gd).display;\n",
       "        if (!display || display === 'none') {{\n",
       "            console.log([gd, 'removed!']);\n",
       "            Plotly.purge(gd);\n",
       "            observer.disconnect();\n",
       "        }}\n",
       "}});\n",
       "\n",
       "// Listen for the removal of the full notebook cells\n",
       "var notebookContainer = gd.closest('#notebook-container');\n",
       "if (notebookContainer) {{\n",
       "    x.observe(notebookContainer, {childList: true});\n",
       "}}\n",
       "\n",
       "// Listen for the clearing of the current output cell\n",
       "var outputEl = gd.closest('.output');\n",
       "if (outputEl) {{\n",
       "    x.observe(outputEl, {childList: true});\n",
       "}}\n",
       "\n",
       "                        })                };                });            </script>        </div>"
      ]
     },
     "metadata": {},
     "output_type": "display_data"
    }
   ],
   "source": [
    "figflow = px.scatter_mapbox(bad_flow,\n",
    "                            lat='lat',\n",
    "                            lon='lon',\n",
    "                            color='flow_rate',\n",
    "                            color_continuous_scale='IceFire',\n",
    "                            size=([10]*len(bad_flow['station_id'])),\n",
    "                            size_max=10,\n",
    "                            zoom=11,\n",
    ")\n",
    "\n",
    "plotly.offline.iplot(figflow.update_layout(mapbox_style=\"open-street-map\"), filename='flow.png')"
   ]
  },
  {
   "cell_type": "markdown",
   "metadata": {},
   "source": [
    "# ✨ Insights"
   ]
  },
  {
   "cell_type": "markdown",
   "metadata": {},
   "source": [
    "Citi Bike has a problem that bike stations are over and under allocated accross the city. As a result, Citi has to pay to reallocate bikes across stations regularly using box trucks and vans, which are a major cost. To save money, Citi can incentivize the riders to do the reallocation for them. Using a 'flow rate' metric, we can identify the under and over allocated stations. The incentive is simply to promote bike drop off at under allocated stations, and promote bike pick up at over allocated stations.\n",
    "\n",
    "The map above includes stations that are over-allocated, represented by the red dots, and under-allocated, represented by the blue dots.\n",
    "\n",
    "Assuming Citi Bike has more granular information on where a user normally picks up and drops off a bike, if there are two nearby points on the map with opposite colors, Citi Bike can offer a promotion to a user to either:\n",
    "- Pick up a bike from a nearby red station instead of a blue one\n",
    "- Return a bike to a nearby blue station instead of a red one\n",
    "- A combination of the two\n",
    "\n",
    "The promotion should first be offered to Customers who are of Unknown gender, since they make up the most revenue, and this would incentivize them to ride more. If there still aren't enough bikes being reallocated in the popular stations,  Male Customers should be offered the promotion, and lastly Female Customers.\n",
    "\n",
    "This promotion should not be offered to Subscribers, as their rides don't produce revenue. "
   ]
  }
 ],
 "metadata": {
  "kernelspec": {
   "display_name": "Python 3",
   "language": "python",
   "name": "python3"
  },
  "language_info": {
   "codemirror_mode": {
    "name": "ipython",
    "version": 3
   },
   "file_extension": ".py",
   "mimetype": "text/x-python",
   "name": "python",
   "nbconvert_exporter": "python",
   "pygments_lexer": "ipython3",
   "version": "3.8.6"
  }
 },
 "nbformat": 4,
 "nbformat_minor": 4
}
